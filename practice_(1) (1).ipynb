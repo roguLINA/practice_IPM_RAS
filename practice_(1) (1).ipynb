{
 "cells": [
  {
   "cell_type": "markdown",
   "metadata": {
    "colab_type": "text",
    "id": "XbNsq0UnW3fb"
   },
   "source": [
    "## Подключение библиотек и задание параметров по умолчанию"
   ]
  },
  {
   "cell_type": "code",
   "execution_count": null,
   "metadata": {
    "colab": {},
    "colab_type": "code",
    "id": "8uf2AoJMU4rR"
   },
   "outputs": [],
   "source": [
    "import numpy as np\n",
    "import pandas as pd\n",
    "import matplotlib.pyplot as plt\n",
    "\n",
    "from scipy.stats import norm"
   ]
  },
  {
   "cell_type": "code",
   "execution_count": null,
   "metadata": {
    "colab": {},
    "colab_type": "code",
    "id": "Bp74K8WWWmos"
   },
   "outputs": [],
   "source": [
    "n = 256\n",
    "n_train = 10000\n",
    "n_test = 5000"
   ]
  },
  {
   "cell_type": "code",
   "execution_count": null,
   "metadata": {
    "colab": {},
    "colab_type": "code",
    "id": "ZzLeumm6Z_rX"
   },
   "outputs": [],
   "source": [
    "A = [1.5, 2.6, 3.4]\n",
    "with open('test.txt', 'w') as f:\n",
    "  for a in A:\n",
    "    f.write(str(a))\n",
    "    f.write('\\n')"
   ]
  },
  {
   "cell_type": "code",
   "execution_count": null,
   "metadata": {
    "colab": {
     "base_uri": "https://localhost:8080/",
     "height": 33
    },
    "colab_type": "code",
    "id": "9wnb8o0Cnegk",
    "outputId": "5fd81611-166a-4cb2-db65-0bd78780e913"
   },
   "outputs": [
    {
     "data": {
      "text/plain": [
       "-3.141592653589793"
      ]
     },
     "execution_count": 4,
     "metadata": {
      "tags": []
     },
     "output_type": "execute_result"
    }
   ],
   "source": [
    "-np.pi"
   ]
  },
  {
   "cell_type": "code",
   "execution_count": null,
   "metadata": {
    "colab": {
     "base_uri": "https://localhost:8080/",
     "height": 33
    },
    "colab_type": "code",
    "id": "pql4c10rnSlS",
    "outputId": "2c610ec5-58bb-41d0-da2c-0b62fa220992"
   },
   "outputs": [
    {
     "data": {
      "text/plain": [
       "-0.07932815622527833"
      ]
     },
     "execution_count": 6,
     "metadata": {
      "tags": []
     },
     "output_type": "execute_result"
    }
   ],
   "source": [
    "np.random.uniform(low=-np.pi, high=np.pi, size=None)"
   ]
  },
  {
   "cell_type": "code",
   "execution_count": null,
   "metadata": {
    "colab": {},
    "colab_type": "code",
    "id": "9B_bIMUnXiFt"
   },
   "outputs": [],
   "source": [
    "# noise - 0\n",
    "# ЛЧМ I - 1\n",
    "# ЛЧМ II - 2"
   ]
  },
  {
   "cell_type": "code",
   "execution_count": null,
   "metadata": {
    "colab": {
     "base_uri": "https://localhost:8080/",
     "height": 47
    },
    "colab_type": "code",
    "id": "BwF9eWkJW1zU",
    "outputId": "25ab3592-c606-4aa9-d2c1-b91fb52ce885"
   },
   "outputs": [
    {
     "data": {
      "text/html": [
       "<div>\n",
       "<style scoped>\n",
       "    .dataframe tbody tr th:only-of-type {\n",
       "        vertical-align: middle;\n",
       "    }\n",
       "\n",
       "    .dataframe tbody tr th {\n",
       "        vertical-align: top;\n",
       "    }\n",
       "\n",
       "    .dataframe thead th {\n",
       "        text-align: right;\n",
       "    }\n",
       "</style>\n",
       "<table border=\"1\" class=\"dataframe\">\n",
       "  <thead>\n",
       "    <tr style=\"text-align: right;\">\n",
       "      <th></th>\n",
       "      <th>sample</th>\n",
       "      <th>signal_type</th>\n",
       "      <th>dispersia</th>\n",
       "    </tr>\n",
       "  </thead>\n",
       "  <tbody>\n",
       "  </tbody>\n",
       "</table>\n",
       "</div>"
      ],
      "text/plain": [
       "Empty DataFrame\n",
       "Columns: [sample, signal_type, dispersia]\n",
       "Index: []"
      ]
     },
     "execution_count": 14,
     "metadata": {
      "tags": []
     },
     "output_type": "execute_result"
    }
   ],
   "source": [
    "train = pd.DataFrame(columns=['sample', 'signal_type', 'dispersia'])\n",
    "train"
   ]
  },
  {
   "cell_type": "code",
   "execution_count": null,
   "metadata": {
    "colab": {
     "base_uri": "https://localhost:8080/",
     "height": 47
    },
    "colab_type": "code",
    "id": "s_i6xFtkW-PE",
    "outputId": "29b9bb39-2878-473e-a843-e5f8fe16b713"
   },
   "outputs": [
    {
     "data": {
      "text/html": [
       "<div>\n",
       "<style scoped>\n",
       "    .dataframe tbody tr th:only-of-type {\n",
       "        vertical-align: middle;\n",
       "    }\n",
       "\n",
       "    .dataframe tbody tr th {\n",
       "        vertical-align: top;\n",
       "    }\n",
       "\n",
       "    .dataframe thead th {\n",
       "        text-align: right;\n",
       "    }\n",
       "</style>\n",
       "<table border=\"1\" class=\"dataframe\">\n",
       "  <thead>\n",
       "    <tr style=\"text-align: right;\">\n",
       "      <th></th>\n",
       "      <th>sample</th>\n",
       "      <th>signal_type</th>\n",
       "      <th>dispersia</th>\n",
       "    </tr>\n",
       "  </thead>\n",
       "  <tbody>\n",
       "  </tbody>\n",
       "</table>\n",
       "</div>"
      ],
      "text/plain": [
       "Empty DataFrame\n",
       "Columns: [sample, signal_type, dispersia]\n",
       "Index: []"
      ]
     },
     "execution_count": 15,
     "metadata": {
      "tags": []
     },
     "output_type": "execute_result"
    }
   ],
   "source": [
    "test = pd.DataFrame(columns=['sample', 'signal_type', 'dispersia'])\n",
    "test"
   ]
  },
  {
   "cell_type": "markdown",
   "metadata": {
    "colab_type": "text",
    "id": "uysXHU1UWwwH"
   },
   "source": [
    "## Подбор параметров для ЛЧМ1 (и ЛЧМ2)"
   ]
  },
  {
   "cell_type": "code",
   "execution_count": null,
   "metadata": {
    "colab": {},
    "colab_type": "code",
    "id": "sohKe7_sWyGu"
   },
   "outputs": [],
   "source": [
    "#S = np.linspace(0, 1, 101)[1:len(s) - 1]\n",
    "#S"
   ]
  },
  {
   "cell_type": "code",
   "execution_count": null,
   "metadata": {
    "colab": {
     "base_uri": "https://localhost:8080/",
     "height": 102
    },
    "colab_type": "code",
    "id": "9f_CWsn7vlOP",
    "outputId": "1ef786e0-9e0f-44a2-b821-774699c3762a"
   },
   "outputs": [
    {
     "data": {
      "application/vnd.google.colaboratory.intrinsic": {
       "type": "string"
      },
      "text/plain": [
       "\"\\nT = np.linspace(0, 256, 25600)\\ns0 = 1\\nF0 = [i/1000 for i in range(100000)]\\nb = 1\\nans = []\\nfor f0 in F0:\\n  phi = f0 * T + 0.5 * b * T * T\\n  #print(T)\\n  #print(phi)\\n  lfm1 = s0 * np.cos(2*np.pi*phi)\\n  a = lfm1[:25]\\n  #c = lfm1[1::2]\\n  #print(len(a), len(c), len(lfm1))\\n  #print(f0, a, '\\n', c, '\\n', lfm1)\\n  #print(a.all() > 0)\\n  #print(a)\\n  f = (a > 0)\\n  #print(f)\\n  if False not in f:\\n    ans.append([f0, lfm1])\\n    #print(f0, lfm1)\\n    #print('------------------------------------------------------------------------------------------------')\\n\""
      ]
     },
     "execution_count": 39,
     "metadata": {
      "tags": []
     },
     "output_type": "execute_result"
    }
   ],
   "source": [
    "\"\"\"\n",
    "T = np.linspace(0, 256, 25600)\n",
    "s0 = 1\n",
    "F0 = [i/1000 for i in range(100000)]\n",
    "b = 1\n",
    "ans = []\n",
    "for f0 in F0:\n",
    "  phi = f0 * T + 0.5 * b * T * T\n",
    "  #print(T)\n",
    "  #print(phi)\n",
    "  lfm1 = s0 * np.cos(2*np.pi*phi)\n",
    "  a = lfm1[:25]\n",
    "  #c = lfm1[1::2]\n",
    "  #print(len(a), len(c), len(lfm1))\n",
    "  #print(f0, a, '\\n', c, '\\n', lfm1)\n",
    "  #print(a.all() > 0)\n",
    "  #print(a)\n",
    "  f = (a > 0)\n",
    "  #print(f)\n",
    "  if False not in f:\n",
    "    ans.append([f0, lfm1])\n",
    "    #print(f0, lfm1)\n",
    "    #print('------------------------------------------------------------------------------------------------')\n",
    "\"\"\""
   ]
  },
  {
   "cell_type": "code",
   "execution_count": null,
   "metadata": {
    "colab": {},
    "colab_type": "code",
    "id": "7oHAVY6hCrdu"
   },
   "outputs": [],
   "source": [
    "#len(ans)"
   ]
  },
  {
   "cell_type": "code",
   "execution_count": null,
   "metadata": {
    "colab": {},
    "colab_type": "code",
    "id": "plPRRpyiEK2x"
   },
   "outputs": [],
   "source": []
  },
  {
   "cell_type": "code",
   "execution_count": null,
   "metadata": {
    "colab": {},
    "colab_type": "code",
    "id": "VIPH4YLCO336"
   },
   "outputs": [],
   "source": [
    "#np.linspace(0, 256, 25600)"
   ]
  },
  {
   "cell_type": "code",
   "execution_count": null,
   "metadata": {
    "colab": {
     "base_uri": "https://localhost:8080/",
     "height": 500
    },
    "colab_type": "code",
    "id": "AQOBMXupJPeB",
    "outputId": "05d2709c-644d-4e25-c770-a734f45f62ac"
   },
   "outputs": [
    {
     "data": {
      "text/plain": [
       "[<matplotlib.lines.Line2D at 0x7fae56f0cf28>]"
      ]
     },
     "execution_count": 42,
     "metadata": {
      "tags": []
     },
     "output_type": "execute_result"
    },
    {
     "data": {
      "image/png": "[encoded data removed]",
      "text/plain": [
       "<Figure size 1152x576 with 1 Axes>"
      ]
     },
     "metadata": {
      "needs_background": "light",
      "tags": []
     },
     "output_type": "display_data"
    }
   ],
   "source": [
    "T = np.linspace(0, 10 * 256 / 1000, 256)\n",
    "x = np.cos(2*np.pi*(0.1 * T + 0.5 * 2 * T * T))\n",
    "#print(T)\n",
    "#print(x)\n",
    "plt.figure(figsize=(16, 8))\n",
    "plt.plot(T, x, marker='x')\n",
    "#plt.title(ans[0][0])"
   ]
  },
  {
   "cell_type": "code",
   "execution_count": null,
   "metadata": {
    "colab": {
     "base_uri": "https://localhost:8080/",
     "height": 35
    },
    "colab_type": "code",
    "id": "epZQ6lDbGnuB",
    "outputId": "6ffe3e65-b12e-4092-b833-ced5f9188162"
   },
   "outputs": [
    {
     "data": {
      "application/vnd.google.colaboratory.intrinsic": {
       "type": "string"
      },
      "text/plain": [
       "\"\\nT = np.linspace(0, 256, 256)\\nfor f0, lfm1 in ans[1987::10]:\\n  plt.figure(figsize=(16, 8))\\n  plt.plot(T, lfm1, marker='x')\\n  plt.title(f0)\\n\""
      ]
     },
     "execution_count": 43,
     "metadata": {
      "tags": []
     },
     "output_type": "execute_result"
    }
   ],
   "source": [
    "\"\"\"\n",
    "T = np.linspace(0, 256, 256)\n",
    "for f0, lfm1 in ans[1987::10]:\n",
    "  plt.figure(figsize=(16, 8))\n",
    "  plt.plot(T, lfm1, marker='x')\n",
    "  plt.title(f0)\n",
    "\"\"\""
   ]
  },
  {
   "cell_type": "code",
   "execution_count": null,
   "metadata": {
    "colab": {
     "base_uri": "https://localhost:8080/",
     "height": 500
    },
    "colab_type": "code",
    "id": "h1TrBTkZbOin",
    "outputId": "6a002eb4-fe57-434d-8400-90167fb757a6"
   },
   "outputs": [
    {
     "data": {
      "text/plain": [
       "[<matplotlib.lines.Line2D at 0x7fae570d37b8>]"
      ]
     },
     "execution_count": 44,
     "metadata": {
      "tags": []
     },
     "output_type": "execute_result"
    },
    {
     "data": {
      "image/png": "[encoded data removed]",
      "text/plain": [
       "<Figure size 1152x576 with 1 Axes>"
      ]
     },
     "metadata": {
      "needs_background": "light",
      "tags": []
     },
     "output_type": "display_data"
    }
   ],
   "source": [
    "T = T = np.linspace(0, n / 100, n)\n",
    "s0 = 1\n",
    "f0 = 0.1 # Подобрать f0\n",
    "b = 1\n",
    "lfm1 = s0 * np.cos(2*np.pi*(f0 * T + 0.5 * b * T ** 2)) + norm.rvs(loc=0, scale=1, size=n)\n",
    "plt.figure(figsize=(16, 8))\n",
    "plt.plot(T, lfm1, marker='x')\n"
   ]
  },
  {
   "cell_type": "code",
   "execution_count": null,
   "metadata": {
    "colab": {
     "base_uri": "https://localhost:8080/",
     "height": 86
    },
    "colab_type": "code",
    "id": "1idMDn9ZWYDX",
    "outputId": "637d2e3a-db67-47e8-80e2-edec8db0cae6"
   },
   "outputs": [
    {
     "data": {
      "application/vnd.google.colaboratory.intrinsic": {
       "type": "string"
      },
      "text/plain": [
       "\"\\nf0_1 = 0.49\\nf0_2 = 0.49\\nb_1 = 1\\nb_2 = 2\\ns0_1 = 1\\ns0_2 = 1\\nT = np.linspace(0, 256, 25600) # подобрать!!!!!!!!!!!!!!!!!!!!!!!!!!\\n\\n# для фиксированной дисперсии s = 0.94, например\\nfor i in range(n_train):\\n  # adding noise\\n  noise = norm.rvs(loc=0, scale=1, size=n)\\n  train.loc[i, 'sample'] = noise\\n  train.loc[i, 'signal_type'] = 0\\n\\nfor i in range(n_train, n_train * 2):\\n  #adding lfm1\\n  lfm1 = s0_1 * np.cos(2*np.pi*(f0_1 * T + 0.5 * b_1 * T ** 2)) + norm.rvs(loc=0, scale=1, size=n)\\n  train.loc[i, 'sample'] = noise\\n  train.loc[i, 'signal_type'] = 0\\n\\n  #adding lfm2\\ntrain\\n\\n# аналогичный цикл для test\\n\""
      ]
     },
     "execution_count": 45,
     "metadata": {
      "tags": []
     },
     "output_type": "execute_result"
    }
   ],
   "source": [
    "\"\"\"\n",
    "f0_1 = 0.49\n",
    "f0_2 = 0.49\n",
    "b_1 = 1\n",
    "b_2 = 2\n",
    "s0_1 = 1\n",
    "s0_2 = 1\n",
    "T = np.linspace(0, 256, 25600) # подобрать!!!!!!!!!!!!!!!!!!!!!!!!!!\n",
    "\n",
    "# для фиксированной дисперсии s = 0.94, например\n",
    "for i in range(n_train):\n",
    "  # adding noise\n",
    "  noise = norm.rvs(loc=0, scale=1, size=n)\n",
    "  train.loc[i, 'sample'] = noise\n",
    "  train.loc[i, 'signal_type'] = 0\n",
    "\n",
    "for i in range(n_train, n_train * 2):\n",
    "  #adding lfm1\n",
    "  lfm1 = s0_1 * np.cos(2*np.pi*(f0_1 * T + 0.5 * b_1 * T ** 2)) + norm.rvs(loc=0, scale=1, size=n)\n",
    "  train.loc[i, 'sample'] = noise\n",
    "  train.loc[i, 'signal_type'] = 0\n",
    "\n",
    "  #adding lfm2\n",
    "train\n",
    "\n",
    "# аналогичный цикл для test\n",
    "\"\"\""
   ]
  },
  {
   "cell_type": "markdown",
   "metadata": {
    "colab_type": "text",
    "id": "pIP10neAWiSQ"
   },
   "source": [
    "## Формирование обучающей и тестовой выборок"
   ]
  },
  {
   "cell_type": "code",
   "execution_count": null,
   "metadata": {
    "colab": {
     "base_uri": "https://localhost:8080/",
     "height": 34
    },
    "colab_type": "code",
    "id": "u_70Po70oLk4",
    "outputId": "9af3c767-2489-43ec-cfb1-e735b8dc5241"
   },
   "outputs": [
    {
     "data": {
      "text/plain": [
       "[0.1, 0.2, 0.3, 0.4, 0.5, 0.6, 0.7, 0.8, 0.9]"
      ]
     },
     "execution_count": 46,
     "metadata": {
      "tags": []
     },
     "output_type": "execute_result"
    }
   ],
   "source": [
    "S = [i / 1000 for i in range(0, 1001, 100)]\n",
    "S = S[1:len(S) - 1]\n",
    "S"
   ]
  },
  {
   "cell_type": "code",
   "execution_count": null,
   "metadata": {
    "colab": {
     "base_uri": "https://localhost:8080/",
     "height": 34
    },
    "colab_type": "code",
    "id": "mSP4A6S_wN64",
    "outputId": "1609aeff-d5ba-4848-c5a2-3066ea514f06"
   },
   "outputs": [
    {
     "data": {
      "text/plain": [
       "9"
      ]
     },
     "execution_count": 47,
     "metadata": {
      "tags": []
     },
     "output_type": "execute_result"
    }
   ],
   "source": [
    "len(S)"
   ]
  },
  {
   "cell_type": "code",
   "execution_count": null,
   "metadata": {
    "colab": {},
    "colab_type": "code",
    "id": "ESZt8n_NvDO1"
   },
   "outputs": [],
   "source": [
    "#n_train = 10\n",
    "#n_test = 5"
   ]
  },
  {
   "cell_type": "code",
   "execution_count": null,
   "metadata": {
    "colab": {
     "base_uri": "https://localhost:8080/",
     "height": 346
    },
    "colab_type": "code",
    "id": "hi2W6N8ihrF1",
    "outputId": "8aa9c330-85a2-4f77-9da2-a73728d0daf8"
   },
   "outputs": [
    {
     "name": "stdout",
     "output_type": "stream",
     "text": [
      "0.1\n",
      "0.2\n",
      "0.3\n",
      "0.4\n",
      "0.5\n",
      "0.6\n",
      "0.7\n",
      "0.8\n",
      "0.9\n"
     ]
    },
    {
     "data": {
      "text/html": [
       "<div>\n",
       "<style scoped>\n",
       "    .dataframe tbody tr th:only-of-type {\n",
       "        vertical-align: middle;\n",
       "    }\n",
       "\n",
       "    .dataframe tbody tr th {\n",
       "        vertical-align: top;\n",
       "    }\n",
       "\n",
       "    .dataframe thead th {\n",
       "        text-align: right;\n",
       "    }\n",
       "</style>\n",
       "<table border=\"1\" class=\"dataframe\">\n",
       "  <thead>\n",
       "    <tr style=\"text-align: right;\">\n",
       "      <th></th>\n",
       "      <th>sample</th>\n",
       "      <th>signal_type</th>\n",
       "    </tr>\n",
       "  </thead>\n",
       "  <tbody>\n",
       "    <tr>\n",
       "      <th>0</th>\n",
       "      <td>[0.021376572725857874, 0.6316028042475865, -0....</td>\n",
       "      <td>0</td>\n",
       "    </tr>\n",
       "    <tr>\n",
       "      <th>1</th>\n",
       "      <td>[0.2543846129857679, -2.2765998906144134, 1.91...</td>\n",
       "      <td>0</td>\n",
       "    </tr>\n",
       "    <tr>\n",
       "      <th>2</th>\n",
       "      <td>[0.3421803265623137, 0.29725538720635186, -0.6...</td>\n",
       "      <td>0</td>\n",
       "    </tr>\n",
       "    <tr>\n",
       "      <th>3</th>\n",
       "      <td>[-0.8603104854841006, -0.8716877212122143, 1.6...</td>\n",
       "      <td>0</td>\n",
       "    </tr>\n",
       "    <tr>\n",
       "      <th>4</th>\n",
       "      <td>[1.3980386601225498, -0.9829432805984893, -0.2...</td>\n",
       "      <td>0</td>\n",
       "    </tr>\n",
       "  </tbody>\n",
       "</table>\n",
       "</div>"
      ],
      "text/plain": [
       "                                              sample signal_type\n",
       "0  [0.021376572725857874, 0.6316028042475865, -0....           0\n",
       "1  [0.2543846129857679, -2.2765998906144134, 1.91...           0\n",
       "2  [0.3421803265623137, 0.29725538720635186, -0.6...           0\n",
       "3  [-0.8603104854841006, -0.8716877212122143, 1.6...           0\n",
       "4  [1.3980386601225498, -0.9829432805984893, -0.2...           0"
      ]
     },
     "execution_count": 49,
     "metadata": {
      "tags": []
     },
     "output_type": "execute_result"
    }
   ],
   "source": [
    "f0_1 = 0.1\n",
    "f0_2 = 0.1\n",
    "b_1 = 1\n",
    "b_2 = 2\n",
    "s0_1 = 1\n",
    "s0_2 = 1\n",
    "#T = np.linspace(0, 256, 25600) # подобрать!!!!!!!!!!!!!!!!!!!!!!!!!!\n",
    "T = np.linspace(0, n / 100, n)\n",
    "\n",
    "row = -1\n",
    "for s in S:\n",
    "  print(s)\n",
    "  # adding noise\n",
    "  for i in range(n_train):\n",
    "    row += 1\n",
    "    noise = norm.rvs(loc=0, scale=1, size=n)\n",
    "    train.loc[row, 'sample'] = noise\n",
    "    train.loc[row, 'signal_type'] = 0\n",
    "  # adding lfm1\n",
    "  for i in range(0, n_train):\n",
    "    row += 1\n",
    "    lfm1 = s0_1 * np.cos(2*np.pi*(f0_1 * T + 0.5 * b_1 * T ** 2)) + norm.rvs(loc=0, scale=s, size=n)\n",
    "    train.loc[row, 'sample'] = lfm1\n",
    "    train.loc[row, 'signal_type'] = 1\n",
    "  #adding lfm2\n",
    "  for i in range(0, n_train):\n",
    "    row += 1\n",
    "    lfm2 = s0_2 * np.cos(2*np.pi*(f0_2 * T + 0.5 * b_2 * T ** 2)) + norm.rvs(loc=0, scale=s, size=n)\n",
    "    train.loc[row, 'sample'] = lfm2\n",
    "    train.loc[row, 'signal_type'] = 2\n",
    "train.head()\n",
    "\n",
    "# аналогичный цикл для test"
   ]
  },
  {
   "cell_type": "code",
   "execution_count": null,
   "metadata": {
    "colab": {
     "base_uri": "https://localhost:8080/",
     "height": 346
    },
    "colab_type": "code",
    "id": "wz1cAF4hVcx7",
    "outputId": "5967abbb-3095-404a-d588-e176d689a281"
   },
   "outputs": [
    {
     "name": "stdout",
     "output_type": "stream",
     "text": [
      "0.1\n",
      "0.2\n",
      "0.3\n",
      "0.4\n",
      "0.5\n",
      "0.6\n",
      "0.7\n",
      "0.8\n",
      "0.9\n"
     ]
    },
    {
     "data": {
      "text/html": [
       "<div>\n",
       "<style scoped>\n",
       "    .dataframe tbody tr th:only-of-type {\n",
       "        vertical-align: middle;\n",
       "    }\n",
       "\n",
       "    .dataframe tbody tr th {\n",
       "        vertical-align: top;\n",
       "    }\n",
       "\n",
       "    .dataframe thead th {\n",
       "        text-align: right;\n",
       "    }\n",
       "</style>\n",
       "<table border=\"1\" class=\"dataframe\">\n",
       "  <thead>\n",
       "    <tr style=\"text-align: right;\">\n",
       "      <th></th>\n",
       "      <th>sample</th>\n",
       "      <th>signal_type</th>\n",
       "    </tr>\n",
       "  </thead>\n",
       "  <tbody>\n",
       "    <tr>\n",
       "      <th>0</th>\n",
       "      <td>[0.5632907651234593, 0.8587075308512174, -1.17...</td>\n",
       "      <td>0</td>\n",
       "    </tr>\n",
       "    <tr>\n",
       "      <th>1</th>\n",
       "      <td>[0.48745260973864274, 0.9601587113676973, 0.53...</td>\n",
       "      <td>0</td>\n",
       "    </tr>\n",
       "    <tr>\n",
       "      <th>2</th>\n",
       "      <td>[0.06626453284897091, -0.9072045251049208, 0.2...</td>\n",
       "      <td>0</td>\n",
       "    </tr>\n",
       "    <tr>\n",
       "      <th>3</th>\n",
       "      <td>[1.1711781810331023, 1.9668121349507803, -1.22...</td>\n",
       "      <td>0</td>\n",
       "    </tr>\n",
       "    <tr>\n",
       "      <th>4</th>\n",
       "      <td>[-0.3323312611978957, 0.4919597386631935, 2.08...</td>\n",
       "      <td>0</td>\n",
       "    </tr>\n",
       "  </tbody>\n",
       "</table>\n",
       "</div>"
      ],
      "text/plain": [
       "                                              sample signal_type\n",
       "0  [0.5632907651234593, 0.8587075308512174, -1.17...           0\n",
       "1  [0.48745260973864274, 0.9601587113676973, 0.53...           0\n",
       "2  [0.06626453284897091, -0.9072045251049208, 0.2...           0\n",
       "3  [1.1711781810331023, 1.9668121349507803, -1.22...           0\n",
       "4  [-0.3323312611978957, 0.4919597386631935, 2.08...           0"
      ]
     },
     "execution_count": 50,
     "metadata": {
      "tags": []
     },
     "output_type": "execute_result"
    }
   ],
   "source": [
    "f0_1 = 0.1\n",
    "f0_2 = 0.1\n",
    "b_1 = 1\n",
    "b_2 = 2\n",
    "s0_1 = 1\n",
    "s0_2 = 1\n",
    "#T = np.linspace(0, 256, 25600) # подобрать!!!!!!!!!!!!!!!!!!!!!!!!!!\n",
    "T = np.linspace(0, n / 100, n)\n",
    "\n",
    "row = -1\n",
    "for s in S:\n",
    "  print(s)\n",
    "  # adding noise\n",
    "  for i in range(n_test):\n",
    "    row += 1\n",
    "    noise = norm.rvs(loc=0, scale=1, size=n)\n",
    "    test.loc[row, 'sample'] = noise\n",
    "    test.loc[row, 'signal_type'] = 0\n",
    "  # adding lfm1\n",
    "  for i in range(0, n_test):\n",
    "    row += 1\n",
    "    lfm1 = s0_1 * np.cos(2*np.pi*(f0_1 * T + 0.5 * b_1 * T ** 2)) + norm.rvs(loc=0, scale=s, size=n)\n",
    "    test.loc[row, 'sample'] = lfm1\n",
    "    test.loc[row, 'signal_type'] = 1\n",
    "  #adding lfm2\n",
    "  for i in range(0, n_test):\n",
    "    row += 1\n",
    "    lfm2 = s0_2 * np.cos(2*np.pi*(f0_2 * T + 0.5 * b_2 * T ** 2)) + norm.rvs(loc=0, scale=s, size=n)\n",
    "    test.loc[row, 'sample'] = lfm2\n",
    "    test.loc[row, 'signal_type'] = 2\n",
    "test.head()\n"
   ]
  },
  {
   "cell_type": "code",
   "execution_count": null,
   "metadata": {
    "colab": {},
    "colab_type": "code",
    "id": "X7oQlH03k1uW"
   },
   "outputs": [],
   "source": [
    "train.to_csv('train.csv')\n",
    "test.to_csv('test.csv')"
   ]
  },
  {
   "cell_type": "markdown",
   "metadata": {
    "colab_type": "text",
    "id": "ZRNDTT98f46K"
   },
   "source": [
    "## Работа со сгенерированными данными"
   ]
  },
  {
   "cell_type": "code",
   "execution_count": null,
   "metadata": {
    "colab": {
     "base_uri": "https://localhost:8080/",
     "height": 68
    },
    "colab_type": "code",
    "id": "LWe9ycxZUeE9",
    "outputId": "6d417aa0-a24b-4b55-ca48-528a2b9fd840"
   },
   "outputs": [
    {
     "data": {
      "application/vnd.google.colaboratory.intrinsic": {
       "type": "string"
      },
      "text/plain": [
       "\"\\ntrain2 = pd.read_excel('train_new.xlsx')\\ntest2 = pd.read_excel('test_new.xlsx')\\n\\ntrain3 = pd.read_excel('train_new_new.xlsx')\\ntest3 = pd.read_excel('test_new_new.xlsx')\\n\\ntrain4 = pd.read_excel('train_new1.xlsx')\\ntest4 = pd.read_excel('test_new1.xlsx')\\n\""
      ]
     },
     "execution_count": 6,
     "metadata": {
      "tags": []
     },
     "output_type": "execute_result"
    }
   ],
   "source": [
    "train = pd.read_excel('train_1var.xlsx')\n",
    "test = pd.read_excel('test_1var.xlsx')\n",
    "\"\"\"\n",
    "train2 = pd.read_excel('train_new.xlsx')\n",
    "test2 = pd.read_excel('test_new.xlsx')\n",
    "\n",
    "train3 = pd.read_excel('train_new_new.xlsx')\n",
    "test3 = pd.read_excel('test_new_new.xlsx')\n",
    "\n",
    "train4 = pd.read_excel('train_new1.xlsx')\n",
    "test4 = pd.read_excel('test_new1.xlsx')\n",
    "\"\"\""
   ]
  },
  {
   "cell_type": "code",
   "execution_count": null,
   "metadata": {
    "colab": {
     "base_uri": "https://localhost:8080/",
     "height": 228
    },
    "colab_type": "code",
    "id": "3yOHKFtqVIyu",
    "outputId": "3e0b739c-d379-439d-bd74-8e0626db658a"
   },
   "outputs": [
    {
     "ename": "NameError",
     "evalue": "ignored",
     "output_type": "error",
     "traceback": [
      "\u001b[0;31m---------------------------------------------------------------------------\u001b[0m",
      "\u001b[0;31mNameError\u001b[0m                                 Traceback (most recent call last)",
      "\u001b[0;32m<ipython-input-7-5d7683736a35>\u001b[0m in \u001b[0;36m<module>\u001b[0;34m()\u001b[0m\n\u001b[0;32m----> 1\u001b[0;31m \u001b[0mprint\u001b[0m\u001b[0;34m(\u001b[0m\u001b[0;34m'train1: '\u001b[0m\u001b[0;34m,\u001b[0m \u001b[0mtrain1\u001b[0m\u001b[0;34m[\u001b[0m\u001b[0;34m'dispersia'\u001b[0m\u001b[0;34m]\u001b[0m\u001b[0;34m.\u001b[0m\u001b[0munique\u001b[0m\u001b[0;34m(\u001b[0m\u001b[0;34m)\u001b[0m\u001b[0;34m)\u001b[0m\u001b[0;34m\u001b[0m\u001b[0;34m\u001b[0m\u001b[0m\n\u001b[0m\u001b[1;32m      2\u001b[0m \u001b[0mprint\u001b[0m\u001b[0;34m(\u001b[0m\u001b[0;34m'test1: '\u001b[0m\u001b[0;34m,\u001b[0m \u001b[0mtest1\u001b[0m\u001b[0;34m[\u001b[0m\u001b[0;34m'dispersia'\u001b[0m\u001b[0;34m]\u001b[0m\u001b[0;34m.\u001b[0m\u001b[0munique\u001b[0m\u001b[0;34m(\u001b[0m\u001b[0;34m)\u001b[0m\u001b[0;34m)\u001b[0m\u001b[0;34m\u001b[0m\u001b[0;34m\u001b[0m\u001b[0m\n\u001b[1;32m      3\u001b[0m \"\"\"\n\u001b[1;32m      4\u001b[0m \u001b[0mprint\u001b[0m\u001b[0;34m(\u001b[0m\u001b[0;34m'train2: '\u001b[0m\u001b[0;34m,\u001b[0m \u001b[0mtrain2\u001b[0m\u001b[0;34m[\u001b[0m\u001b[0;34m'dispersia'\u001b[0m\u001b[0;34m]\u001b[0m\u001b[0;34m.\u001b[0m\u001b[0munique\u001b[0m\u001b[0;34m(\u001b[0m\u001b[0;34m)\u001b[0m\u001b[0;34m)\u001b[0m\u001b[0;34m\u001b[0m\u001b[0;34m\u001b[0m\u001b[0m\n\u001b[1;32m      5\u001b[0m \u001b[0mprint\u001b[0m\u001b[0;34m(\u001b[0m\u001b[0;34m'test2: '\u001b[0m\u001b[0;34m,\u001b[0m \u001b[0mtest2\u001b[0m\u001b[0;34m[\u001b[0m\u001b[0;34m'dispersia'\u001b[0m\u001b[0;34m]\u001b[0m\u001b[0;34m.\u001b[0m\u001b[0munique\u001b[0m\u001b[0;34m(\u001b[0m\u001b[0;34m)\u001b[0m\u001b[0;34m)\u001b[0m\u001b[0;34m\u001b[0m\u001b[0;34m\u001b[0m\u001b[0m\n",
      "\u001b[0;31mNameError\u001b[0m: name 'train1' is not defined"
     ]
    }
   ],
   "source": [
    "print('train1: ', train['dispersia'].unique())\n",
    "print('test1: ', test['dispersia'].unique())\n",
    "\"\"\"\n",
    "print('train2: ', train2['dispersia'].unique())\n",
    "print('test2: ', test2['dispersia'].unique())\n",
    "\n",
    "print('train3: ', train3['dispersia'].unique())\n",
    "print('test3: ', test3['dispersia'].unique())\n",
    "\n",
    "print('train4: ', train4['dispersia'].unique())\n",
    "print('test4: ', test4['dispersia'].unique())\n",
    "\"\"\""
   ]
  },
  {
   "cell_type": "code",
   "execution_count": null,
   "metadata": {
    "colab": {},
    "colab_type": "code",
    "id": "PsfV89zKlEXm"
   },
   "outputs": [],
   "source": [
    "train = pd.read_excel('train.xlsx')\n",
    "test = pd.read_excel('test.xlsx')"
   ]
  },
  {
   "cell_type": "code",
   "execution_count": null,
   "metadata": {
    "colab": {
     "base_uri": "https://localhost:8080/",
     "height": 687
    },
    "colab_type": "code",
    "id": "YIxwq7q7lTBF",
    "outputId": "26a0f38e-b352-43a6-c2ee-31d8d46d7640"
   },
   "outputs": [
    {
     "ename": "KeyError",
     "evalue": "ignored",
     "output_type": "error",
     "traceback": [
      "\u001b[0;31m---------------------------------------------------------------------------\u001b[0m",
      "\u001b[0;31mKeyError\u001b[0m                                  Traceback (most recent call last)",
      "\u001b[0;32m/usr/local/lib/python3.6/dist-packages/pandas/core/indexes/base.py\u001b[0m in \u001b[0;36mget_loc\u001b[0;34m(self, key, method, tolerance)\u001b[0m\n\u001b[1;32m   2645\u001b[0m             \u001b[0;32mtry\u001b[0m\u001b[0;34m:\u001b[0m\u001b[0;34m\u001b[0m\u001b[0;34m\u001b[0m\u001b[0m\n\u001b[0;32m-> 2646\u001b[0;31m                 \u001b[0;32mreturn\u001b[0m \u001b[0mself\u001b[0m\u001b[0;34m.\u001b[0m\u001b[0m_engine\u001b[0m\u001b[0;34m.\u001b[0m\u001b[0mget_loc\u001b[0m\u001b[0;34m(\u001b[0m\u001b[0mkey\u001b[0m\u001b[0;34m)\u001b[0m\u001b[0;34m\u001b[0m\u001b[0;34m\u001b[0m\u001b[0m\n\u001b[0m\u001b[1;32m   2647\u001b[0m             \u001b[0;32mexcept\u001b[0m \u001b[0mKeyError\u001b[0m\u001b[0;34m:\u001b[0m\u001b[0;34m\u001b[0m\u001b[0;34m\u001b[0m\u001b[0m\n",
      "\u001b[0;32mpandas/_libs/index.pyx\u001b[0m in \u001b[0;36mpandas._libs.index.IndexEngine.get_loc\u001b[0;34m()\u001b[0m\n",
      "\u001b[0;32mpandas/_libs/index.pyx\u001b[0m in \u001b[0;36mpandas._libs.index.IndexEngine.get_loc\u001b[0;34m()\u001b[0m\n",
      "\u001b[0;32mpandas/_libs/hashtable_class_helper.pxi\u001b[0m in \u001b[0;36mpandas._libs.hashtable.PyObjectHashTable.get_item\u001b[0;34m()\u001b[0m\n",
      "\u001b[0;32mpandas/_libs/hashtable_class_helper.pxi\u001b[0m in \u001b[0;36mpandas._libs.hashtable.PyObjectHashTable.get_item\u001b[0;34m()\u001b[0m\n",
      "\u001b[0;31mKeyError\u001b[0m: 'Unnamed: 0'",
      "\nDuring handling of the above exception, another exception occurred:\n",
      "\u001b[0;31mKeyError\u001b[0m                                  Traceback (most recent call last)",
      "\u001b[0;32m<ipython-input-8-d2e3058c3895>\u001b[0m in \u001b[0;36m<module>\u001b[0;34m()\u001b[0m\n\u001b[0;32m----> 1\u001b[0;31m \u001b[0;32mdel\u001b[0m \u001b[0mtrain\u001b[0m\u001b[0;34m[\u001b[0m\u001b[0;34m'Unnamed: 0'\u001b[0m\u001b[0;34m]\u001b[0m\u001b[0;34m\u001b[0m\u001b[0;34m\u001b[0m\u001b[0m\n\u001b[0m\u001b[1;32m      2\u001b[0m \u001b[0;32mdel\u001b[0m \u001b[0mtest\u001b[0m\u001b[0;34m[\u001b[0m\u001b[0;34m'Unnamed: 0'\u001b[0m\u001b[0;34m]\u001b[0m\u001b[0;34m\u001b[0m\u001b[0;34m\u001b[0m\u001b[0m\n",
      "\u001b[0;32m/usr/local/lib/python3.6/dist-packages/pandas/core/generic.py\u001b[0m in \u001b[0;36m__delitem__\u001b[0;34m(self, key)\u001b[0m\n\u001b[1;32m   3757\u001b[0m             \u001b[0;31m# there was no match, this call should raise the appropriate\u001b[0m\u001b[0;34m\u001b[0m\u001b[0;34m\u001b[0m\u001b[0;34m\u001b[0m\u001b[0m\n\u001b[1;32m   3758\u001b[0m             \u001b[0;31m# exception:\u001b[0m\u001b[0;34m\u001b[0m\u001b[0;34m\u001b[0m\u001b[0;34m\u001b[0m\u001b[0m\n\u001b[0;32m-> 3759\u001b[0;31m             \u001b[0mself\u001b[0m\u001b[0;34m.\u001b[0m\u001b[0m_data\u001b[0m\u001b[0;34m.\u001b[0m\u001b[0mdelete\u001b[0m\u001b[0;34m(\u001b[0m\u001b[0mkey\u001b[0m\u001b[0;34m)\u001b[0m\u001b[0;34m\u001b[0m\u001b[0;34m\u001b[0m\u001b[0m\n\u001b[0m\u001b[1;32m   3760\u001b[0m \u001b[0;34m\u001b[0m\u001b[0m\n\u001b[1;32m   3761\u001b[0m         \u001b[0;31m# delete from the caches\u001b[0m\u001b[0;34m\u001b[0m\u001b[0;34m\u001b[0m\u001b[0;34m\u001b[0m\u001b[0m\n",
      "\u001b[0;32m/usr/local/lib/python3.6/dist-packages/pandas/core/internals/managers.py\u001b[0m in \u001b[0;36mdelete\u001b[0;34m(self, item)\u001b[0m\n\u001b[1;32m   1000\u001b[0m         \u001b[0mDelete\u001b[0m \u001b[0mselected\u001b[0m \u001b[0mitem\u001b[0m \u001b[0;34m(\u001b[0m\u001b[0mitems\u001b[0m \u001b[0;32mif\u001b[0m \u001b[0mnon\u001b[0m\u001b[0;34m-\u001b[0m\u001b[0munique\u001b[0m\u001b[0;34m)\u001b[0m \u001b[0;32min\u001b[0m\u001b[0;34m-\u001b[0m\u001b[0mplace\u001b[0m\u001b[0;34m.\u001b[0m\u001b[0;34m\u001b[0m\u001b[0;34m\u001b[0m\u001b[0m\n\u001b[1;32m   1001\u001b[0m         \"\"\"\n\u001b[0;32m-> 1002\u001b[0;31m         \u001b[0mindexer\u001b[0m \u001b[0;34m=\u001b[0m \u001b[0mself\u001b[0m\u001b[0;34m.\u001b[0m\u001b[0mitems\u001b[0m\u001b[0;34m.\u001b[0m\u001b[0mget_loc\u001b[0m\u001b[0;34m(\u001b[0m\u001b[0mitem\u001b[0m\u001b[0;34m)\u001b[0m\u001b[0;34m\u001b[0m\u001b[0;34m\u001b[0m\u001b[0m\n\u001b[0m\u001b[1;32m   1003\u001b[0m \u001b[0;34m\u001b[0m\u001b[0m\n\u001b[1;32m   1004\u001b[0m         \u001b[0mis_deleted\u001b[0m \u001b[0;34m=\u001b[0m \u001b[0mnp\u001b[0m\u001b[0;34m.\u001b[0m\u001b[0mzeros\u001b[0m\u001b[0;34m(\u001b[0m\u001b[0mself\u001b[0m\u001b[0;34m.\u001b[0m\u001b[0mshape\u001b[0m\u001b[0;34m[\u001b[0m\u001b[0;36m0\u001b[0m\u001b[0;34m]\u001b[0m\u001b[0;34m,\u001b[0m \u001b[0mdtype\u001b[0m\u001b[0;34m=\u001b[0m\u001b[0mnp\u001b[0m\u001b[0;34m.\u001b[0m\u001b[0mbool_\u001b[0m\u001b[0;34m)\u001b[0m\u001b[0;34m\u001b[0m\u001b[0;34m\u001b[0m\u001b[0m\n",
      "\u001b[0;32m/usr/local/lib/python3.6/dist-packages/pandas/core/indexes/base.py\u001b[0m in \u001b[0;36mget_loc\u001b[0;34m(self, key, method, tolerance)\u001b[0m\n\u001b[1;32m   2646\u001b[0m                 \u001b[0;32mreturn\u001b[0m \u001b[0mself\u001b[0m\u001b[0;34m.\u001b[0m\u001b[0m_engine\u001b[0m\u001b[0;34m.\u001b[0m\u001b[0mget_loc\u001b[0m\u001b[0;34m(\u001b[0m\u001b[0mkey\u001b[0m\u001b[0;34m)\u001b[0m\u001b[0;34m\u001b[0m\u001b[0;34m\u001b[0m\u001b[0m\n\u001b[1;32m   2647\u001b[0m             \u001b[0;32mexcept\u001b[0m \u001b[0mKeyError\u001b[0m\u001b[0;34m:\u001b[0m\u001b[0;34m\u001b[0m\u001b[0;34m\u001b[0m\u001b[0m\n\u001b[0;32m-> 2648\u001b[0;31m                 \u001b[0;32mreturn\u001b[0m \u001b[0mself\u001b[0m\u001b[0;34m.\u001b[0m\u001b[0m_engine\u001b[0m\u001b[0;34m.\u001b[0m\u001b[0mget_loc\u001b[0m\u001b[0;34m(\u001b[0m\u001b[0mself\u001b[0m\u001b[0;34m.\u001b[0m\u001b[0m_maybe_cast_indexer\u001b[0m\u001b[0;34m(\u001b[0m\u001b[0mkey\u001b[0m\u001b[0;34m)\u001b[0m\u001b[0;34m)\u001b[0m\u001b[0;34m\u001b[0m\u001b[0;34m\u001b[0m\u001b[0m\n\u001b[0m\u001b[1;32m   2649\u001b[0m         \u001b[0mindexer\u001b[0m \u001b[0;34m=\u001b[0m \u001b[0mself\u001b[0m\u001b[0;34m.\u001b[0m\u001b[0mget_indexer\u001b[0m\u001b[0;34m(\u001b[0m\u001b[0;34m[\u001b[0m\u001b[0mkey\u001b[0m\u001b[0;34m]\u001b[0m\u001b[0;34m,\u001b[0m \u001b[0mmethod\u001b[0m\u001b[0;34m=\u001b[0m\u001b[0mmethod\u001b[0m\u001b[0;34m,\u001b[0m \u001b[0mtolerance\u001b[0m\u001b[0;34m=\u001b[0m\u001b[0mtolerance\u001b[0m\u001b[0;34m)\u001b[0m\u001b[0;34m\u001b[0m\u001b[0;34m\u001b[0m\u001b[0m\n\u001b[1;32m   2650\u001b[0m         \u001b[0;32mif\u001b[0m \u001b[0mindexer\u001b[0m\u001b[0;34m.\u001b[0m\u001b[0mndim\u001b[0m \u001b[0;34m>\u001b[0m \u001b[0;36m1\u001b[0m \u001b[0;32mor\u001b[0m \u001b[0mindexer\u001b[0m\u001b[0;34m.\u001b[0m\u001b[0msize\u001b[0m \u001b[0;34m>\u001b[0m \u001b[0;36m1\u001b[0m\u001b[0;34m:\u001b[0m\u001b[0;34m\u001b[0m\u001b[0;34m\u001b[0m\u001b[0m\n",
      "\u001b[0;32mpandas/_libs/index.pyx\u001b[0m in \u001b[0;36mpandas._libs.index.IndexEngine.get_loc\u001b[0;34m()\u001b[0m\n",
      "\u001b[0;32mpandas/_libs/index.pyx\u001b[0m in \u001b[0;36mpandas._libs.index.IndexEngine.get_loc\u001b[0;34m()\u001b[0m\n",
      "\u001b[0;32mpandas/_libs/hashtable_class_helper.pxi\u001b[0m in \u001b[0;36mpandas._libs.hashtable.PyObjectHashTable.get_item\u001b[0;34m()\u001b[0m\n",
      "\u001b[0;32mpandas/_libs/hashtable_class_helper.pxi\u001b[0m in \u001b[0;36mpandas._libs.hashtable.PyObjectHashTable.get_item\u001b[0;34m()\u001b[0m\n",
      "\u001b[0;31mKeyError\u001b[0m: 'Unnamed: 0'"
     ]
    }
   ],
   "source": [
    "del train['Unnamed: 0']\n",
    "del test['Unnamed: 0']"
   ]
  },
  {
   "cell_type": "code",
   "execution_count": null,
   "metadata": {
    "colab": {
     "base_uri": "https://localhost:8080/",
     "height": 196
    },
    "colab_type": "code",
    "id": "gHjRIDb8lhqu",
    "outputId": "c5fba209-72f3-41e3-d79e-8934cbf3d427"
   },
   "outputs": [
    {
     "data": {
      "text/html": [
       "<div>\n",
       "<style scoped>\n",
       "    .dataframe tbody tr th:only-of-type {\n",
       "        vertical-align: middle;\n",
       "    }\n",
       "\n",
       "    .dataframe tbody tr th {\n",
       "        vertical-align: top;\n",
       "    }\n",
       "\n",
       "    .dataframe thead th {\n",
       "        text-align: right;\n",
       "    }\n",
       "</style>\n",
       "<table border=\"1\" class=\"dataframe\">\n",
       "  <thead>\n",
       "    <tr style=\"text-align: right;\">\n",
       "      <th></th>\n",
       "      <th>sample</th>\n",
       "      <th>signal_type</th>\n",
       "      <th>dispersia</th>\n",
       "    </tr>\n",
       "  </thead>\n",
       "  <tbody>\n",
       "    <tr>\n",
       "      <th>0</th>\n",
       "      <td>[-1.24761268  0.91023945  0.7337857  -1.287075...</td>\n",
       "      <td>0</td>\n",
       "      <td>0.0</td>\n",
       "    </tr>\n",
       "    <tr>\n",
       "      <th>1</th>\n",
       "      <td>[ 9.13718528e-02  1.16001941e+00  1.05842829e+...</td>\n",
       "      <td>0</td>\n",
       "      <td>0.0</td>\n",
       "    </tr>\n",
       "    <tr>\n",
       "      <th>2</th>\n",
       "      <td>[ 0.05873622 -0.58660884 -0.11116631  0.139471...</td>\n",
       "      <td>0</td>\n",
       "      <td>0.0</td>\n",
       "    </tr>\n",
       "    <tr>\n",
       "      <th>3</th>\n",
       "      <td>[ 0.26305407 -0.86971194 -1.26081817 -1.655349...</td>\n",
       "      <td>0</td>\n",
       "      <td>0.0</td>\n",
       "    </tr>\n",
       "    <tr>\n",
       "      <th>4</th>\n",
       "      <td>[ 0.90894963  1.19571733 -1.68403305 -1.283347...</td>\n",
       "      <td>0</td>\n",
       "      <td>0.0</td>\n",
       "    </tr>\n",
       "  </tbody>\n",
       "</table>\n",
       "</div>"
      ],
      "text/plain": [
       "                                              sample  signal_type  dispersia\n",
       "0  [-1.24761268  0.91023945  0.7337857  -1.287075...            0        0.0\n",
       "1  [ 9.13718528e-02  1.16001941e+00  1.05842829e+...            0        0.0\n",
       "2  [ 0.05873622 -0.58660884 -0.11116631  0.139471...            0        0.0\n",
       "3  [ 0.26305407 -0.86971194 -1.26081817 -1.655349...            0        0.0\n",
       "4  [ 0.90894963  1.19571733 -1.68403305 -1.283347...            0        0.0"
      ]
     },
     "execution_count": 9,
     "metadata": {
      "tags": []
     },
     "output_type": "execute_result"
    }
   ],
   "source": [
    "train.head()"
   ]
  },
  {
   "cell_type": "code",
   "execution_count": null,
   "metadata": {
    "colab": {
     "base_uri": "https://localhost:8080/",
     "height": 196
    },
    "colab_type": "code",
    "id": "WeVFUOAClwUS",
    "outputId": "c87afa3c-8c53-4024-ad40-71bf2ea43fb4"
   },
   "outputs": [
    {
     "data": {
      "text/html": [
       "<div>\n",
       "<style scoped>\n",
       "    .dataframe tbody tr th:only-of-type {\n",
       "        vertical-align: middle;\n",
       "    }\n",
       "\n",
       "    .dataframe tbody tr th {\n",
       "        vertical-align: top;\n",
       "    }\n",
       "\n",
       "    .dataframe thead th {\n",
       "        text-align: right;\n",
       "    }\n",
       "</style>\n",
       "<table border=\"1\" class=\"dataframe\">\n",
       "  <thead>\n",
       "    <tr style=\"text-align: right;\">\n",
       "      <th></th>\n",
       "      <th>sample</th>\n",
       "      <th>signal_type</th>\n",
       "      <th>dispersia</th>\n",
       "    </tr>\n",
       "  </thead>\n",
       "  <tbody>\n",
       "    <tr>\n",
       "      <th>0</th>\n",
       "      <td>[-6.20076100e-01 -8.94971782e-01  2.24350582e-...</td>\n",
       "      <td>0</td>\n",
       "      <td>0.0</td>\n",
       "    </tr>\n",
       "    <tr>\n",
       "      <th>1</th>\n",
       "      <td>[-1.15839788 -1.34469756  0.40154113 -0.237965...</td>\n",
       "      <td>0</td>\n",
       "      <td>0.0</td>\n",
       "    </tr>\n",
       "    <tr>\n",
       "      <th>2</th>\n",
       "      <td>[-1.40941468 -0.38264615 -0.73189063  0.107792...</td>\n",
       "      <td>0</td>\n",
       "      <td>0.0</td>\n",
       "    </tr>\n",
       "    <tr>\n",
       "      <th>3</th>\n",
       "      <td>[ 0.15060583  0.55209684  0.01031999  0.171090...</td>\n",
       "      <td>0</td>\n",
       "      <td>0.0</td>\n",
       "    </tr>\n",
       "    <tr>\n",
       "      <th>4</th>\n",
       "      <td>[ 1.00962372e+00 -3.61886548e-02  2.91866511e-...</td>\n",
       "      <td>0</td>\n",
       "      <td>0.0</td>\n",
       "    </tr>\n",
       "  </tbody>\n",
       "</table>\n",
       "</div>"
      ],
      "text/plain": [
       "                                              sample  signal_type  dispersia\n",
       "0  [-6.20076100e-01 -8.94971782e-01  2.24350582e-...            0        0.0\n",
       "1  [-1.15839788 -1.34469756  0.40154113 -0.237965...            0        0.0\n",
       "2  [-1.40941468 -0.38264615 -0.73189063  0.107792...            0        0.0\n",
       "3  [ 0.15060583  0.55209684  0.01031999  0.171090...            0        0.0\n",
       "4  [ 1.00962372e+00 -3.61886548e-02  2.91866511e-...            0        0.0"
      ]
     },
     "execution_count": 10,
     "metadata": {
      "tags": []
     },
     "output_type": "execute_result"
    }
   ],
   "source": [
    "test.head()"
   ]
  },
  {
   "cell_type": "markdown",
   "metadata": {
    "colab_type": "text",
    "id": "4vCGYF3CkdiK"
   },
   "source": [
    "#### Нормализация данных"
   ]
  },
  {
   "cell_type": "code",
   "execution_count": null,
   "metadata": {
    "colab": {},
    "colab_type": "code",
    "id": "rdSIrqREGolj"
   },
   "outputs": [],
   "source": [
    "#q = '[1.5 2 3]'\n",
    "#q.replace('[', '').replace(']', '').split()"
   ]
  },
  {
   "cell_type": "code",
   "execution_count": null,
   "metadata": {
    "colab": {
     "base_uri": "https://localhost:8080/",
     "height": 196
    },
    "colab_type": "code",
    "id": "-l1VyhYMlf6e",
    "outputId": "a9f795f0-5bf9-4d19-9cde-dc238007ef7d"
   },
   "outputs": [
    {
     "data": {
      "text/html": [
       "<div>\n",
       "<style scoped>\n",
       "    .dataframe tbody tr th:only-of-type {\n",
       "        vertical-align: middle;\n",
       "    }\n",
       "\n",
       "    .dataframe tbody tr th {\n",
       "        vertical-align: top;\n",
       "    }\n",
       "\n",
       "    .dataframe thead th {\n",
       "        text-align: right;\n",
       "    }\n",
       "</style>\n",
       "<table border=\"1\" class=\"dataframe\">\n",
       "  <thead>\n",
       "    <tr style=\"text-align: right;\">\n",
       "      <th></th>\n",
       "      <th>sample</th>\n",
       "      <th>signal_type</th>\n",
       "      <th>dispersia</th>\n",
       "    </tr>\n",
       "  </thead>\n",
       "  <tbody>\n",
       "    <tr>\n",
       "      <th>0</th>\n",
       "      <td>[-1.2775861484909339, 0.9321076418764883, 0.75...</td>\n",
       "      <td>0</td>\n",
       "      <td>0.0</td>\n",
       "    </tr>\n",
       "    <tr>\n",
       "      <th>1</th>\n",
       "      <td>[0.10234567476585762, 1.2993385339116388, 1.18...</td>\n",
       "      <td>0</td>\n",
       "      <td>0.0</td>\n",
       "    </tr>\n",
       "    <tr>\n",
       "      <th>2</th>\n",
       "      <td>[0.057084489773144696, -0.5701127230832402, -0...</td>\n",
       "      <td>0</td>\n",
       "      <td>0.0</td>\n",
       "    </tr>\n",
       "    <tr>\n",
       "      <th>3</th>\n",
       "      <td>[0.2815131866465075, -0.9307416520638366, -1.3...</td>\n",
       "      <td>0</td>\n",
       "      <td>0.0</td>\n",
       "    </tr>\n",
       "    <tr>\n",
       "      <th>4</th>\n",
       "      <td>[0.9321717169831832, 1.2262658344804513, -1.72...</td>\n",
       "      <td>0</td>\n",
       "      <td>0.0</td>\n",
       "    </tr>\n",
       "  </tbody>\n",
       "</table>\n",
       "</div>"
      ],
      "text/plain": [
       "                                              sample  signal_type  dispersia\n",
       "0  [-1.2775861484909339, 0.9321076418764883, 0.75...            0        0.0\n",
       "1  [0.10234567476585762, 1.2993385339116388, 1.18...            0        0.0\n",
       "2  [0.057084489773144696, -0.5701127230832402, -0...            0        0.0\n",
       "3  [0.2815131866465075, -0.9307416520638366, -1.3...            0        0.0\n",
       "4  [0.9321717169831832, 1.2262658344804513, -1.72...            0        0.0"
      ]
     },
     "execution_count": 12,
     "metadata": {
      "tags": []
     },
     "output_type": "execute_result"
    }
   ],
   "source": [
    "train['sample'] = train['sample'].apply(lambda x: np.array(x.replace('[', '').replace(']', '').split()).astype(np.float) / np.var(np.array(x.replace('[', '').replace(']', '').split()).astype(np.float)))\n",
    "train.head()"
   ]
  },
  {
   "cell_type": "code",
   "execution_count": null,
   "metadata": {
    "colab": {
     "base_uri": "https://localhost:8080/",
     "height": 196
    },
    "colab_type": "code",
    "id": "LWzFOC1mHJfl",
    "outputId": "23eea201-eff0-490e-c190-a7f06badb4b9"
   },
   "outputs": [
    {
     "data": {
      "text/html": [
       "<div>\n",
       "<style scoped>\n",
       "    .dataframe tbody tr th:only-of-type {\n",
       "        vertical-align: middle;\n",
       "    }\n",
       "\n",
       "    .dataframe tbody tr th {\n",
       "        vertical-align: top;\n",
       "    }\n",
       "\n",
       "    .dataframe thead th {\n",
       "        text-align: right;\n",
       "    }\n",
       "</style>\n",
       "<table border=\"1\" class=\"dataframe\">\n",
       "  <thead>\n",
       "    <tr style=\"text-align: right;\">\n",
       "      <th></th>\n",
       "      <th>sample</th>\n",
       "      <th>signal_type</th>\n",
       "      <th>dispersia</th>\n",
       "    </tr>\n",
       "  </thead>\n",
       "  <tbody>\n",
       "    <tr>\n",
       "      <th>0</th>\n",
       "      <td>[-0.5948136266774935, -0.8585098045634062, 0.2...</td>\n",
       "      <td>0</td>\n",
       "      <td>0.0</td>\n",
       "    </tr>\n",
       "    <tr>\n",
       "      <th>1</th>\n",
       "      <td>[-1.1149746287397018, -1.2942907515750828, 0.3...</td>\n",
       "      <td>0</td>\n",
       "      <td>0.0</td>\n",
       "    </tr>\n",
       "    <tr>\n",
       "      <th>2</th>\n",
       "      <td>[-1.2452257306425256, -0.3380700076937609, -0....</td>\n",
       "      <td>0</td>\n",
       "      <td>0.0</td>\n",
       "    </tr>\n",
       "    <tr>\n",
       "      <th>3</th>\n",
       "      <td>[0.1682896092078573, 0.6169227409622384, 0.011...</td>\n",
       "      <td>0</td>\n",
       "      <td>0.0</td>\n",
       "    </tr>\n",
       "    <tr>\n",
       "      <th>4</th>\n",
       "      <td>[1.0563490852015827, -0.0378634650071968, 0.30...</td>\n",
       "      <td>0</td>\n",
       "      <td>0.0</td>\n",
       "    </tr>\n",
       "  </tbody>\n",
       "</table>\n",
       "</div>"
      ],
      "text/plain": [
       "                                              sample  signal_type  dispersia\n",
       "0  [-0.5948136266774935, -0.8585098045634062, 0.2...            0        0.0\n",
       "1  [-1.1149746287397018, -1.2942907515750828, 0.3...            0        0.0\n",
       "2  [-1.2452257306425256, -0.3380700076937609, -0....            0        0.0\n",
       "3  [0.1682896092078573, 0.6169227409622384, 0.011...            0        0.0\n",
       "4  [1.0563490852015827, -0.0378634650071968, 0.30...            0        0.0"
      ]
     },
     "execution_count": 13,
     "metadata": {
      "tags": []
     },
     "output_type": "execute_result"
    }
   ],
   "source": [
    "test['sample'] = test['sample'].apply(lambda x: np.array(x.replace('[', '').replace(']', '').split()).astype(np.float) / np.var(np.array(x.replace('[', '').replace(']', '').split()).astype(np.float)))\n",
    "test.head()"
   ]
  },
  {
   "cell_type": "markdown",
   "metadata": {
    "colab_type": "text",
    "id": "xoK_AQIjPgUg"
   },
   "source": [
    "#### Подготовка обучающих и тестовых выборок"
   ]
  },
  {
   "cell_type": "code",
   "execution_count": null,
   "metadata": {
    "colab": {},
    "colab_type": "code",
    "id": "VoDC4tOwIkyR"
   },
   "outputs": [],
   "source": [
    "from sklearn.model_selection import train_test_split\n",
    "\n",
    "X_train, X_val, y_train, y_val = train_test_split(train['sample'], train['signal_type'], test_size=0.3, random_state=42)\n",
    "X_test, y_test = test['sample'], test['signal_type']"
   ]
  },
  {
   "cell_type": "code",
   "execution_count": null,
   "metadata": {
    "colab": {},
    "colab_type": "code",
    "id": "tDvDriWpJXYk"
   },
   "outputs": [],
   "source": [
    "X_train, X_val, y_train, y_val = np.array(X_train), np.array(X_val), np.array(y_train), np.array(y_val)\n",
    "X_test, y_test = np.array(X_test), np.array(y_test)"
   ]
  },
  {
   "cell_type": "code",
   "execution_count": null,
   "metadata": {
    "colab": {},
    "colab_type": "code",
    "id": "Jwx0GK_rMLOT"
   },
   "outputs": [],
   "source": [
    "#X_train = X_train.reshape((X_train.shape[0], n))\n",
    "#X_val = X_val.reshape((X_val.shape[0], n, 1))\n",
    "#X_test = X_test.reshape((X_test.shape[0], n, 1))"
   ]
  },
  {
   "cell_type": "code",
   "execution_count": null,
   "metadata": {
    "colab": {
     "base_uri": "https://localhost:8080/",
     "height": 33
    },
    "colab_type": "code",
    "id": "RhtF56YvOrIB",
    "outputId": "688314a4-e966-4c0f-a7b8-4f676910c4bb"
   },
   "outputs": [
    {
     "name": "stdout",
     "output_type": "stream",
     "text": [
      "(231000, 256)\n"
     ]
    }
   ],
   "source": [
    "X_train_new = []\n",
    "for x in X_train:\n",
    "  X_train_new.append(x)\n",
    "X_train_new = np.array(X_train_new)\n",
    "X_train_new = X_train_new.reshape((X_train_new.shape[0], X_train_new.shape[1]))\n",
    "print(X_train_new.shape)"
   ]
  },
  {
   "cell_type": "code",
   "execution_count": null,
   "metadata": {
    "colab": {
     "base_uri": "https://localhost:8080/",
     "height": 33
    },
    "colab_type": "code",
    "id": "qmpe4N39PJEt",
    "outputId": "19e5757f-57f8-4fed-b397-f7478dfad286"
   },
   "outputs": [
    {
     "name": "stdout",
     "output_type": "stream",
     "text": [
      "(99000, 256)\n"
     ]
    }
   ],
   "source": [
    "X_val_new = []\n",
    "for x in X_val:\n",
    "  X_val_new.append(x)\n",
    "X_val_new = np.array(X_val_new)\n",
    "X_val_new = X_val_new.reshape((X_val_new.shape[0], X_val_new.shape[1]))\n",
    "print(X_val_new.shape)"
   ]
  },
  {
   "cell_type": "code",
   "execution_count": null,
   "metadata": {
    "colab": {
     "base_uri": "https://localhost:8080/",
     "height": 33
    },
    "colab_type": "code",
    "id": "UxcCKKh_PJWq",
    "outputId": "e8880e0b-eb36-4dc6-dc96-e7532f5961db"
   },
   "outputs": [
    {
     "name": "stdout",
     "output_type": "stream",
     "text": [
      "(165000, 256)\n"
     ]
    }
   ],
   "source": [
    "X_test_new = []\n",
    "for x in X_test:\n",
    "  X_test_new.append(x)\n",
    "X_test_new = np.array(X_test_new)\n",
    "X_test_new = X_test_new.reshape((X_test_new.shape[0], X_test_new.shape[1]))\n",
    "print(X_test_new.shape)"
   ]
  },
  {
   "cell_type": "code",
   "execution_count": null,
   "metadata": {
    "colab": {
     "base_uri": "https://localhost:8080/",
     "height": 33
    },
    "colab_type": "code",
    "id": "hy7OzZpcQw40",
    "outputId": "2050eb3a-332e-4499-9ac4-fd0de00222bd"
   },
   "outputs": [
    {
     "data": {
      "text/plain": [
       "(256,)"
      ]
     },
     "execution_count": 20,
     "metadata": {
      "tags": []
     },
     "output_type": "execute_result"
    }
   ],
   "source": [
    "X_train[0].shape"
   ]
  },
  {
   "cell_type": "markdown",
   "metadata": {
    "colab_type": "text",
    "id": "fTafCWPIPkn0"
   },
   "source": [
    "#### Нейросеть"
   ]
  },
  {
   "cell_type": "code",
   "execution_count": null,
   "metadata": {
    "colab": {
     "base_uri": "https://localhost:8080/",
     "height": 67
    },
    "colab_type": "code",
    "id": "hXpWF4szmNnG",
    "outputId": "6d68ef3c-aabc-4c12-95b2-4f2a278839ca"
   },
   "outputs": [
    {
     "name": "stdout",
     "output_type": "stream",
     "text": [
      "2.2.0\n",
      "2.3.1\n"
     ]
    },
    {
     "name": "stderr",
     "output_type": "stream",
     "text": [
      "Using TensorFlow backend.\n"
     ]
    }
   ],
   "source": [
    "import tensorflow as tf\n",
    "import keras\n",
    "from keras import backend as K\n",
    "import numpy as np\n",
    "%matplotlib inline\n",
    "import matplotlib.pyplot as plt\n",
    "print(tf.__version__)\n",
    "print(keras.__version__)\n",
    "from keras.models import Sequential\n",
    "from keras.layers import Conv2D, MaxPooling2D, Flatten, Dense, Activation, Dropout\n",
    "from keras.layers.advanced_activations import LeakyReLU\n",
    "from keras import regularizers\n",
    "from keras.layers import Dense, Activation, Flatten, Dropout, BatchNormalization"
   ]
  },
  {
   "cell_type": "code",
   "execution_count": null,
   "metadata": {
    "colab": {
     "base_uri": "https://localhost:8080/",
     "height": 85
    },
    "colab_type": "code",
    "id": "7agVDyd3mcQx",
    "outputId": "a0e72e82-aba9-471b-d02b-ba4920ee3cbd"
   },
   "outputs": [
    {
     "data": {
      "application/vnd.google.colaboratory.intrinsic": {
       "type": "string"
      },
      "text/plain": [
       "'\\ndef reset_tf_session():\\n    curr_session = tf.get_default_session()\\n    if curr_session is not None:\\n        curr_session.close()\\n    tf.keras.backend.clear_session()\\n    config = tf.ConfigProto()\\n    config.gpu_options.allow_growth = True\\n    s = tf.InteractiveSession(config=config)\\n    tf.keras.backend.set_session(s)\\n    return s\\n\\ns = reset_tf_session()\\n'"
      ]
     },
     "execution_count": 22,
     "metadata": {
      "tags": []
     },
     "output_type": "execute_result"
    }
   ],
   "source": [
    "\"\"\"\n",
    "def reset_tf_session():\n",
    "    curr_session = tf.get_default_session()\n",
    "    if curr_session is not None:\n",
    "        curr_session.close()\n",
    "    tf.keras.backend.clear_session()\n",
    "    config = tf.ConfigProto()\n",
    "    config.gpu_options.allow_growth = True\n",
    "    s = tf.InteractiveSession(config=config)\n",
    "    tf.keras.backend.set_session(s)\n",
    "    return s\n",
    "\n",
    "s = reset_tf_session()\n",
    "\"\"\""
   ]
  },
  {
   "cell_type": "code",
   "execution_count": null,
   "metadata": {
    "colab": {},
    "colab_type": "code",
    "id": "Fff4CC4Mmq6Q"
   },
   "outputs": [],
   "source": [
    "weight_decay = 1e-4\n",
    "initializer='glorot_normal'\n",
    "\n",
    "model = Sequential()\n",
    "model.add(Dense(512, kernel_initializer=initializer, input_shape=(n,)))\n",
    "model.add(LeakyReLU(0.1))\n",
    "model.add(Dropout(0.4))\n",
    "model.add(Dense(256, kernel_initializer=initializer))\n",
    "model.add(LeakyReLU(0.1))\n",
    "model.add(Dropout(0.2))\n",
    "model.add(Dense(32, kernel_initializer=initializer))\n",
    "model.add(Dense(3, kernel_initializer=initializer))\n",
    "model.add(Activation(\"softmax\"))"
   ]
  },
  {
   "cell_type": "code",
   "execution_count": null,
   "metadata": {
    "colab": {},
    "colab_type": "code",
    "id": "yDY3LyCCm5jq"
   },
   "outputs": [],
   "source": [
    "from tensorflow.keras import optimizers"
   ]
  },
  {
   "cell_type": "code",
   "execution_count": null,
   "metadata": {
    "colab": {
     "base_uri": "https://localhost:8080/",
     "height": 452
    },
    "colab_type": "code",
    "id": "5OjUaHHAnINU",
    "outputId": "a0553480-c85e-4457-faa5-813975130c1c"
   },
   "outputs": [
    {
     "name": "stdout",
     "output_type": "stream",
     "text": [
      "Model: \"sequential_1\"\n",
      "_________________________________________________________________\n",
      "Layer (type)                 Output Shape              Param #   \n",
      "=================================================================\n",
      "dense_1 (Dense)              (None, 512)               131584    \n",
      "_________________________________________________________________\n",
      "leaky_re_lu_1 (LeakyReLU)    (None, 512)               0         \n",
      "_________________________________________________________________\n",
      "dropout_1 (Dropout)          (None, 512)               0         \n",
      "_________________________________________________________________\n",
      "dense_2 (Dense)              (None, 256)               131328    \n",
      "_________________________________________________________________\n",
      "leaky_re_lu_2 (LeakyReLU)    (None, 256)               0         \n",
      "_________________________________________________________________\n",
      "dropout_2 (Dropout)          (None, 256)               0         \n",
      "_________________________________________________________________\n",
      "dense_3 (Dense)              (None, 32)                8224      \n",
      "_________________________________________________________________\n",
      "dense_4 (Dense)              (None, 3)                 99        \n",
      "_________________________________________________________________\n",
      "activation_1 (Activation)    (None, 3)                 0         \n",
      "=================================================================\n",
      "Total params: 271,235\n",
      "Trainable params: 271,235\n",
      "Non-trainable params: 0\n",
      "_________________________________________________________________\n"
     ]
    }
   ],
   "source": [
    "INIT_LR = 5e-3\n",
    "\n",
    "model.compile(\n",
    "    loss='sparse_categorical_crossentropy',  \n",
    "    optimizer=keras.optimizers.adamax(lr=INIT_LR),  \n",
    "    metrics=['accuracy']\n",
    ")\n",
    "model.summary()"
   ]
  },
  {
   "cell_type": "code",
   "execution_count": null,
   "metadata": {
    "colab": {},
    "colab_type": "code",
    "id": "1coTIlO1KqjQ"
   },
   "outputs": [],
   "source": [
    "#train['sample'].shape"
   ]
  },
  {
   "cell_type": "code",
   "execution_count": null,
   "metadata": {
    "colab": {},
    "colab_type": "code",
    "id": "BRG6qwipOX_L"
   },
   "outputs": [],
   "source": [
    "#for x in X_train:\n",
    "  #x = x.reshape((n, 1))"
   ]
  },
  {
   "cell_type": "code",
   "execution_count": null,
   "metadata": {
    "colab": {},
    "colab_type": "code",
    "id": "JIEdueGzOdto"
   },
   "outputs": [],
   "source": [
    "#X_train[0].shape"
   ]
  },
  {
   "cell_type": "code",
   "execution_count": null,
   "metadata": {
    "colab": {},
    "colab_type": "code",
    "id": "1M3VN2PTKefC"
   },
   "outputs": [],
   "source": [
    "#X_train = X_train.reshape((X_train.shape[0], n))\n",
    "#X_train.shape"
   ]
  },
  {
   "cell_type": "code",
   "execution_count": null,
   "metadata": {
    "colab": {},
    "colab_type": "code",
    "id": "SvLOsDPRL8pX"
   },
   "outputs": [],
   "source": [
    "#y_train.shape"
   ]
  },
  {
   "cell_type": "code",
   "execution_count": null,
   "metadata": {
    "colab": {
     "base_uri": "https://localhost:8080/",
     "height": 187
    },
    "colab_type": "code",
    "id": "0rxcs7jFnW2n",
    "outputId": "c60abe53-555b-4ce0-b8b9-3fdcfaa4d5a8"
   },
   "outputs": [
    {
     "name": "stdout",
     "output_type": "stream",
     "text": [
      "Train on 231000 samples, validate on 99000 samples\n",
      "Epoch 1/4\n",
      "231000/231000 [==============================] - 77s 335us/step - loss: 7.9814e-04 - accuracy: 0.9997 - val_loss: 6.4592e-04 - val_accuracy: 0.9998\n",
      "Epoch 2/4\n",
      "231000/231000 [==============================] - 78s 338us/step - loss: 2.8504e-04 - accuracy: 0.9999 - val_loss: 4.0184e-05 - val_accuracy: 1.0000\n",
      "Epoch 3/4\n",
      "231000/231000 [==============================] - 77s 332us/step - loss: 2.6361e-04 - accuracy: 1.0000 - val_loss: 1.2810e-04 - val_accuracy: 0.9999\n",
      "Epoch 4/4\n",
      "231000/231000 [==============================] - 79s 342us/step - loss: 2.1659e-04 - accuracy: 1.0000 - val_loss: 1.6370e-04 - val_accuracy: 0.9999\n"
     ]
    }
   ],
   "source": [
    "history1 = model.fit(\n",
    "    x=X_train_new, y=y_train,\n",
    "    batch_size=16,\n",
    "    epochs=4,\n",
    "    validation_data=(X_val_new, y_val),\n",
    "    shuffle=True,\n",
    "    verbose=1,\n",
    "    initial_epoch=0\n",
    ") "
   ]
  },
  {
   "cell_type": "code",
   "execution_count": null,
   "metadata": {
    "colab": {},
    "colab_type": "code",
    "id": "Db66z1FnVEek"
   },
   "outputs": [],
   "source": [
    "pred = model.predict_classes(X_test_new)"
   ]
  },
  {
   "cell_type": "code",
   "execution_count": null,
   "metadata": {
    "colab": {
     "base_uri": "https://localhost:8080/",
     "height": 195
    },
    "colab_type": "code",
    "id": "gD6RGvGBnlgR",
    "outputId": "27caa769-85ce-4cde-f4d1-bdc9b3dccd59"
   },
   "outputs": [
    {
     "ename": "NameError",
     "evalue": "ignored",
     "output_type": "error",
     "traceback": [
      "\u001b[0;31m---------------------------------------------------------------------------\u001b[0m",
      "\u001b[0;31mNameError\u001b[0m                                 Traceback (most recent call last)",
      "\u001b[0;32m<ipython-input-1-049602a0c71a>\u001b[0m in \u001b[0;36m<module>\u001b[0;34m()\u001b[0m\n\u001b[1;32m      1\u001b[0m \u001b[0;32mfrom\u001b[0m \u001b[0msklearn\u001b[0m\u001b[0;34m.\u001b[0m\u001b[0mmetrics\u001b[0m \u001b[0;32mimport\u001b[0m \u001b[0mf1_score\u001b[0m\u001b[0;34m\u001b[0m\u001b[0;34m\u001b[0m\u001b[0m\n\u001b[1;32m      2\u001b[0m \u001b[0;34m\u001b[0m\u001b[0m\n\u001b[0;32m----> 3\u001b[0;31m \u001b[0mf1_score\u001b[0m\u001b[0;34m(\u001b[0m\u001b[0my_test\u001b[0m\u001b[0;34m,\u001b[0m \u001b[0mpred\u001b[0m\u001b[0;34m,\u001b[0m \u001b[0maverage\u001b[0m\u001b[0;34m=\u001b[0m\u001b[0;34m'macro'\u001b[0m\u001b[0;34m)\u001b[0m\u001b[0;34m\u001b[0m\u001b[0;34m\u001b[0m\u001b[0m\n\u001b[0m",
      "\u001b[0;31mNameError\u001b[0m: name 'y_test' is not defined"
     ]
    }
   ],
   "source": [
    "from sklearn.metrics import f1_score\n",
    " \n",
    "f1_score(y_test, pred, average='macro')"
   ]
  },
  {
   "cell_type": "code",
   "execution_count": null,
   "metadata": {
    "colab": {
     "base_uri": "https://localhost:8080/",
     "height": 34
    },
    "colab_type": "code",
    "id": "k7GCgjntn0Jm",
    "outputId": "60ca387c-80f0-4202-82a4-2dadc7369402"
   },
   "outputs": [
    {
     "data": {
      "text/plain": [
       "0.9999703703703704"
      ]
     },
     "execution_count": 212,
     "metadata": {
      "tags": []
     },
     "output_type": "execute_result"
    }
   ],
   "source": [
    "f1_score(y_test, pred, average='micro')"
   ]
  },
  {
   "cell_type": "code",
   "execution_count": null,
   "metadata": {
    "colab": {
     "base_uri": "https://localhost:8080/",
     "height": 34
    },
    "colab_type": "code",
    "id": "W2c7Jl8uoCzQ",
    "outputId": "9a338a1c-b1e4-4c41-bdf2-564ed84b31b9"
   },
   "outputs": [
    {
     "data": {
      "text/plain": [
       "0.9999703700411157"
      ]
     },
     "execution_count": 213,
     "metadata": {
      "tags": []
     },
     "output_type": "execute_result"
    }
   ],
   "source": [
    "f1_score(y_test, pred, average='weighted')"
   ]
  },
  {
   "cell_type": "code",
   "execution_count": null,
   "metadata": {
    "colab": {},
    "colab_type": "code",
    "id": "hE5un5GnoRcl"
   },
   "outputs": [],
   "source": [
    "f1_score(y_test, pred, average=None)"
   ]
  },
  {
   "cell_type": "markdown",
   "metadata": {
    "colab_type": "text",
    "id": "CJpOU-O-Q920"
   },
   "source": [
    "## Проверка зависимости f1-меры от дисперсии s\n",
    "Сгенерируем новые выборки:\n",
    "\n",
    "\n",
    "*   train - lfm1 и lfm2 с 0 дисперсией; test - дисперсия меняется от 0 до 1\n",
    "*   train - дисперсия lfm1 и lfm2 меняется от 0 до 1; test - дисперсия меняется от 0 до 1\n",
    "\n"
   ]
  },
  {
   "cell_type": "code",
   "execution_count": null,
   "metadata": {
    "colab": {
     "base_uri": "https://localhost:8080/",
     "height": 33
    },
    "colab_type": "code",
    "id": "cGfl0EZGo8CH",
    "outputId": "46a7654b-84db-4b0c-f3ef-c2c5966355a5"
   },
   "outputs": [
    {
     "data": {
      "text/plain": [
       "[0.0, 0.5, 1.0, 1.5, 2.0, 2.5, 3.0, 3.5, 4.0, 4.5, 5.0]"
      ]
     },
     "execution_count": 16,
     "metadata": {
      "tags": []
     },
     "output_type": "execute_result"
    }
   ],
   "source": [
    "S = [i / 1000 for i in range(0, 5001, 500)]\n",
    "S"
   ]
  },
  {
   "cell_type": "code",
   "execution_count": null,
   "metadata": {
    "colab": {
     "base_uri": "https://localhost:8080/",
     "height": 201
    },
    "colab_type": "code",
    "id": "BjnjzbiLouv0",
    "outputId": "82f1b3c4-0667-427f-adab-92b3b633680f"
   },
   "outputs": [
    {
     "name": "stdout",
     "output_type": "stream",
     "text": [
      "0.0\n",
      "0.5\n",
      "1.0\n",
      "1.5\n",
      "2.0\n",
      "2.5\n",
      "3.0\n",
      "3.5\n",
      "4.0\n",
      "4.5\n",
      "5.0\n"
     ]
    }
   ],
   "source": [
    "f0_1 = 0.1\n",
    "f0_2 = 0.1\n",
    "b_1 = 1\n",
    "b_2 = 2\n",
    "s0_1 = 1\n",
    "s0_2 = 1\n",
    "T = np.linspace(0, n / 100, n)\n",
    "\n",
    "row = -1\n",
    "r_test = -1\n",
    "for s in S:\n",
    "  print(s)\n",
    "  for i in range(n_train):\n",
    "    row += 1\n",
    "    noise = norm.rvs(loc=0, scale=1, size=n)\n",
    "    train.loc[row, 'sample'] = noise\n",
    "    train.loc[row, 'signal_type'] = 0\n",
    "    train.loc[row, 'dispersia'] = s\n",
    "  # adding lfm1\n",
    "  for i in range(0, n_train):\n",
    "    row += 1\n",
    "    phi0 = np.random.uniform(low=-np.pi, high=np.pi, size=None)\n",
    "    lfm1 = s0_1 * np.cos(phi0 + 2*np.pi*(f0_1 * T + 0.5 * b_1 * T ** 2)) + norm.rvs(loc=0, scale=s, size=n)\n",
    "    train.loc[row, 'sample'] = lfm1\n",
    "    train.loc[row, 'signal_type'] = 1\n",
    "    train.loc[row, 'dispersia'] = s\n",
    "  #adding lfm2\n",
    "  for i in range(0, n_train):\n",
    "    row += 1\n",
    "    phi0 = np.random.uniform(low=-np.pi, high=np.pi, size=None)\n",
    "    lfm2 = s0_2 * np.cos(phi0 + 2*np.pi*(f0_2 * T + 0.5 * b_2 * T ** 2)) + norm.rvs(loc=0, scale=s, size=n)\n",
    "    train.loc[row, 'sample'] = lfm2\n",
    "    train.loc[row, 'signal_type'] = 2\n",
    "    train.loc[row, 'dispersia'] = s\n",
    "   \n",
    "  # adding noise\n",
    "  for i in range(n_test):\n",
    "    r_test += 1\n",
    "    noise = norm.rvs(loc=0, scale=1, size=n)\n",
    "    test.loc[r_test, 'sample'] = noise\n",
    "    test.loc[r_test, 'signal_type'] = 0\n",
    "    test.loc[r_test, 'dispersia'] = s\n",
    "  # adding lfm1\n",
    "  for i in range(0, n_test):\n",
    "    r_test += 1\n",
    "    phi0 = np.random.uniform(low=-np.pi, high=np.pi, size=None)\n",
    "    lfm1 = s0_1 * np.cos(phi0 + 2*np.pi*(f0_1 * T + 0.5 * b_1 * T ** 2)) + norm.rvs(loc=0, scale=s, size=n)\n",
    "    test.loc[r_test, 'sample'] = lfm1\n",
    "    test.loc[r_test, 'signal_type'] = 1\n",
    "    test.loc[r_test, 'dispersia'] = s\n",
    "  #adding lfm2\n",
    "  for i in range(0, n_test):\n",
    "    r_test += 1\n",
    "    phi0 = np.random.uniform(low=-np.pi, high=np.pi, size=None)\n",
    "    lfm2 = s0_2 * np.cos(phi0 + 2*np.pi*(f0_2 * T + 0.5 * b_2 * T ** 2)) + norm.rvs(loc=0, scale=s, size=n)\n",
    "    test.loc[r_test, 'sample'] = lfm2\n",
    "    test.loc[r_test, 'signal_type'] = 2\n",
    "    test.loc[r_test, 'dispersia'] = s"
   ]
  },
  {
   "cell_type": "code",
   "execution_count": null,
   "metadata": {
    "colab": {
     "base_uri": "https://localhost:8080/",
     "height": 196
    },
    "colab_type": "code",
    "id": "viP6HZi8o9ZM",
    "outputId": "d39bec36-a819-4c59-e779-2816c93a67ef"
   },
   "outputs": [
    {
     "data": {
      "text/html": [
       "<div>\n",
       "<style scoped>\n",
       "    .dataframe tbody tr th:only-of-type {\n",
       "        vertical-align: middle;\n",
       "    }\n",
       "\n",
       "    .dataframe tbody tr th {\n",
       "        vertical-align: top;\n",
       "    }\n",
       "\n",
       "    .dataframe thead th {\n",
       "        text-align: right;\n",
       "    }\n",
       "</style>\n",
       "<table border=\"1\" class=\"dataframe\">\n",
       "  <thead>\n",
       "    <tr style=\"text-align: right;\">\n",
       "      <th></th>\n",
       "      <th>sample</th>\n",
       "      <th>signal_type</th>\n",
       "      <th>dispersia</th>\n",
       "    </tr>\n",
       "  </thead>\n",
       "  <tbody>\n",
       "    <tr>\n",
       "      <th>0</th>\n",
       "      <td>[1.0009308641952879, -1.295675924623081, -1.02...</td>\n",
       "      <td>0</td>\n",
       "      <td>0</td>\n",
       "    </tr>\n",
       "    <tr>\n",
       "      <th>1</th>\n",
       "      <td>[1.0221997521222286, 0.37526483155115903, 0.04...</td>\n",
       "      <td>0</td>\n",
       "      <td>0</td>\n",
       "    </tr>\n",
       "    <tr>\n",
       "      <th>2</th>\n",
       "      <td>[-0.02117454966615691, -0.48999525703453944, 0...</td>\n",
       "      <td>0</td>\n",
       "      <td>0</td>\n",
       "    </tr>\n",
       "    <tr>\n",
       "      <th>3</th>\n",
       "      <td>[0.47632631149499927, -0.7344289953791433, 0.3...</td>\n",
       "      <td>0</td>\n",
       "      <td>0</td>\n",
       "    </tr>\n",
       "    <tr>\n",
       "      <th>4</th>\n",
       "      <td>[0.5661762998642768, 0.3279325079069521, 0.770...</td>\n",
       "      <td>0</td>\n",
       "      <td>0</td>\n",
       "    </tr>\n",
       "  </tbody>\n",
       "</table>\n",
       "</div>"
      ],
      "text/plain": [
       "                                              sample signal_type dispersia\n",
       "0  [1.0009308641952879, -1.295675924623081, -1.02...           0         0\n",
       "1  [1.0221997521222286, 0.37526483155115903, 0.04...           0         0\n",
       "2  [-0.02117454966615691, -0.48999525703453944, 0...           0         0\n",
       "3  [0.47632631149499927, -0.7344289953791433, 0.3...           0         0\n",
       "4  [0.5661762998642768, 0.3279325079069521, 0.770...           0         0"
      ]
     },
     "execution_count": 18,
     "metadata": {
      "tags": []
     },
     "output_type": "execute_result"
    }
   ],
   "source": [
    "train.head()"
   ]
  },
  {
   "cell_type": "code",
   "execution_count": null,
   "metadata": {
    "colab": {
     "base_uri": "https://localhost:8080/",
     "height": 196
    },
    "colab_type": "code",
    "id": "zJLpWOtIpMCs",
    "outputId": "b597725f-8077-47f4-f8ec-e808d207b26a"
   },
   "outputs": [
    {
     "data": {
      "text/html": [
       "<div>\n",
       "<style scoped>\n",
       "    .dataframe tbody tr th:only-of-type {\n",
       "        vertical-align: middle;\n",
       "    }\n",
       "\n",
       "    .dataframe tbody tr th {\n",
       "        vertical-align: top;\n",
       "    }\n",
       "\n",
       "    .dataframe thead th {\n",
       "        text-align: right;\n",
       "    }\n",
       "</style>\n",
       "<table border=\"1\" class=\"dataframe\">\n",
       "  <thead>\n",
       "    <tr style=\"text-align: right;\">\n",
       "      <th></th>\n",
       "      <th>sample</th>\n",
       "      <th>signal_type</th>\n",
       "      <th>dispersia</th>\n",
       "    </tr>\n",
       "  </thead>\n",
       "  <tbody>\n",
       "    <tr>\n",
       "      <th>0</th>\n",
       "      <td>[-0.8760258606151521, 0.6950871256473774, -0.1...</td>\n",
       "      <td>0</td>\n",
       "      <td>0</td>\n",
       "    </tr>\n",
       "    <tr>\n",
       "      <th>1</th>\n",
       "      <td>[1.0242660338186562, 1.0321492886733359, -0.64...</td>\n",
       "      <td>0</td>\n",
       "      <td>0</td>\n",
       "    </tr>\n",
       "    <tr>\n",
       "      <th>2</th>\n",
       "      <td>[0.19445469449948105, -0.42181174644127367, -1...</td>\n",
       "      <td>0</td>\n",
       "      <td>0</td>\n",
       "    </tr>\n",
       "    <tr>\n",
       "      <th>3</th>\n",
       "      <td>[-1.5422512684751728, -0.18569544514419892, 0....</td>\n",
       "      <td>0</td>\n",
       "      <td>0</td>\n",
       "    </tr>\n",
       "    <tr>\n",
       "      <th>4</th>\n",
       "      <td>[1.7200643146791919, -0.3202860529992843, -0.1...</td>\n",
       "      <td>0</td>\n",
       "      <td>0</td>\n",
       "    </tr>\n",
       "  </tbody>\n",
       "</table>\n",
       "</div>"
      ],
      "text/plain": [
       "                                              sample signal_type dispersia\n",
       "0  [-0.8760258606151521, 0.6950871256473774, -0.1...           0         0\n",
       "1  [1.0242660338186562, 1.0321492886733359, -0.64...           0         0\n",
       "2  [0.19445469449948105, -0.42181174644127367, -1...           0         0\n",
       "3  [-1.5422512684751728, -0.18569544514419892, 0....           0         0\n",
       "4  [1.7200643146791919, -0.3202860529992843, -0.1...           0         0"
      ]
     },
     "execution_count": 19,
     "metadata": {
      "tags": []
     },
     "output_type": "execute_result"
    }
   ],
   "source": [
    "test.head()"
   ]
  },
  {
   "cell_type": "code",
   "execution_count": null,
   "metadata": {
    "colab": {},
    "colab_type": "code",
    "id": "R7Me5vV_pasR"
   },
   "outputs": [],
   "source": [
    "train.to_excel('train_phi0.xlsx', index=False)\n",
    "#test.to_excel('test_1var.xlsx', index=False)"
   ]
  },
  {
   "cell_type": "code",
   "execution_count": null,
   "metadata": {
    "colab": {},
    "colab_type": "code",
    "id": "caGAhjJTAsdN"
   },
   "outputs": [],
   "source": [
    "test.to_excel('test_phi0.xlsx', index=False)"
   ]
  },
  {
   "cell_type": "code",
   "execution_count": null,
   "metadata": {
    "colab": {},
    "colab_type": "code",
    "id": "CzddMP2tTp2O"
   },
   "outputs": [],
   "source": [
    "#train = pd.read_excel('train_1var.xlsx')\n",
    "#test = pd.read_excel('test_1var.xlsx')"
   ]
  },
  {
   "cell_type": "code",
   "execution_count": null,
   "metadata": {
    "colab": {
     "base_uri": "https://localhost:8080/",
     "height": 390
    },
    "colab_type": "code",
    "id": "qCmbeYcL0-E9",
    "outputId": "d1074c2d-aeb2-4337-a962-62aa854492f8"
   },
   "outputs": [
    {
     "name": "stderr",
     "output_type": "stream",
     "text": [
      "/usr/local/lib/python3.6/dist-packages/tables/leaf.py:414: PerformanceWarning: The Leaf ``/results_table/_i_table/sample/sorted`` is exceeding the maximum recommended rowsize (104857600 bytes);\n",
      "be ready to see PyTables asking for *lots* of memory and possibly slow\n",
      "I/O.  You may want to reduce the rowsize by trimming the value of\n",
      "dimensions that are orthogonal (and preferably close) to the *main*\n",
      "dimension of this leave.  Alternatively, in case you have specified a\n",
      "very small/large chunksize, you may want to increase/decrease it.\n",
      "  PerformanceWarning)\n",
      "/usr/local/lib/python3.6/dist-packages/tables/leaf.py:414: PerformanceWarning: The Leaf ``/sorted`` is exceeding the maximum recommended rowsize (104857600 bytes);\n",
      "be ready to see PyTables asking for *lots* of memory and possibly slow\n",
      "I/O.  You may want to reduce the rowsize by trimming the value of\n",
      "dimensions that are orthogonal (and preferably close) to the *main*\n",
      "dimension of this leave.  Alternatively, in case you have specified a\n",
      "very small/large chunksize, you may want to increase/decrease it.\n",
      "  PerformanceWarning)\n",
      "/usr/local/lib/python3.6/dist-packages/tables/leaf.py:414: PerformanceWarning: The Leaf ``/sorted2`` is exceeding the maximum recommended rowsize (104857600 bytes);\n",
      "be ready to see PyTables asking for *lots* of memory and possibly slow\n",
      "I/O.  You may want to reduce the rowsize by trimming the value of\n",
      "dimensions that are orthogonal (and preferably close) to the *main*\n",
      "dimension of this leave.  Alternatively, in case you have specified a\n",
      "very small/large chunksize, you may want to increase/decrease it.\n",
      "  PerformanceWarning)\n"
     ]
    }
   ],
   "source": [
    "train.to_hdf('train.hdf5', 'results_table', mode='w', data_columns=True, format='table')\n",
    "test.to_hdf('test.hdf5', 'results_table', mode='w', data_columns=True, format='table')"
   ]
  },
  {
   "cell_type": "code",
   "execution_count": null,
   "metadata": {
    "colab": {
     "base_uri": "https://localhost:8080/",
     "height": 154
    },
    "colab_type": "code",
    "id": "L62bjt5v1Szf",
    "outputId": "50e39702-2bed-4e8d-fb2d-29343f1620f1"
   },
   "outputs": [
    {
     "name": "stderr",
     "output_type": "stream",
     "text": [
      "/usr/local/lib/python3.6/dist-packages/tables/leaf.py:414: PerformanceWarning: The Leaf ``/results_table/_i_table/sample/sorted`` is exceeding the maximum recommended rowsize (104857600 bytes);\n",
      "be ready to see PyTables asking for *lots* of memory and possibly slow\n",
      "I/O.  You may want to reduce the rowsize by trimming the value of\n",
      "dimensions that are orthogonal (and preferably close) to the *main*\n",
      "dimension of this leave.  Alternatively, in case you have specified a\n",
      "very small/large chunksize, you may want to increase/decrease it.\n",
      "  PerformanceWarning)\n"
     ]
    }
   ],
   "source": [
    "train = pd.read_hdf('train.hdf5')\n",
    "test = pd.read_hdf('test.hdf5')"
   ]
  },
  {
   "cell_type": "code",
   "execution_count": null,
   "metadata": {
    "colab": {
     "base_uri": "https://localhost:8080/",
     "height": 195
    },
    "colab_type": "code",
    "id": "yjEuQYQ81czj",
    "outputId": "9a1697b9-0c18-431d-860a-c4ca1019e240"
   },
   "outputs": [
    {
     "data": {
      "text/html": [
       "<div>\n",
       "<style scoped>\n",
       "    .dataframe tbody tr th:only-of-type {\n",
       "        vertical-align: middle;\n",
       "    }\n",
       "\n",
       "    .dataframe tbody tr th {\n",
       "        vertical-align: top;\n",
       "    }\n",
       "\n",
       "    .dataframe thead th {\n",
       "        text-align: right;\n",
       "    }\n",
       "</style>\n",
       "<table border=\"1\" class=\"dataframe\">\n",
       "  <thead>\n",
       "    <tr style=\"text-align: right;\">\n",
       "      <th></th>\n",
       "      <th>sample</th>\n",
       "      <th>signal_type</th>\n",
       "      <th>dispersia</th>\n",
       "    </tr>\n",
       "  </thead>\n",
       "  <tbody>\n",
       "    <tr>\n",
       "      <th>0</th>\n",
       "      <td>[-1.24761268  0.91023945  0.7337857  -1.287075...</td>\n",
       "      <td>0</td>\n",
       "      <td>0.0</td>\n",
       "    </tr>\n",
       "    <tr>\n",
       "      <th>1</th>\n",
       "      <td>[ 9.13718528e-02  1.16001941e+00  1.05842829e+...</td>\n",
       "      <td>0</td>\n",
       "      <td>0.0</td>\n",
       "    </tr>\n",
       "    <tr>\n",
       "      <th>2</th>\n",
       "      <td>[ 0.05873622 -0.58660884 -0.11116631  0.139471...</td>\n",
       "      <td>0</td>\n",
       "      <td>0.0</td>\n",
       "    </tr>\n",
       "    <tr>\n",
       "      <th>3</th>\n",
       "      <td>[ 0.26305407 -0.86971194 -1.26081817 -1.655349...</td>\n",
       "      <td>0</td>\n",
       "      <td>0.0</td>\n",
       "    </tr>\n",
       "    <tr>\n",
       "      <th>4</th>\n",
       "      <td>[ 0.90894963  1.19571733 -1.68403305 -1.283347...</td>\n",
       "      <td>0</td>\n",
       "      <td>0.0</td>\n",
       "    </tr>\n",
       "  </tbody>\n",
       "</table>\n",
       "</div>"
      ],
      "text/plain": [
       "                                              sample  signal_type  dispersia\n",
       "0  [-1.24761268  0.91023945  0.7337857  -1.287075...            0        0.0\n",
       "1  [ 9.13718528e-02  1.16001941e+00  1.05842829e+...            0        0.0\n",
       "2  [ 0.05873622 -0.58660884 -0.11116631  0.139471...            0        0.0\n",
       "3  [ 0.26305407 -0.86971194 -1.26081817 -1.655349...            0        0.0\n",
       "4  [ 0.90894963  1.19571733 -1.68403305 -1.283347...            0        0.0"
      ]
     },
     "execution_count": 129,
     "metadata": {
      "tags": []
     },
     "output_type": "execute_result"
    }
   ],
   "source": [
    "train.head()"
   ]
  },
  {
   "cell_type": "markdown",
   "metadata": {
    "colab_type": "text",
    "id": "zInD9s0dTRSM"
   },
   "source": [
    "#### Нормализация данных"
   ]
  },
  {
   "cell_type": "code",
   "execution_count": null,
   "metadata": {
    "colab": {
     "base_uri": "https://localhost:8080/",
     "height": 404
    },
    "colab_type": "code",
    "id": "XY4lR3x7oXNt",
    "outputId": "514dd7ba-78ee-41ad-9a26-8ea234ea1b45"
   },
   "outputs": [
    {
     "data": {
      "text/html": [
       "<div>\n",
       "<style scoped>\n",
       "    .dataframe tbody tr th:only-of-type {\n",
       "        vertical-align: middle;\n",
       "    }\n",
       "\n",
       "    .dataframe tbody tr th {\n",
       "        vertical-align: top;\n",
       "    }\n",
       "\n",
       "    .dataframe thead th {\n",
       "        text-align: right;\n",
       "    }\n",
       "</style>\n",
       "<table border=\"1\" class=\"dataframe\">\n",
       "  <thead>\n",
       "    <tr style=\"text-align: right;\">\n",
       "      <th></th>\n",
       "      <th>sample</th>\n",
       "      <th>signal_type</th>\n",
       "      <th>dispersia</th>\n",
       "    </tr>\n",
       "  </thead>\n",
       "  <tbody>\n",
       "    <tr>\n",
       "      <th>0</th>\n",
       "      <td>[1.0009308641952879, -1.295675924623081, -1.02...</td>\n",
       "      <td>0</td>\n",
       "      <td>0</td>\n",
       "    </tr>\n",
       "    <tr>\n",
       "      <th>1</th>\n",
       "      <td>[1.0221997521222286, 0.37526483155115903, 0.04...</td>\n",
       "      <td>0</td>\n",
       "      <td>0</td>\n",
       "    </tr>\n",
       "    <tr>\n",
       "      <th>2</th>\n",
       "      <td>[-0.02117454966615691, -0.48999525703453944, 0...</td>\n",
       "      <td>0</td>\n",
       "      <td>0</td>\n",
       "    </tr>\n",
       "    <tr>\n",
       "      <th>3</th>\n",
       "      <td>[0.47632631149499927, -0.7344289953791433, 0.3...</td>\n",
       "      <td>0</td>\n",
       "      <td>0</td>\n",
       "    </tr>\n",
       "    <tr>\n",
       "      <th>4</th>\n",
       "      <td>[0.5661762998642768, 0.3279325079069521, 0.770...</td>\n",
       "      <td>0</td>\n",
       "      <td>0</td>\n",
       "    </tr>\n",
       "    <tr>\n",
       "      <th>...</th>\n",
       "      <td>...</td>\n",
       "      <td>...</td>\n",
       "      <td>...</td>\n",
       "    </tr>\n",
       "    <tr>\n",
       "      <th>329995</th>\n",
       "      <td>[0.6916818078225941, -10.160499168707078, -2.4...</td>\n",
       "      <td>2</td>\n",
       "      <td>5</td>\n",
       "    </tr>\n",
       "    <tr>\n",
       "      <th>329996</th>\n",
       "      <td>[2.3433887960661304, 5.558183898514478, -7.509...</td>\n",
       "      <td>2</td>\n",
       "      <td>5</td>\n",
       "    </tr>\n",
       "    <tr>\n",
       "      <th>329997</th>\n",
       "      <td>[5.420489054836748, 2.7901478121405043, -8.553...</td>\n",
       "      <td>2</td>\n",
       "      <td>5</td>\n",
       "    </tr>\n",
       "    <tr>\n",
       "      <th>329998</th>\n",
       "      <td>[-3.4010161314632024, 4.6663997694898525, 3.50...</td>\n",
       "      <td>2</td>\n",
       "      <td>5</td>\n",
       "    </tr>\n",
       "    <tr>\n",
       "      <th>329999</th>\n",
       "      <td>[7.167595413209841, 5.876722233759506, 3.92295...</td>\n",
       "      <td>2</td>\n",
       "      <td>5</td>\n",
       "    </tr>\n",
       "  </tbody>\n",
       "</table>\n",
       "<p>330000 rows × 3 columns</p>\n",
       "</div>"
      ],
      "text/plain": [
       "                                                   sample signal_type dispersia\n",
       "0       [1.0009308641952879, -1.295675924623081, -1.02...           0         0\n",
       "1       [1.0221997521222286, 0.37526483155115903, 0.04...           0         0\n",
       "2       [-0.02117454966615691, -0.48999525703453944, 0...           0         0\n",
       "3       [0.47632631149499927, -0.7344289953791433, 0.3...           0         0\n",
       "4       [0.5661762998642768, 0.3279325079069521, 0.770...           0         0\n",
       "...                                                   ...         ...       ...\n",
       "329995  [0.6916818078225941, -10.160499168707078, -2.4...           2         5\n",
       "329996  [2.3433887960661304, 5.558183898514478, -7.509...           2         5\n",
       "329997  [5.420489054836748, 2.7901478121405043, -8.553...           2         5\n",
       "329998  [-3.4010161314632024, 4.6663997694898525, 3.50...           2         5\n",
       "329999  [7.167595413209841, 5.876722233759506, 3.92295...           2         5\n",
       "\n",
       "[330000 rows x 3 columns]"
      ]
     },
     "execution_count": 36,
     "metadata": {
      "tags": []
     },
     "output_type": "execute_result"
    }
   ],
   "source": [
    "train"
   ]
  },
  {
   "cell_type": "code",
   "execution_count": null,
   "metadata": {
    "colab": {
     "base_uri": "https://localhost:8080/",
     "height": 404
    },
    "colab_type": "code",
    "id": "VU-ewnJJoZtn",
    "outputId": "58bb4efb-a084-43be-b34c-ccc0ffd5bdb5"
   },
   "outputs": [
    {
     "data": {
      "text/html": [
       "<div>\n",
       "<style scoped>\n",
       "    .dataframe tbody tr th:only-of-type {\n",
       "        vertical-align: middle;\n",
       "    }\n",
       "\n",
       "    .dataframe tbody tr th {\n",
       "        vertical-align: top;\n",
       "    }\n",
       "\n",
       "    .dataframe thead th {\n",
       "        text-align: right;\n",
       "    }\n",
       "</style>\n",
       "<table border=\"1\" class=\"dataframe\">\n",
       "  <thead>\n",
       "    <tr style=\"text-align: right;\">\n",
       "      <th></th>\n",
       "      <th>sample</th>\n",
       "      <th>signal_type</th>\n",
       "      <th>dispersia</th>\n",
       "    </tr>\n",
       "  </thead>\n",
       "  <tbody>\n",
       "    <tr>\n",
       "      <th>0</th>\n",
       "      <td>[-0.8760258606151521, 0.6950871256473774, -0.1...</td>\n",
       "      <td>0</td>\n",
       "      <td>0</td>\n",
       "    </tr>\n",
       "    <tr>\n",
       "      <th>1</th>\n",
       "      <td>[1.0242660338186562, 1.0321492886733359, -0.64...</td>\n",
       "      <td>0</td>\n",
       "      <td>0</td>\n",
       "    </tr>\n",
       "    <tr>\n",
       "      <th>2</th>\n",
       "      <td>[0.19445469449948105, -0.42181174644127367, -1...</td>\n",
       "      <td>0</td>\n",
       "      <td>0</td>\n",
       "    </tr>\n",
       "    <tr>\n",
       "      <th>3</th>\n",
       "      <td>[-1.5422512684751728, -0.18569544514419892, 0....</td>\n",
       "      <td>0</td>\n",
       "      <td>0</td>\n",
       "    </tr>\n",
       "    <tr>\n",
       "      <th>4</th>\n",
       "      <td>[1.7200643146791919, -0.3202860529992843, -0.1...</td>\n",
       "      <td>0</td>\n",
       "      <td>0</td>\n",
       "    </tr>\n",
       "    <tr>\n",
       "      <th>...</th>\n",
       "      <td>...</td>\n",
       "      <td>...</td>\n",
       "      <td>...</td>\n",
       "    </tr>\n",
       "    <tr>\n",
       "      <th>164995</th>\n",
       "      <td>[7.539121527092645, 1.712947452466533, 4.27141...</td>\n",
       "      <td>2</td>\n",
       "      <td>5</td>\n",
       "    </tr>\n",
       "    <tr>\n",
       "      <th>164996</th>\n",
       "      <td>[-5.436739425544099, 5.236649885534303, -0.622...</td>\n",
       "      <td>2</td>\n",
       "      <td>5</td>\n",
       "    </tr>\n",
       "    <tr>\n",
       "      <th>164997</th>\n",
       "      <td>[1.5303809956413943, -0.61791986453672, 4.7286...</td>\n",
       "      <td>2</td>\n",
       "      <td>5</td>\n",
       "    </tr>\n",
       "    <tr>\n",
       "      <th>164998</th>\n",
       "      <td>[2.6154311797320737, -4.348747910556278, 2.835...</td>\n",
       "      <td>2</td>\n",
       "      <td>5</td>\n",
       "    </tr>\n",
       "    <tr>\n",
       "      <th>164999</th>\n",
       "      <td>[4.048327427400977, -4.5994191946950576, -3.83...</td>\n",
       "      <td>2</td>\n",
       "      <td>5</td>\n",
       "    </tr>\n",
       "  </tbody>\n",
       "</table>\n",
       "<p>165000 rows × 3 columns</p>\n",
       "</div>"
      ],
      "text/plain": [
       "                                                   sample signal_type dispersia\n",
       "0       [-0.8760258606151521, 0.6950871256473774, -0.1...           0         0\n",
       "1       [1.0242660338186562, 1.0321492886733359, -0.64...           0         0\n",
       "2       [0.19445469449948105, -0.42181174644127367, -1...           0         0\n",
       "3       [-1.5422512684751728, -0.18569544514419892, 0....           0         0\n",
       "4       [1.7200643146791919, -0.3202860529992843, -0.1...           0         0\n",
       "...                                                   ...         ...       ...\n",
       "164995  [7.539121527092645, 1.712947452466533, 4.27141...           2         5\n",
       "164996  [-5.436739425544099, 5.236649885534303, -0.622...           2         5\n",
       "164997  [1.5303809956413943, -0.61791986453672, 4.7286...           2         5\n",
       "164998  [2.6154311797320737, -4.348747910556278, 2.835...           2         5\n",
       "164999  [4.048327427400977, -4.5994191946950576, -3.83...           2         5\n",
       "\n",
       "[165000 rows x 3 columns]"
      ]
     },
     "execution_count": 37,
     "metadata": {
      "tags": []
     },
     "output_type": "execute_result"
    }
   ],
   "source": [
    "test"
   ]
  },
  {
   "cell_type": "code",
   "execution_count": null,
   "metadata": {
    "colab": {},
    "colab_type": "code",
    "id": "Fqu_gwtxuzPa"
   },
   "outputs": [],
   "source": [
    "train = pd.read_excel('train_to_5.xlsx')\n",
    "test = pd.read_excel('test_to_5.xlsx')"
   ]
  },
  {
   "cell_type": "code",
   "execution_count": null,
   "metadata": {
    "colab": {
     "base_uri": "https://localhost:8080/",
     "height": 195
    },
    "colab_type": "code",
    "id": "7DRIknc0ugLj",
    "outputId": "da3a2cc3-329e-4a3c-9a5b-0d7ee885e63d"
   },
   "outputs": [
    {
     "data": {
      "text/html": [
       "<div>\n",
       "<style scoped>\n",
       "    .dataframe tbody tr th:only-of-type {\n",
       "        vertical-align: middle;\n",
       "    }\n",
       "\n",
       "    .dataframe tbody tr th {\n",
       "        vertical-align: top;\n",
       "    }\n",
       "\n",
       "    .dataframe thead th {\n",
       "        text-align: right;\n",
       "    }\n",
       "</style>\n",
       "<table border=\"1\" class=\"dataframe\">\n",
       "  <thead>\n",
       "    <tr style=\"text-align: right;\">\n",
       "      <th></th>\n",
       "      <th>sample</th>\n",
       "      <th>signal_type</th>\n",
       "      <th>dispersia</th>\n",
       "    </tr>\n",
       "  </thead>\n",
       "  <tbody>\n",
       "    <tr>\n",
       "      <th>0</th>\n",
       "      <td>[ 1.00093086 -1.29567592 -1.02523397  1.332556...</td>\n",
       "      <td>0</td>\n",
       "      <td>0.0</td>\n",
       "    </tr>\n",
       "    <tr>\n",
       "      <th>1</th>\n",
       "      <td>[ 1.02219975e+00  3.75264832e-01  4.67979849e-...</td>\n",
       "      <td>0</td>\n",
       "      <td>0.0</td>\n",
       "    </tr>\n",
       "    <tr>\n",
       "      <th>2</th>\n",
       "      <td>[-0.02117455 -0.48999526  0.74380571  0.793915...</td>\n",
       "      <td>0</td>\n",
       "      <td>0.0</td>\n",
       "    </tr>\n",
       "    <tr>\n",
       "      <th>3</th>\n",
       "      <td>[ 0.47632631 -0.734429    0.3257775  -0.853875...</td>\n",
       "      <td>0</td>\n",
       "      <td>0.0</td>\n",
       "    </tr>\n",
       "    <tr>\n",
       "      <th>4</th>\n",
       "      <td>[ 0.5661763   0.32793251  0.77071928  0.117708...</td>\n",
       "      <td>0</td>\n",
       "      <td>0.0</td>\n",
       "    </tr>\n",
       "  </tbody>\n",
       "</table>\n",
       "</div>"
      ],
      "text/plain": [
       "                                              sample  signal_type  dispersia\n",
       "0  [ 1.00093086 -1.29567592 -1.02523397  1.332556...            0        0.0\n",
       "1  [ 1.02219975e+00  3.75264832e-01  4.67979849e-...            0        0.0\n",
       "2  [-0.02117455 -0.48999526  0.74380571  0.793915...            0        0.0\n",
       "3  [ 0.47632631 -0.734429    0.3257775  -0.853875...            0        0.0\n",
       "4  [ 0.5661763   0.32793251  0.77071928  0.117708...            0        0.0"
      ]
     },
     "execution_count": 42,
     "metadata": {
      "tags": []
     },
     "output_type": "execute_result"
    }
   ],
   "source": [
    "train = pd.read_excel('train_phi0.xlsx')\n",
    "train.head()"
   ]
  },
  {
   "cell_type": "code",
   "execution_count": null,
   "metadata": {
    "colab": {},
    "colab_type": "code",
    "id": "hY5k3FQyvaYn"
   },
   "outputs": [],
   "source": [
    "test = pd.read_excel('test_phi0.xlsx')\n",
    "test"
   ]
  },
  {
   "cell_type": "code",
   "execution_count": null,
   "metadata": {
    "colab": {},
    "colab_type": "code",
    "id": "ud75M14WvgD7"
   },
   "outputs": [],
   "source": [
    "#train1['dispersia'].unique(), test1['dispersia'].unique()"
   ]
  },
  {
   "cell_type": "code",
   "execution_count": null,
   "metadata": {
    "colab": {
     "base_uri": "https://localhost:8080/",
     "height": 34
    },
    "colab_type": "code",
    "id": "jinwgu0qogGF",
    "outputId": "38bebfa1-bb38-4cac-ade4-2b07e37ebe9f"
   },
   "outputs": [
    {
     "data": {
      "text/plain": [
       "array([0. , 0.5, 1. , 1.5, 2. , 2.5, 3. , 3.5, 4. , 4.5, 5. ])"
      ]
     },
     "execution_count": 43,
     "metadata": {
      "tags": []
     },
     "output_type": "execute_result"
    }
   ],
   "source": [
    "S = train['dispersia'].unique()\n",
    "S"
   ]
  },
  {
   "cell_type": "code",
   "execution_count": null,
   "metadata": {
    "colab": {
     "base_uri": "https://localhost:8080/",
     "height": 195
    },
    "colab_type": "code",
    "id": "rqrdc0GZTRSO",
    "outputId": "3af839b0-1f46-4d99-c406-a99ec695718f"
   },
   "outputs": [
    {
     "data": {
      "text/html": [
       "<div>\n",
       "<style scoped>\n",
       "    .dataframe tbody tr th:only-of-type {\n",
       "        vertical-align: middle;\n",
       "    }\n",
       "\n",
       "    .dataframe tbody tr th {\n",
       "        vertical-align: top;\n",
       "    }\n",
       "\n",
       "    .dataframe thead th {\n",
       "        text-align: right;\n",
       "    }\n",
       "</style>\n",
       "<table border=\"1\" class=\"dataframe\">\n",
       "  <thead>\n",
       "    <tr style=\"text-align: right;\">\n",
       "      <th></th>\n",
       "      <th>sample</th>\n",
       "      <th>signal_type</th>\n",
       "      <th>dispersia</th>\n",
       "    </tr>\n",
       "  </thead>\n",
       "  <tbody>\n",
       "    <tr>\n",
       "      <th>0</th>\n",
       "      <td>[0.9669859504178805, -1.251735220687233, -0.99...</td>\n",
       "      <td>0</td>\n",
       "      <td>0.0</td>\n",
       "    </tr>\n",
       "    <tr>\n",
       "      <th>1</th>\n",
       "      <td>[1.109916790207112, 0.40746707070809907, 0.050...</td>\n",
       "      <td>0</td>\n",
       "      <td>0.0</td>\n",
       "    </tr>\n",
       "    <tr>\n",
       "      <th>2</th>\n",
       "      <td>[-0.022210166222628534, -0.513960210389363, 0....</td>\n",
       "      <td>0</td>\n",
       "      <td>0.0</td>\n",
       "    </tr>\n",
       "    <tr>\n",
       "      <th>3</th>\n",
       "      <td>[0.5245413976284574, -0.8087699672077119, 0.35...</td>\n",
       "      <td>0</td>\n",
       "      <td>0.0</td>\n",
       "    </tr>\n",
       "    <tr>\n",
       "      <th>4</th>\n",
       "      <td>[0.5436413438107636, 0.3148801361265681, 0.740...</td>\n",
       "      <td>0</td>\n",
       "      <td>0.0</td>\n",
       "    </tr>\n",
       "  </tbody>\n",
       "</table>\n",
       "</div>"
      ],
      "text/plain": [
       "                                              sample  signal_type  dispersia\n",
       "0  [0.9669859504178805, -1.251735220687233, -0.99...            0        0.0\n",
       "1  [1.109916790207112, 0.40746707070809907, 0.050...            0        0.0\n",
       "2  [-0.022210166222628534, -0.513960210389363, 0....            0        0.0\n",
       "3  [0.5245413976284574, -0.8087699672077119, 0.35...            0        0.0\n",
       "4  [0.5436413438107636, 0.3148801361265681, 0.740...            0        0.0"
      ]
     },
     "execution_count": 44,
     "metadata": {
      "tags": []
     },
     "output_type": "execute_result"
    }
   ],
   "source": [
    "train['sample'] = train['sample'].apply(lambda x: np.array(x.replace('[', '').replace(']', '').split()).astype(np.float) / np.var(np.array(x.replace('[', '').replace(']', '').split()).astype(np.float)))\n",
    "#train['sample'] = train['sample'].apply(lambda x: x.astype(np.float) / np.var(x.astype(np.float)))\n",
    "train.head()"
   ]
  },
  {
   "cell_type": "code",
   "execution_count": null,
   "metadata": {
    "colab": {
     "base_uri": "https://localhost:8080/",
     "height": 196
    },
    "colab_type": "code",
    "id": "3DFYlIxcTRSU",
    "outputId": "ba1586ca-798e-4856-e303-5a0fe2b0ec99"
   },
   "outputs": [
    {
     "data": {
      "text/html": [
       "<div>\n",
       "<style scoped>\n",
       "    .dataframe tbody tr th:only-of-type {\n",
       "        vertical-align: middle;\n",
       "    }\n",
       "\n",
       "    .dataframe tbody tr th {\n",
       "        vertical-align: top;\n",
       "    }\n",
       "\n",
       "    .dataframe thead th {\n",
       "        text-align: right;\n",
       "    }\n",
       "</style>\n",
       "<table border=\"1\" class=\"dataframe\">\n",
       "  <thead>\n",
       "    <tr style=\"text-align: right;\">\n",
       "      <th></th>\n",
       "      <th>sample</th>\n",
       "      <th>signal_type</th>\n",
       "      <th>dispersia</th>\n",
       "    </tr>\n",
       "  </thead>\n",
       "  <tbody>\n",
       "    <tr>\n",
       "      <th>0</th>\n",
       "      <td>[-2.4330214331231756, 0.6453479825380782, -0.7...</td>\n",
       "      <td>0</td>\n",
       "      <td>0.0</td>\n",
       "    </tr>\n",
       "    <tr>\n",
       "      <th>1</th>\n",
       "      <td>[0.1278416064917002, -1.6247102487922507, 0.97...</td>\n",
       "      <td>0</td>\n",
       "      <td>0.0</td>\n",
       "    </tr>\n",
       "    <tr>\n",
       "      <th>2</th>\n",
       "      <td>[-0.18165350312949513, 0.7141143921363494, 0.6...</td>\n",
       "      <td>0</td>\n",
       "      <td>0.0</td>\n",
       "    </tr>\n",
       "    <tr>\n",
       "      <th>3</th>\n",
       "      <td>[-0.7781814507356346, -1.6730825493707582, -0....</td>\n",
       "      <td>0</td>\n",
       "      <td>0.0</td>\n",
       "    </tr>\n",
       "    <tr>\n",
       "      <th>4</th>\n",
       "      <td>[1.3067419349747995, 0.6612698058211085, -0.02...</td>\n",
       "      <td>0</td>\n",
       "      <td>0.0</td>\n",
       "    </tr>\n",
       "  </tbody>\n",
       "</table>\n",
       "</div>"
      ],
      "text/plain": [
       "                                              sample  signal_type  dispersia\n",
       "0  [-2.4330214331231756, 0.6453479825380782, -0.7...            0        0.0\n",
       "1  [0.1278416064917002, -1.6247102487922507, 0.97...            0        0.0\n",
       "2  [-0.18165350312949513, 0.7141143921363494, 0.6...            0        0.0\n",
       "3  [-0.7781814507356346, -1.6730825493707582, -0....            0        0.0\n",
       "4  [1.3067419349747995, 0.6612698058211085, -0.02...            0        0.0"
      ]
     },
     "execution_count": 19,
     "metadata": {
      "tags": []
     },
     "output_type": "execute_result"
    }
   ],
   "source": [
    "test['sample'] = test['sample'].apply(lambda x: np.array(x.replace('[', '').replace(']', '').split()).astype(np.float) / np.var(np.array(x.replace('[', '').replace(']', '').split()).astype(np.float)))\n",
    "#test['sample'] = test['sample'].apply(lambda x: x.astype(np.float) / np.var(x.astype(np.float)))\n",
    "test.head()"
   ]
  },
  {
   "cell_type": "markdown",
   "metadata": {
    "colab_type": "text",
    "id": "L9siFH2_TRSX"
   },
   "source": [
    "#### Подготовка обучающих и тестовых выборок"
   ]
  },
  {
   "cell_type": "code",
   "execution_count": null,
   "metadata": {
    "colab": {},
    "colab_type": "code",
    "id": "8-Sp9WHIiNL-"
   },
   "outputs": [],
   "source": [
    "# Первый случай: обучаем на данных с s = 0"
   ]
  },
  {
   "cell_type": "code",
   "execution_count": null,
   "metadata": {
    "colab": {},
    "colab_type": "code",
    "id": "6pJdA2hzi2UT"
   },
   "outputs": [],
   "source": []
  },
  {
   "cell_type": "code",
   "execution_count": null,
   "metadata": {
    "colab": {},
    "colab_type": "code",
    "id": "zkFZT5pKTRSY"
   },
   "outputs": [],
   "source": [
    "from sklearn.model_selection import train_test_split\n",
    "\n",
    "X_train, X_val, y_train, y_val = train_test_split(train['sample'][train['dispersia'] == 0], train['signal_type'][train['dispersia'] == 0], test_size=0.3, random_state=42)\n",
    "#X_test, y_test = test['sample'], test['signal_type']"
   ]
  },
  {
   "cell_type": "code",
   "execution_count": null,
   "metadata": {
    "colab": {},
    "colab_type": "code",
    "id": "LzwMSXUyTRSc"
   },
   "outputs": [],
   "source": [
    "X_train, X_val, y_train, y_val = np.array(X_train), np.array(X_val), np.array(y_train), np.array(y_val)\n",
    "#X_test, y_test = np.array(X_test), np.array(y_test)"
   ]
  },
  {
   "cell_type": "code",
   "execution_count": null,
   "metadata": {
    "colab": {},
    "colab_type": "code",
    "id": "95-r7Wd5j4yY"
   },
   "outputs": [],
   "source": [
    "X_tests, y_tests = [], []\n",
    "for s in test['dispersia'].unique():\n",
    "  X_tests.append(np.array(test['sample'][test['dispersia'] == s]))\n",
    "  y_tests.append(np.array(test['signal_type'][test['dispersia'] == s]))"
   ]
  },
  {
   "cell_type": "code",
   "execution_count": null,
   "metadata": {
    "colab": {
     "base_uri": "https://localhost:8080/",
     "height": 33
    },
    "colab_type": "code",
    "id": "TyVDJUVkTRSf",
    "outputId": "ca6a69eb-0ba3-4f52-ef5c-4774d4b8e30a"
   },
   "outputs": [
    {
     "name": "stdout",
     "output_type": "stream",
     "text": [
      "(21000, 256)\n"
     ]
    }
   ],
   "source": [
    "X_train_new = []\n",
    "for x in X_train:\n",
    "  X_train_new.append(x)\n",
    "X_train_new = np.array(X_train_new)\n",
    "X_train_new = X_train_new.reshape((X_train_new.shape[0], X_train_new.shape[1]))\n",
    "print(X_train_new.shape)"
   ]
  },
  {
   "cell_type": "code",
   "execution_count": null,
   "metadata": {
    "colab": {
     "base_uri": "https://localhost:8080/",
     "height": 33
    },
    "colab_type": "code",
    "id": "edt4dDvcTRSh",
    "outputId": "4f3c63f6-62bd-4933-eb6e-16f1392929ef"
   },
   "outputs": [
    {
     "name": "stdout",
     "output_type": "stream",
     "text": [
      "(9000, 256)\n"
     ]
    }
   ],
   "source": [
    "X_val_new = []\n",
    "for x in X_val:\n",
    "  X_val_new.append(x)\n",
    "X_val_new = np.array(X_val_new)\n",
    "X_val_new = X_val_new.reshape((X_val_new.shape[0], X_val_new.shape[1]))\n",
    "print(X_val_new.shape)"
   ]
  },
  {
   "cell_type": "code",
   "execution_count": null,
   "metadata": {
    "colab": {},
    "colab_type": "code",
    "id": "I_X_oz9RTRSl"
   },
   "outputs": [],
   "source": [
    "X_tests_new = []\n",
    "for X_test in X_tests:\n",
    "  X_test_new = []\n",
    "  for x in X_test:\n",
    "    X_test_new.append(x)\n",
    "  X_test_new = np.array(X_test_new)\n",
    "  X_test_new = X_test_new.reshape((X_test_new.shape[0], X_test_new.shape[1]))\n",
    "  X_tests_new.append(X_test_new)\n",
    "  #print(X_test_new.shape)"
   ]
  },
  {
   "cell_type": "markdown",
   "metadata": {
    "colab_type": "text",
    "id": "c3psvyzYTRSo"
   },
   "source": [
    "#### Нейросеть"
   ]
  },
  {
   "cell_type": "code",
   "execution_count": null,
   "metadata": {
    "colab": {
     "base_uri": "https://localhost:8080/",
     "height": 67
    },
    "colab_type": "code",
    "id": "LXF8td61TRSp",
    "outputId": "be7f05ea-0631-41c7-dbdf-4c281d38af71"
   },
   "outputs": [
    {
     "name": "stdout",
     "output_type": "stream",
     "text": [
      "2.2.0\n",
      "2.3.1\n"
     ]
    },
    {
     "name": "stderr",
     "output_type": "stream",
     "text": [
      "Using TensorFlow backend.\n"
     ]
    }
   ],
   "source": [
    "import tensorflow as tf\n",
    "import keras\n",
    "from keras import backend as K\n",
    "import numpy as np\n",
    "%matplotlib inline\n",
    "import matplotlib.pyplot as plt\n",
    "print(tf.__version__)\n",
    "print(keras.__version__)\n",
    "from keras.models import Sequential\n",
    "from keras.layers import Conv2D, MaxPooling2D, Flatten, Dense, Activation, Dropout\n",
    "from keras.layers.advanced_activations import LeakyReLU\n",
    "from keras import regularizers\n",
    "from keras.layers import Dense, Activation, Flatten, Dropout, BatchNormalization"
   ]
  },
  {
   "cell_type": "code",
   "execution_count": null,
   "metadata": {
    "colab": {},
    "colab_type": "code",
    "id": "ie70FX5-TRSs"
   },
   "outputs": [],
   "source": [
    "weight_decay = 1e-4\n",
    "initializer='glorot_normal'\n",
    "\n",
    "model = Sequential()\n",
    "model.add(Dense(512, kernel_initializer=initializer, input_shape=(n,)))\n",
    "model.add(LeakyReLU(0.1))\n",
    "model.add(Dropout(0.4))\n",
    "model.add(Dense(256, kernel_initializer=initializer))\n",
    "model.add(LeakyReLU(0.1))\n",
    "model.add(Dropout(0.2))\n",
    "model.add(Dense(32, kernel_initializer=initializer))\n",
    "model.add(Dense(3, kernel_initializer=initializer))\n",
    "model.add(Activation(\"softmax\"))"
   ]
  },
  {
   "cell_type": "code",
   "execution_count": null,
   "metadata": {
    "colab": {},
    "colab_type": "code",
    "id": "_yBzNN5lTRSv"
   },
   "outputs": [],
   "source": [
    "from tensorflow.keras import optimizers"
   ]
  },
  {
   "cell_type": "code",
   "execution_count": null,
   "metadata": {
    "colab": {
     "base_uri": "https://localhost:8080/",
     "height": 452
    },
    "colab_type": "code",
    "id": "FC-qi3mWTRS0",
    "outputId": "32e6dd53-070f-4085-969c-df019d175653"
   },
   "outputs": [
    {
     "name": "stdout",
     "output_type": "stream",
     "text": [
      "Model: \"sequential_1\"\n",
      "_________________________________________________________________\n",
      "Layer (type)                 Output Shape              Param #   \n",
      "=================================================================\n",
      "dense_1 (Dense)              (None, 512)               131584    \n",
      "_________________________________________________________________\n",
      "leaky_re_lu_1 (LeakyReLU)    (None, 512)               0         \n",
      "_________________________________________________________________\n",
      "dropout_1 (Dropout)          (None, 512)               0         \n",
      "_________________________________________________________________\n",
      "dense_2 (Dense)              (None, 256)               131328    \n",
      "_________________________________________________________________\n",
      "leaky_re_lu_2 (LeakyReLU)    (None, 256)               0         \n",
      "_________________________________________________________________\n",
      "dropout_2 (Dropout)          (None, 256)               0         \n",
      "_________________________________________________________________\n",
      "dense_3 (Dense)              (None, 32)                8224      \n",
      "_________________________________________________________________\n",
      "dense_4 (Dense)              (None, 3)                 99        \n",
      "_________________________________________________________________\n",
      "activation_1 (Activation)    (None, 3)                 0         \n",
      "=================================================================\n",
      "Total params: 271,235\n",
      "Trainable params: 271,235\n",
      "Non-trainable params: 0\n",
      "_________________________________________________________________\n"
     ]
    }
   ],
   "source": [
    "INIT_LR = 5e-3\n",
    "\n",
    "model.compile(\n",
    "    loss='sparse_categorical_crossentropy',  \n",
    "    optimizer=keras.optimizers.adamax(lr=INIT_LR),  \n",
    "    metrics=['accuracy']\n",
    ")\n",
    "model.summary()"
   ]
  },
  {
   "cell_type": "code",
   "execution_count": null,
   "metadata": {
    "colab": {
     "base_uri": "https://localhost:8080/",
     "height": 187
    },
    "colab_type": "code",
    "id": "Ay__f5QETRS3",
    "outputId": "582dd339-b7ee-40bd-de2c-11f43cbaf4e5"
   },
   "outputs": [
    {
     "name": "stdout",
     "output_type": "stream",
     "text": [
      "Train on 21000 samples, validate on 9000 samples\n",
      "Epoch 1/4\n",
      "21000/21000 [==============================] - 9s 445us/step - loss: 0.0049 - accuracy: 0.9983 - val_loss: 1.7297e-06 - val_accuracy: 1.0000\n",
      "Epoch 2/4\n",
      "21000/21000 [==============================] - 9s 413us/step - loss: 3.4215e-04 - accuracy: 0.9999 - val_loss: 1.7882e-07 - val_accuracy: 1.0000\n",
      "Epoch 3/4\n",
      "21000/21000 [==============================] - 9s 426us/step - loss: 1.6514e-07 - accuracy: 1.0000 - val_loss: 1.1793e-07 - val_accuracy: 1.0000\n",
      "Epoch 4/4\n",
      "21000/21000 [==============================] - 9s 417us/step - loss: 2.0050e-05 - accuracy: 1.0000 - val_loss: 1.3909e-06 - val_accuracy: 1.0000\n"
     ]
    }
   ],
   "source": [
    "history1 = model.fit(\n",
    "    x=X_train_new, y=y_train,\n",
    "    batch_size=16,\n",
    "    epochs=4,\n",
    "    validation_data=(X_val_new, y_val),\n",
    "    shuffle=True,\n",
    "    verbose=1,\n",
    "    initial_epoch=0\n",
    ") "
   ]
  },
  {
   "cell_type": "code",
   "execution_count": null,
   "metadata": {
    "colab": {
     "base_uri": "https://localhost:8080/",
     "height": 33
    },
    "colab_type": "code",
    "id": "FtH1vdumk9Nk",
    "outputId": "c798a5da-df58-4ecc-f73f-a31913a8cbb5"
   },
   "outputs": [
    {
     "data": {
      "text/plain": [
       "array([0. , 0.5, 1. , 1.5, 2. , 2.5, 3. , 3.5, 4. , 4.5, 5. ])"
      ]
     },
     "execution_count": 31,
     "metadata": {
      "tags": []
     },
     "output_type": "execute_result"
    }
   ],
   "source": [
    "S"
   ]
  },
  {
   "cell_type": "code",
   "execution_count": null,
   "metadata": {
    "colab": {},
    "colab_type": "code",
    "id": "LAGsSDFBlC1A"
   },
   "outputs": [],
   "source": [
    "from sklearn.metrics import f1_score"
   ]
  },
  {
   "cell_type": "code",
   "execution_count": null,
   "metadata": {
    "colab": {},
    "colab_type": "code",
    "id": "adnkzMmSTRS7"
   },
   "outputs": [],
   "source": [
    "#f1_score_macro = []\n",
    "f1_score_micro = []\n",
    "#f1_score_weighted = []\n",
    "#f1_score_none = []\n",
    "for i in range(len(X_tests_new)):\n",
    "  pred = model.predict_classes(X_tests_new[i])\n",
    "  f1_micro = f1_score(y_tests[i].astype(np.int64), pred, average='micro')\n",
    "  f1_score_micro.append(f1_micro)\n",
    "  \"\"\"\n",
    "\n",
    "  f1_macro = f1_score(y_tests[i].astype(np.int64), pred, average='macro')\n",
    "  f1_score_macro.append(f1_macro)\n",
    "\n",
    "  f1_weighted = f1_score(y_tests[i].astype(np.int64), pred, average='weighted')\n",
    "  f1_score_weighted.append(f1_weighted)\n",
    "\n",
    "  f1_none = f1_score(y_tests[i].astype(np.int64), pred, average=None)\n",
    "  f1_score_none.append(f1_none)\n",
    "  \"\"\""
   ]
  },
  {
   "cell_type": "code",
   "execution_count": null,
   "metadata": {
    "colab": {
     "base_uri": "https://localhost:8080/",
     "height": 458
    },
    "colab_type": "code",
    "id": "jkFCmHfMjlVj",
    "outputId": "b89a7050-dcfb-4957-8f14-5f7d1613cf88"
   },
   "outputs": [
    {
     "data": {
      "image/png": "[encoded data removed]",
      "text/plain": [
       "<Figure size 864x504 with 1 Axes>"
      ]
     },
     "metadata": {
      "needs_background": "light",
      "tags": []
     },
     "output_type": "display_data"
    }
   ],
   "source": [
    "plt.figure(figsize=(12, 7))\n",
    "#plt.plot(S, f1_score_macro, color='orange')\n",
    "plt.plot(S, f1_score_micro, color='indigo')\n",
    "#plt.plot(S, f1_score_weighted, color='blue')\n",
    "#plt.plot(S, f1_score_none, color='red')\n",
    "plt.title('График зависимости F1-меры от уровня дисперсии s')\n",
    "plt.xlabel('Уровень дисперсии s')\n",
    "plt.ylabel('F1-мера')\n",
    "#plt.legend(['f1-macro', 'f1-micro', 'f1-weighted', 'f1-none'])\n",
    "plt.legend(['f1-micro'])\n",
    "plt.show()"
   ]
  },
  {
   "cell_type": "code",
   "execution_count": null,
   "metadata": {
    "colab": {},
    "colab_type": "code",
    "id": "O4IbcaurpVzD"
   },
   "outputs": [],
   "source": [
    "with open('f1-var1.txt', 'w') as f:\n",
    "  for a in f1_score_micro:\n",
    "    f.write(str(a))\n",
    "    f.write('\\n')\n"
   ]
  },
  {
   "cell_type": "code",
   "execution_count": null,
   "metadata": {
    "colab": {},
    "colab_type": "code",
    "id": "avOdXyf1W5o9"
   },
   "outputs": [],
   "source": [
    "# f1-macro == f1-weighted"
   ]
  },
  {
   "cell_type": "code",
   "execution_count": null,
   "metadata": {
    "colab": {},
    "colab_type": "code",
    "id": "wJbC2aJLjlEY"
   },
   "outputs": [],
   "source": [
    "# f1_score_macro, f1_score_micro, f1_score_weighted #, f1_score_none"
   ]
  },
  {
   "cell_type": "code",
   "execution_count": null,
   "metadata": {
    "colab": {
     "base_uri": "https://localhost:8080/",
     "height": 234
    },
    "colab_type": "code",
    "id": "h-SKujeIjlgy",
    "outputId": "1202355c-21e4-4ddf-d319-16f4d82aa626"
   },
   "outputs": [
    {
     "name": "stderr",
     "output_type": "stream",
     "text": [
      "/usr/local/lib/python3.6/dist-packages/ipykernel_launcher.py:3: RuntimeWarning: divide by zero encountered in log10\n",
      "  This is separate from the ipykernel package so we can avoid doing imports until\n"
     ]
    },
    {
     "data": {
      "text/plain": [
       "[-inf,\n",
       " -3.010299956639812,\n",
       " 0.0,\n",
       " 1.7609125905568124,\n",
       " 3.010299956639812,\n",
       " 3.979400086720376,\n",
       " 4.771212547196624,\n",
       " 5.440680443502757,\n",
       " 6.020599913279624,\n",
       " 6.532125137753438,\n",
       " 6.989700043360188]"
      ]
     },
     "execution_count": 38,
     "metadata": {
      "tags": []
     },
     "output_type": "execute_result"
    }
   ],
   "source": [
    "Q = []\n",
    "for s in S:\n",
    "  Q.append(10 * np.log10(s))\n",
    "Q"
   ]
  },
  {
   "cell_type": "code",
   "execution_count": null,
   "metadata": {
    "colab": {
     "base_uri": "https://localhost:8080/",
     "height": 458
    },
    "colab_type": "code",
    "id": "7VgR19KXbGEw",
    "outputId": "25047784-ec6a-402a-e7e8-2cf4e1f83e99"
   },
   "outputs": [
    {
     "data": {
      "image/png": "[encoded data removed]",
      "text/plain": [
       "<Figure size 864x504 with 1 Axes>"
      ]
     },
     "metadata": {
      "needs_background": "light",
      "tags": []
     },
     "output_type": "display_data"
    }
   ],
   "source": [
    "plt.figure(figsize=(12, 7))\n",
    "#plt.plot(Q, f1_score_macro, color='orange')\n",
    "plt.plot(Q, f1_score_micro, color='indigo')\n",
    "#plt.plot(Q, f1_score_weighted, color='blue')\n",
    "#plt.plot(S, f1_score_none, color='red')\n",
    "plt.title('График зависимости F1-меры от уровня дисперсии s')\n",
    "plt.xlabel('Уровень дисперсии s, дБ')\n",
    "plt.ylabel('F1-мера')\n",
    "#plt.legend(['f1-macro', 'f1-micro', 'f1-weighted', 'f1-none'])\n",
    "plt.legend(['f1-micro'])\n",
    "plt.show()"
   ]
  },
  {
   "cell_type": "code",
   "execution_count": null,
   "metadata": {
    "colab": {},
    "colab_type": "code",
    "id": "3DjnId4_jlrw"
   },
   "outputs": [],
   "source": [
    "# Второй случай: обучаем на данных со всеми s"
   ]
  },
  {
   "cell_type": "code",
   "execution_count": null,
   "metadata": {
    "colab": {},
    "colab_type": "code",
    "id": "KPQ264ceqJDm"
   },
   "outputs": [],
   "source": [
    "from sklearn.model_selection import train_test_split\n",
    "\n",
    "X_train, X_val, y_train, y_val = train_test_split(train['sample'], train['signal_type'], test_size=0.3, random_state=42)\n",
    "#X_test, y_test = test['sample'], test['signal_type']"
   ]
  },
  {
   "cell_type": "code",
   "execution_count": null,
   "metadata": {
    "colab": {},
    "colab_type": "code",
    "id": "dZi9cFZzqJDs"
   },
   "outputs": [],
   "source": [
    "X_train, X_val, y_train, y_val = np.array(X_train), np.array(X_val), np.array(y_train), np.array(y_val)\n",
    "#X_test, y_test = np.array(X_test), np.array(y_test)"
   ]
  },
  {
   "cell_type": "code",
   "execution_count": null,
   "metadata": {
    "colab": {},
    "colab_type": "code",
    "id": "qCMXz8t7qJDu"
   },
   "outputs": [],
   "source": [
    "X_tests, y_tests = [], []\n",
    "for s in test['dispersia'].unique():\n",
    "  X_tests.append(np.array(test['sample'][test['dispersia'] == s]))\n",
    "  y_tests.append(np.array(test['signal_type'][test['dispersia'] == s]))"
   ]
  },
  {
   "cell_type": "code",
   "execution_count": null,
   "metadata": {
    "colab": {
     "base_uri": "https://localhost:8080/",
     "height": 33
    },
    "colab_type": "code",
    "id": "Pz3-UVlFqJDx",
    "outputId": "982d9a59-acd1-4f06-d862-8b8f9ec4338b"
   },
   "outputs": [
    {
     "name": "stdout",
     "output_type": "stream",
     "text": [
      "(231000, 256)\n"
     ]
    }
   ],
   "source": [
    "X_train_new = []\n",
    "for x in X_train:\n",
    "  X_train_new.append(x)\n",
    "X_train_new = np.array(X_train_new)\n",
    "X_train_new = X_train_new.reshape((X_train_new.shape[0], X_train_new.shape[1]))\n",
    "print(X_train_new.shape)"
   ]
  },
  {
   "cell_type": "code",
   "execution_count": null,
   "metadata": {
    "colab": {
     "base_uri": "https://localhost:8080/",
     "height": 33
    },
    "colab_type": "code",
    "id": "xPRFVMcDqJD2",
    "outputId": "3e873f99-6bc1-41d9-8267-32a148bb6450"
   },
   "outputs": [
    {
     "name": "stdout",
     "output_type": "stream",
     "text": [
      "(99000, 256)\n"
     ]
    }
   ],
   "source": [
    "X_val_new = []\n",
    "for x in X_val:\n",
    "  X_val_new.append(x)\n",
    "X_val_new = np.array(X_val_new)\n",
    "X_val_new = X_val_new.reshape((X_val_new.shape[0], X_val_new.shape[1]))\n",
    "print(X_val_new.shape)"
   ]
  },
  {
   "cell_type": "code",
   "execution_count": null,
   "metadata": {
    "colab": {},
    "colab_type": "code",
    "id": "gBWYc2ZUqJD4"
   },
   "outputs": [],
   "source": [
    "X_tests_new = []\n",
    "for X_test in X_tests:\n",
    "  X_test_new = []\n",
    "  for x in X_test:\n",
    "    X_test_new.append(x)\n",
    "  X_test_new = np.array(X_test_new)\n",
    "  X_test_new = X_test_new.reshape((X_test_new.shape[0], X_test_new.shape[1]))\n",
    "  X_tests_new.append(X_test_new)\n",
    "  #print(X_test_new.shape)"
   ]
  },
  {
   "cell_type": "code",
   "execution_count": null,
   "metadata": {
    "colab": {
     "base_uri": "https://localhost:8080/",
     "height": 50
    },
    "colab_type": "code",
    "id": "v7vrzgFQqJD6",
    "outputId": "209eea67-f5cb-42ae-882f-00fe8d25cc11"
   },
   "outputs": [
    {
     "name": "stdout",
     "output_type": "stream",
     "text": [
      "2.2.0\n",
      "2.3.1\n"
     ]
    }
   ],
   "source": [
    "import tensorflow as tf\n",
    "import keras\n",
    "from keras import backend as K\n",
    "import numpy as np\n",
    "%matplotlib inline\n",
    "import matplotlib.pyplot as plt\n",
    "print(tf.__version__)\n",
    "print(keras.__version__)\n",
    "from keras.models import Sequential\n",
    "from keras.layers import Conv2D, MaxPooling2D, Flatten, Dense, Activation, Dropout\n",
    "from keras.layers.advanced_activations import LeakyReLU\n",
    "from keras import regularizers\n",
    "from keras.layers import Dense, Activation, Flatten, Dropout, BatchNormalization"
   ]
  },
  {
   "cell_type": "code",
   "execution_count": null,
   "metadata": {
    "colab": {},
    "colab_type": "code",
    "id": "rgxwRQu-qJD9"
   },
   "outputs": [],
   "source": [
    "weight_decay = 1e-4\n",
    "initializer='glorot_normal'\n",
    "\n",
    "model2 = Sequential()\n",
    "model2.add(Dense(512, kernel_initializer=initializer, input_shape=(n,)))\n",
    "model2.add(LeakyReLU(0.1))\n",
    "model2.add(Dropout(0.4))\n",
    "model2.add(Dense(256, kernel_initializer=initializer))\n",
    "model2.add(LeakyReLU(0.1))\n",
    "model2.add(Dropout(0.2))\n",
    "model2.add(Dense(32, kernel_initializer=initializer))\n",
    "model2.add(Dense(3, kernel_initializer=initializer))\n",
    "model2.add(Activation(\"softmax\"))"
   ]
  },
  {
   "cell_type": "code",
   "execution_count": null,
   "metadata": {
    "colab": {},
    "colab_type": "code",
    "id": "jz4DCIU_qJEA"
   },
   "outputs": [],
   "source": [
    "from tensorflow.keras import optimizers"
   ]
  },
  {
   "cell_type": "code",
   "execution_count": null,
   "metadata": {
    "colab": {
     "base_uri": "https://localhost:8080/",
     "height": 452
    },
    "colab_type": "code",
    "id": "IJtqVp3PqJEC",
    "outputId": "2b689b9d-c00a-42bc-dd76-4d9a09faabf8"
   },
   "outputs": [
    {
     "name": "stdout",
     "output_type": "stream",
     "text": [
      "Model: \"sequential_2\"\n",
      "_________________________________________________________________\n",
      "Layer (type)                 Output Shape              Param #   \n",
      "=================================================================\n",
      "dense_5 (Dense)              (None, 512)               131584    \n",
      "_________________________________________________________________\n",
      "leaky_re_lu_3 (LeakyReLU)    (None, 512)               0         \n",
      "_________________________________________________________________\n",
      "dropout_3 (Dropout)          (None, 512)               0         \n",
      "_________________________________________________________________\n",
      "dense_6 (Dense)              (None, 256)               131328    \n",
      "_________________________________________________________________\n",
      "leaky_re_lu_4 (LeakyReLU)    (None, 256)               0         \n",
      "_________________________________________________________________\n",
      "dropout_4 (Dropout)          (None, 256)               0         \n",
      "_________________________________________________________________\n",
      "dense_7 (Dense)              (None, 32)                8224      \n",
      "_________________________________________________________________\n",
      "dense_8 (Dense)              (None, 3)                 99        \n",
      "_________________________________________________________________\n",
      "activation_2 (Activation)    (None, 3)                 0         \n",
      "=================================================================\n",
      "Total params: 271,235\n",
      "Trainable params: 271,235\n",
      "Non-trainable params: 0\n",
      "_________________________________________________________________\n"
     ]
    }
   ],
   "source": [
    "INIT_LR = 5e-3\n",
    "\n",
    "model2.compile(\n",
    "    loss='sparse_categorical_crossentropy',  \n",
    "    optimizer=keras.optimizers.adamax(lr=INIT_LR),  \n",
    "    metrics=['accuracy']\n",
    ")\n",
    "model2.summary()"
   ]
  },
  {
   "cell_type": "code",
   "execution_count": null,
   "metadata": {
    "colab": {
     "base_uri": "https://localhost:8080/",
     "height": 187
    },
    "colab_type": "code",
    "id": "Xivj5HKSqJEF",
    "outputId": "5945cc86-6ea4-4b18-e7d6-8b51141c6bfc"
   },
   "outputs": [
    {
     "name": "stdout",
     "output_type": "stream",
     "text": [
      "Train on 231000 samples, validate on 99000 samples\n",
      "Epoch 1/4\n",
      "231000/231000 [==============================] - 97s 418us/step - loss: 0.0456 - accuracy: 0.9830 - val_loss: 0.0366 - val_accuracy: 0.9863\n",
      "Epoch 2/4\n",
      "231000/231000 [==============================] - 103s 447us/step - loss: 0.0353 - accuracy: 0.9869 - val_loss: 0.0349 - val_accuracy: 0.9870\n",
      "Epoch 3/4\n",
      "231000/231000 [==============================] - 100s 433us/step - loss: 0.0318 - accuracy: 0.9882 - val_loss: 0.0369 - val_accuracy: 0.9863\n",
      "Epoch 4/4\n",
      "231000/231000 [==============================] - 101s 435us/step - loss: 0.0291 - accuracy: 0.9893 - val_loss: 0.0401 - val_accuracy: 0.9861\n"
     ]
    }
   ],
   "source": [
    "history1 = model2.fit(\n",
    "    x=X_train_new, y=y_train,\n",
    "    batch_size=16,\n",
    "    epochs=4,\n",
    "    validation_data=(X_val_new, y_val),\n",
    "    shuffle=True,\n",
    "    verbose=1,\n",
    "    initial_epoch=0\n",
    ") "
   ]
  },
  {
   "cell_type": "code",
   "execution_count": null,
   "metadata": {
    "colab": {
     "base_uri": "https://localhost:8080/",
     "height": 33
    },
    "colab_type": "code",
    "id": "_yclGkLLqJEI",
    "outputId": "cc687424-38d3-4687-87bd-4e2d8c01d3b1"
   },
   "outputs": [
    {
     "data": {
      "text/plain": [
       "array([0. , 0.5, 1. , 1.5, 2. , 2.5, 3. , 3.5, 4. , 4.5, 5. ])"
      ]
     },
     "execution_count": 52,
     "metadata": {
      "tags": []
     },
     "output_type": "execute_result"
    }
   ],
   "source": [
    "S"
   ]
  },
  {
   "cell_type": "code",
   "execution_count": null,
   "metadata": {
    "colab": {},
    "colab_type": "code",
    "id": "zOP4bH1IqJEK"
   },
   "outputs": [],
   "source": [
    "#f1_score_macro = []\n",
    "f1_score_micro = []\n",
    "#f1_score_weighted = []\n",
    "#f1_score_none = []\n",
    "for i in range(len(X_tests_new)):\n",
    "  pred = model2.predict_classes(X_tests_new[i])\n",
    "  f1_micro = f1_score(y_tests[i].astype(np.int64), pred, average='micro')\n",
    "  f1_score_micro.append(f1_micro)\n",
    "\n",
    "  \"\"\"\n",
    "  f1_macro = f1_score(y_tests[i].astype(np.int64), pred, average='macro')\n",
    "  f1_score_macro.append(f1_macro)\n",
    "\n",
    "  f1_weighted = f1_score(y_tests[i].astype(np.int64), pred, average='weighted')\n",
    "  f1_score_weighted.append(f1_weighted)\n",
    "\n",
    "  f1_none = f1_score(y_tests[i].astype(np.int64), pred, average=None)\n",
    "  f1_score_none.append(f1_none)\n",
    "  print(f1_macro, f1_micro, f1_weighted, end='\\n')\n",
    "  \"\"\""
   ]
  },
  {
   "cell_type": "code",
   "execution_count": null,
   "metadata": {
    "colab": {
     "base_uri": "https://localhost:8080/",
     "height": 68
    },
    "colab_type": "code",
    "id": "WvmBSa752h4X",
    "outputId": "a275286c-2f3c-4d0f-8a98-b6aa2687640e"
   },
   "outputs": [
    {
     "data": {
      "application/vnd.google.colaboratory.intrinsic": {
       "type": "string"
      },
      "text/plain": [
       "\"\\nf1_score_samples = []\\nfor i in range(len(X_tests_new)):\\n  try:\\n    pred = model2.predict_classes(X_tests_new[i])\\n    f1_samples = f1_score(y_tests[i].astype(np.int64), pred, average='samples')\\n    f1_score_samples.append(f1_samples)\\n  except:\\n    pass\\nf1_score_samples\\n\""
      ]
     },
     "execution_count": 54,
     "metadata": {
      "tags": []
     },
     "output_type": "execute_result"
    }
   ],
   "source": [
    "\"\"\"\n",
    "f1_score_samples = []\n",
    "for i in range(len(X_tests_new)):\n",
    "  try:\n",
    "    pred = model2.predict_classes(X_tests_new[i])\n",
    "    f1_samples = f1_score(y_tests[i].astype(np.int64), pred, average='samples')\n",
    "    f1_score_samples.append(f1_samples)\n",
    "  except:\n",
    "    pass\n",
    "f1_score_samples\n",
    "\"\"\""
   ]
  },
  {
   "cell_type": "code",
   "execution_count": null,
   "metadata": {
    "colab": {
     "base_uri": "https://localhost:8080/",
     "height": 458
    },
    "colab_type": "code",
    "id": "w54BaCvDqJEM",
    "outputId": "cbb84d0e-db96-439c-8d5a-181a77b7deb8"
   },
   "outputs": [
    {
     "data": {
      "image/png": "[encoded data removed]",
      "text/plain": [
       "<Figure size 864x504 with 1 Axes>"
      ]
     },
     "metadata": {
      "needs_background": "light",
      "tags": []
     },
     "output_type": "display_data"
    }
   ],
   "source": [
    "plt.figure(figsize=(12, 7))\n",
    "#plt.plot(S, f1_score_macro, color='orange')\n",
    "plt.plot(S, f1_score_micro, color='indigo')\n",
    "#plt.plot(S, f1_score_weighted, color='blue')\n",
    "#plt.plot(S, f1_score_none, color='red')\n",
    "plt.title('График зависимости F1-меры от уровня дисперсии s')\n",
    "plt.xlabel('Уровень дисперсии s')\n",
    "plt.ylabel('F1-мера')\n",
    "#plt.legend(['f1-macro', 'f1-micro', 'f1-weighted', 'f1-none'])\n",
    "plt.legend(['f1-micro'])\n",
    "plt.show()"
   ]
  },
  {
   "cell_type": "code",
   "execution_count": null,
   "metadata": {
    "colab": {},
    "colab_type": "code",
    "id": "J0s9KP1uppnm"
   },
   "outputs": [],
   "source": [
    "with open('f1-var2.txt', 'w') as f:\n",
    "  for a in f1_score_micro:\n",
    "    f.write(str(a))\n",
    "    f.write('\\n')\n"
   ]
  },
  {
   "cell_type": "code",
   "execution_count": null,
   "metadata": {
    "colab": {
     "base_uri": "https://localhost:8080/",
     "height": 17
    },
    "colab_type": "code",
    "id": "K8SF3fNPskBT",
    "outputId": "7f9f067f-0803-4d43-d996-d3b1e60a7432"
   },
   "outputs": [
    {
     "data": {
      "application/javascript": [
       "\n",
       "    async function download(id, filename, size) {\n",
       "      if (!google.colab.kernel.accessAllowed) {\n",
       "        return;\n",
       "      }\n",
       "      const div = document.createElement('div');\n",
       "      const label = document.createElement('label');\n",
       "      label.textContent = `Downloading \"${filename}\": `;\n",
       "      div.appendChild(label);\n",
       "      const progress = document.createElement('progress');\n",
       "      progress.max = size;\n",
       "      div.appendChild(progress);\n",
       "      document.body.appendChild(div);\n",
       "\n",
       "      const buffers = [];\n",
       "      let downloaded = 0;\n",
       "\n",
       "      const channel = await google.colab.kernel.comms.open(id);\n",
       "      // Send a message to notify the kernel that we're ready.\n",
       "      channel.send({})\n",
       "\n",
       "      for await (const message of channel.messages) {\n",
       "        // Send a message to notify the kernel that we're ready.\n",
       "        channel.send({})\n",
       "        if (message.buffers) {\n",
       "          for (const buffer of message.buffers) {\n",
       "            buffers.push(buffer);\n",
       "            downloaded += buffer.byteLength;\n",
       "            progress.value = downloaded;\n",
       "          }\n",
       "        }\n",
       "      }\n",
       "      const blob = new Blob(buffers, {type: 'application/binary'});\n",
       "      const a = document.createElement('a');\n",
       "      a.href = window.URL.createObjectURL(blob);\n",
       "      a.download = filename;\n",
       "      div.appendChild(a);\n",
       "      a.click();\n",
       "      div.remove();\n",
       "    }\n",
       "  "
      ],
      "text/plain": [
       "<IPython.core.display.Javascript object>"
      ]
     },
     "metadata": {
      "tags": []
     },
     "output_type": "display_data"
    },
    {
     "data": {
      "application/javascript": [
       "download(\"download_2be9060e-8956-491d-a0a1-ebebab542429\", \"f1-var1.txt\", 157)"
      ],
      "text/plain": [
       "<IPython.core.display.Javascript object>"
      ]
     },
     "metadata": {
      "tags": []
     },
     "output_type": "display_data"
    },
    {
     "data": {
      "application/javascript": [
       "\n",
       "    async function download(id, filename, size) {\n",
       "      if (!google.colab.kernel.accessAllowed) {\n",
       "        return;\n",
       "      }\n",
       "      const div = document.createElement('div');\n",
       "      const label = document.createElement('label');\n",
       "      label.textContent = `Downloading \"${filename}\": `;\n",
       "      div.appendChild(label);\n",
       "      const progress = document.createElement('progress');\n",
       "      progress.max = size;\n",
       "      div.appendChild(progress);\n",
       "      document.body.appendChild(div);\n",
       "\n",
       "      const buffers = [];\n",
       "      let downloaded = 0;\n",
       "\n",
       "      const channel = await google.colab.kernel.comms.open(id);\n",
       "      // Send a message to notify the kernel that we're ready.\n",
       "      channel.send({})\n",
       "\n",
       "      for await (const message of channel.messages) {\n",
       "        // Send a message to notify the kernel that we're ready.\n",
       "        channel.send({})\n",
       "        if (message.buffers) {\n",
       "          for (const buffer of message.buffers) {\n",
       "            buffers.push(buffer);\n",
       "            downloaded += buffer.byteLength;\n",
       "            progress.value = downloaded;\n",
       "          }\n",
       "        }\n",
       "      }\n",
       "      const blob = new Blob(buffers, {type: 'application/binary'});\n",
       "      const a = document.createElement('a');\n",
       "      a.href = window.URL.createObjectURL(blob);\n",
       "      a.download = filename;\n",
       "      div.appendChild(a);\n",
       "      a.click();\n",
       "      div.remove();\n",
       "    }\n",
       "  "
      ],
      "text/plain": [
       "<IPython.core.display.Javascript object>"
      ]
     },
     "metadata": {
      "tags": []
     },
     "output_type": "display_data"
    },
    {
     "data": {
      "application/javascript": [
       "download(\"download_bad610fb-f57e-4a6d-8ec7-c4ed7623374a\", \"f1-var2.txt\", 161)"
      ],
      "text/plain": [
       "<IPython.core.display.Javascript object>"
      ]
     },
     "metadata": {
      "tags": []
     },
     "output_type": "display_data"
    }
   ],
   "source": [
    "from google.colab import files\n",
    "files.download('f1-var1.txt')\n",
    "files.download('f1-var2.txt')"
   ]
  },
  {
   "cell_type": "code",
   "execution_count": null,
   "metadata": {
    "colab": {
     "base_uri": "https://localhost:8080/",
     "height": 569
    },
    "colab_type": "code",
    "id": "uNIfQVWuqJEQ",
    "outputId": "a6df45ad-1f4e-4fdc-b024-9b8e65f9ff41"
   },
   "outputs": [
    {
     "data": {
      "text/plain": [
       "([0.9997999866546645,\n",
       "  0.9997999866546645,\n",
       "  0.9997333333280002,\n",
       "  0.9991333863725886,\n",
       "  0.998666686420744,\n",
       "  0.9955339930604721,\n",
       "  0.9823335286528202,\n",
       "  0.9672729232016947,\n",
       "  0.942600776738782,\n",
       "  0.9172853707290393,\n",
       "  0.8915702503038668],\n",
       " [0.9998,\n",
       "  0.9998,\n",
       "  0.9997333333333334,\n",
       "  0.9991333333333333,\n",
       "  0.9986666666666667,\n",
       "  0.9955333333333334,\n",
       "  0.9823333333333333,\n",
       "  0.9672666666666667,\n",
       "  0.9426,\n",
       "  0.9172666666666667,\n",
       "  0.8915333333333333],\n",
       " [0.9997999866546646,\n",
       "  0.9997999866546644,\n",
       "  0.9997333333280001,\n",
       "  0.9991333863725885,\n",
       "  0.9986666864207439,\n",
       "  0.9955339930604719,\n",
       "  0.9823335286528201,\n",
       "  0.9672729232016949,\n",
       "  0.9426007767387818,\n",
       "  0.9172853707290393,\n",
       "  0.8915702503038669])"
      ]
     },
     "execution_count": 126,
     "metadata": {
      "tags": []
     },
     "output_type": "execute_result"
    }
   ],
   "source": [
    "#f1_score_macro, f1_score_micro, f1_score_weighted #, f1_score_none"
   ]
  },
  {
   "cell_type": "code",
   "execution_count": null,
   "metadata": {
    "colab": {
     "base_uri": "https://localhost:8080/",
     "height": 50
    },
    "colab_type": "code",
    "id": "NoG_MM1XuqH7",
    "outputId": "2394bfef-5081-4821-80c7-bcf5d6bf5384"
   },
   "outputs": [
    {
     "data": {
      "text/plain": [
       "array([0.0, 0.5, 1.0, 1.5, 2.0, 2.5, 3.0, 3.5, 4.0, 4.5, 5.0],\n",
       "      dtype=object)"
      ]
     },
     "execution_count": 127,
     "metadata": {
      "tags": []
     },
     "output_type": "execute_result"
    }
   ],
   "source": [
    "S"
   ]
  },
  {
   "cell_type": "code",
   "execution_count": null,
   "metadata": {
    "colab": {
     "base_uri": "https://localhost:8080/",
     "height": 234
    },
    "colab_type": "code",
    "id": "flkAyCyn3dNd",
    "outputId": "ca374fdf-daf5-42c1-b6dc-dd230f66103f"
   },
   "outputs": [
    {
     "name": "stderr",
     "output_type": "stream",
     "text": [
      "/usr/local/lib/python3.6/dist-packages/ipykernel_launcher.py:3: RuntimeWarning: divide by zero encountered in log10\n",
      "  This is separate from the ipykernel package so we can avoid doing imports until\n"
     ]
    },
    {
     "data": {
      "text/plain": [
       "[-inf,\n",
       " -3.010299956639812,\n",
       " 0.0,\n",
       " 1.7609125905568124,\n",
       " 3.010299956639812,\n",
       " 3.979400086720376,\n",
       " 4.771212547196624,\n",
       " 5.440680443502757,\n",
       " 6.020599913279624,\n",
       " 6.532125137753438,\n",
       " 6.989700043360188]"
      ]
     },
     "execution_count": 129,
     "metadata": {
      "tags": []
     },
     "output_type": "execute_result"
    }
   ],
   "source": [
    "Q = []\n",
    "for s in S:\n",
    "  Q.append(10 * np.log10(s))\n",
    "Q"
   ]
  },
  {
   "cell_type": "code",
   "execution_count": null,
   "metadata": {
    "colab": {
     "base_uri": "https://localhost:8080/",
     "height": 262
    },
    "colab_type": "code",
    "id": "NBUtVG91ppVl",
    "outputId": "ddddb2b8-bbce-4d06-efa9-6aa68ead86c7"
   },
   "outputs": [
    {
     "ename": "TypeError",
     "evalue": "ignored",
     "output_type": "error",
     "traceback": [
      "\u001b[0;31m---------------------------------------------------------------------------\u001b[0m",
      "\u001b[0;31mAttributeError\u001b[0m                            Traceback (most recent call last)",
      "\u001b[0;31mAttributeError\u001b[0m: 'float' object has no attribute 'log10'",
      "\nThe above exception was the direct cause of the following exception:\n",
      "\u001b[0;31mTypeError\u001b[0m                                 Traceback (most recent call last)",
      "\u001b[0;32m<ipython-input-128-281610e01f95>\u001b[0m in \u001b[0;36m<module>\u001b[0;34m()\u001b[0m\n\u001b[0;32m----> 1\u001b[0;31m \u001b[0mS\u001b[0m \u001b[0;34m=\u001b[0m \u001b[0;36m10\u001b[0m \u001b[0;34m*\u001b[0m \u001b[0mnp\u001b[0m\u001b[0;34m.\u001b[0m\u001b[0mlog10\u001b[0m\u001b[0;34m(\u001b[0m\u001b[0mS\u001b[0m\u001b[0;34m)\u001b[0m\u001b[0;34m\u001b[0m\u001b[0;34m\u001b[0m\u001b[0m\n\u001b[0m\u001b[1;32m      2\u001b[0m \u001b[0mS\u001b[0m\u001b[0;34m\u001b[0m\u001b[0;34m\u001b[0m\u001b[0m\n",
      "\u001b[0;31mTypeError\u001b[0m: loop of ufunc does not support argument 0 of type float which has no callable log10 method"
     ]
    }
   ],
   "source": [
    "S = 10 * np.log10(S)\n",
    "S"
   ]
  },
  {
   "cell_type": "code",
   "execution_count": null,
   "metadata": {
    "colab": {
     "base_uri": "https://localhost:8080/",
     "height": 458
    },
    "colab_type": "code",
    "id": "GEaSQhHlp3_I",
    "outputId": "ec5a90fc-7b4a-4f07-dccd-5180dd1bb113"
   },
   "outputs": [
    {
     "data": {
      "image/png": "[encoded data removed]",
      "text/plain": [
       "<Figure size 864x504 with 1 Axes>"
      ]
     },
     "metadata": {
      "needs_background": "light",
      "tags": []
     },
     "output_type": "display_data"
    }
   ],
   "source": [
    "plt.figure(figsize=(12, 7))\n",
    "#plt.plot(Q, f1_score_macro, color='orange')\n",
    "plt.plot(Q, f1_score_micro, color='indigo')\n",
    "#plt.plot(Q, f1_score_weighted, color='blue')\n",
    "#plt.plot(S, f1_score_none, color='red')\n",
    "plt.title('График зависимости F1-меры от уровня дисперсии s')\n",
    "plt.xlabel('Уровень дисперсии s, дБ')\n",
    "plt.ylabel('F1-мера')\n",
    "#plt.legend(['f1-macro', 'f1-micro', 'f1-weighted', 'f1-none'])\n",
    "plt.legend(['f1-micro'])\n",
    "plt.show()"
   ]
  },
  {
   "cell_type": "markdown",
   "metadata": {
    "colab_type": "text",
    "id": "NW2h8gHM3_tU"
   },
   "source": [
    "## Генерация нового датасета (с дисперсиями от 1 до 5)"
   ]
  },
  {
   "cell_type": "code",
   "execution_count": null,
   "metadata": {
    "colab": {
     "base_uri": "https://localhost:8080/",
     "height": 33
    },
    "colab_type": "code",
    "id": "WX3NhNynqGon",
    "outputId": "cd40f7d1-6d4a-43b5-c04b-50f9fc756ee6"
   },
   "outputs": [
    {
     "data": {
      "text/plain": [
       "[0.0, 0.5, 1.0, 1.5, 2.0, 2.5, 3.0, 3.5, 4.0, 4.5, 5.0]"
      ]
     },
     "execution_count": 41,
     "metadata": {
      "tags": []
     },
     "output_type": "execute_result"
    }
   ],
   "source": [
    "S = [i / 1000 for i in range(0, 5001, 500)]\n",
    "S"
   ]
  },
  {
   "cell_type": "code",
   "execution_count": null,
   "metadata": {
    "colab": {
     "base_uri": "https://localhost:8080/",
     "height": 47
    },
    "colab_type": "code",
    "id": "X6CCrrqZ4F52",
    "outputId": "96142db1-bf92-498f-bca7-3bd6baaa27f1"
   },
   "outputs": [
    {
     "data": {
      "text/html": [
       "<div>\n",
       "<style scoped>\n",
       "    .dataframe tbody tr th:only-of-type {\n",
       "        vertical-align: middle;\n",
       "    }\n",
       "\n",
       "    .dataframe tbody tr th {\n",
       "        vertical-align: top;\n",
       "    }\n",
       "\n",
       "    .dataframe thead th {\n",
       "        text-align: right;\n",
       "    }\n",
       "</style>\n",
       "<table border=\"1\" class=\"dataframe\">\n",
       "  <thead>\n",
       "    <tr style=\"text-align: right;\">\n",
       "      <th></th>\n",
       "      <th>sample</th>\n",
       "      <th>signal_type</th>\n",
       "      <th>dispersia</th>\n",
       "    </tr>\n",
       "  </thead>\n",
       "  <tbody>\n",
       "  </tbody>\n",
       "</table>\n",
       "</div>"
      ],
      "text/plain": [
       "Empty DataFrame\n",
       "Columns: [sample, signal_type, dispersia]\n",
       "Index: []"
      ]
     },
     "execution_count": 44,
     "metadata": {
      "tags": []
     },
     "output_type": "execute_result"
    }
   ],
   "source": [
    "train_new = pd.DataFrame(columns=['sample', 'signal_type', 'dispersia'])\n",
    "train_new"
   ]
  },
  {
   "cell_type": "code",
   "execution_count": null,
   "metadata": {
    "colab": {
     "base_uri": "https://localhost:8080/",
     "height": 47
    },
    "colab_type": "code",
    "id": "Un2C8ASr4F58",
    "outputId": "5daf8842-0a23-4c8f-ece3-fad0702e8193"
   },
   "outputs": [
    {
     "data": {
      "text/html": [
       "<div>\n",
       "<style scoped>\n",
       "    .dataframe tbody tr th:only-of-type {\n",
       "        vertical-align: middle;\n",
       "    }\n",
       "\n",
       "    .dataframe tbody tr th {\n",
       "        vertical-align: top;\n",
       "    }\n",
       "\n",
       "    .dataframe thead th {\n",
       "        text-align: right;\n",
       "    }\n",
       "</style>\n",
       "<table border=\"1\" class=\"dataframe\">\n",
       "  <thead>\n",
       "    <tr style=\"text-align: right;\">\n",
       "      <th></th>\n",
       "      <th>sample</th>\n",
       "      <th>signal_type</th>\n",
       "      <th>dispersia</th>\n",
       "    </tr>\n",
       "  </thead>\n",
       "  <tbody>\n",
       "  </tbody>\n",
       "</table>\n",
       "</div>"
      ],
      "text/plain": [
       "Empty DataFrame\n",
       "Columns: [sample, signal_type, dispersia]\n",
       "Index: []"
      ]
     },
     "execution_count": 45,
     "metadata": {
      "tags": []
     },
     "output_type": "execute_result"
    }
   ],
   "source": [
    "test_new = pd.DataFrame(columns=['sample', 'signal_type', 'dispersia'])\n",
    "test_new"
   ]
  },
  {
   "cell_type": "code",
   "execution_count": null,
   "metadata": {
    "colab": {
     "base_uri": "https://localhost:8080/",
     "height": 201
    },
    "colab_type": "code",
    "id": "9KueO15s4F6B",
    "outputId": "c864ef56-d044-4d31-d1b8-b908fd6b5e4e"
   },
   "outputs": [
    {
     "name": "stdout",
     "output_type": "stream",
     "text": [
      "0.0\n",
      "0.5\n",
      "1.0\n",
      "1.5\n",
      "2.0\n",
      "2.5\n",
      "3.0\n",
      "3.5\n",
      "4.0\n",
      "4.5\n",
      "5.0\n"
     ]
    }
   ],
   "source": [
    "f0_1 = 0.1\n",
    "f0_2 = 0.1\n",
    "b_1 = 1\n",
    "b_2 = 2\n",
    "s0_1 = 1\n",
    "s0_2 = 1\n",
    "T = np.linspace(0, n / 100, n)\n",
    "\n",
    "row = -1\n",
    "r_test = -1\n",
    "for s in S:\n",
    "  print(s)\n",
    "  for i in range(n_train):\n",
    "    row += 1\n",
    "    noise = norm.rvs(loc=0, scale=1, size=n)\n",
    "    train_new.loc[row, 'sample'] = noise\n",
    "    train_new.loc[row, 'signal_type'] = 0\n",
    "    train_new.loc[row, 'dispersia'] = s\n",
    "  # adding lfm1\n",
    "  for i in range(0, n_train):\n",
    "    row += 1\n",
    "    lfm1 = s0_1 * np.cos(2*np.pi*(f0_1 * T + 0.5 * b_1 * T ** 2)) + norm.rvs(loc=0, scale=s, size=n)\n",
    "    train_new.loc[row, 'sample'] = lfm1\n",
    "    train_new.loc[row, 'signal_type'] = 1\n",
    "    train_new.loc[row, 'dispersia'] = s\n",
    "  #adding lfm2\n",
    "  for i in range(0, n_train):\n",
    "    row += 1\n",
    "    lfm2 = s0_2 * np.cos(2*np.pi*(f0_2 * T + 0.5 * b_2 * T ** 2)) + norm.rvs(loc=0, scale=s, size=n)\n",
    "    train_new.loc[row, 'sample'] = lfm2\n",
    "    train_new.loc[row, 'signal_type'] = 2\n",
    "    train_new.loc[row, 'dispersia'] = s\n",
    "    \n",
    "  # adding noise\n",
    "  for i in range(n_test):\n",
    "    r_test += 1\n",
    "    noise = norm.rvs(loc=0, scale=1, size=n)\n",
    "    test_new.loc[r_test, 'sample'] = noise\n",
    "    test_new.loc[r_test, 'signal_type'] = 0\n",
    "    test_new.loc[r_test, 'dispersia'] = s\n",
    "  # adding lfm1\n",
    "  for i in range(0, n_test):\n",
    "    r_test += 1\n",
    "    lfm1 = s0_1 * np.cos(2*np.pi*(f0_1 * T + 0.5 * b_1 * T ** 2)) + norm.rvs(loc=0, scale=s, size=n)\n",
    "    test_new.loc[r_test, 'sample'] = lfm1\n",
    "    test_new.loc[r_test, 'signal_type'] = 1\n",
    "    test_new.loc[r_test, 'dispersia'] = s\n",
    "  #adding lfm2\n",
    "  for i in range(0, n_test):\n",
    "    r_test += 1\n",
    "    lfm2 = s0_2 * np.cos(2*np.pi*(f0_2 * T + 0.5 * b_2 * T ** 2)) + norm.rvs(loc=0, scale=s, size=n)\n",
    "    test_new.loc[r_test, 'sample'] = lfm2\n",
    "    test_new.loc[r_test, 'signal_type'] = 2\n",
    "    test_new.loc[r_test, 'dispersia'] = s"
   ]
  },
  {
   "cell_type": "code",
   "execution_count": null,
   "metadata": {
    "colab": {
     "base_uri": "https://localhost:8080/",
     "height": 404
    },
    "colab_type": "code",
    "id": "f7Uc1Cy0V4pF",
    "outputId": "1be72d9a-d16c-44d4-80ad-5caa45090f14"
   },
   "outputs": [
    {
     "data": {
      "text/html": [
       "<div>\n",
       "<style scoped>\n",
       "    .dataframe tbody tr th:only-of-type {\n",
       "        vertical-align: middle;\n",
       "    }\n",
       "\n",
       "    .dataframe tbody tr th {\n",
       "        vertical-align: top;\n",
       "    }\n",
       "\n",
       "    .dataframe thead th {\n",
       "        text-align: right;\n",
       "    }\n",
       "</style>\n",
       "<table border=\"1\" class=\"dataframe\">\n",
       "  <thead>\n",
       "    <tr style=\"text-align: right;\">\n",
       "      <th></th>\n",
       "      <th>sample</th>\n",
       "      <th>signal_type</th>\n",
       "      <th>dispersia</th>\n",
       "    </tr>\n",
       "  </thead>\n",
       "  <tbody>\n",
       "    <tr>\n",
       "      <th>0</th>\n",
       "      <td>[-2.1094846008694144, 0.5595312941194855, -0.6...</td>\n",
       "      <td>0</td>\n",
       "      <td>0</td>\n",
       "    </tr>\n",
       "    <tr>\n",
       "      <th>1</th>\n",
       "      <td>[0.13053788983486683, -1.658976706860917, 0.99...</td>\n",
       "      <td>0</td>\n",
       "      <td>0</td>\n",
       "    </tr>\n",
       "    <tr>\n",
       "      <th>2</th>\n",
       "      <td>[-0.17755745250440713, 0.6980120334868901, 0.6...</td>\n",
       "      <td>0</td>\n",
       "      <td>0</td>\n",
       "    </tr>\n",
       "    <tr>\n",
       "      <th>3</th>\n",
       "      <td>[-0.7717860549690645, -1.6593325023819552, -0....</td>\n",
       "      <td>0</td>\n",
       "      <td>0</td>\n",
       "    </tr>\n",
       "    <tr>\n",
       "      <th>4</th>\n",
       "      <td>[1.3947915237888593, 0.7058268271645634, -0.02...</td>\n",
       "      <td>0</td>\n",
       "      <td>0</td>\n",
       "    </tr>\n",
       "    <tr>\n",
       "      <th>...</th>\n",
       "      <td>...</td>\n",
       "      <td>...</td>\n",
       "      <td>...</td>\n",
       "    </tr>\n",
       "    <tr>\n",
       "      <th>164995</th>\n",
       "      <td>[7.951674587325223, -1.611130157231174, -0.523...</td>\n",
       "      <td>2</td>\n",
       "      <td>5</td>\n",
       "    </tr>\n",
       "    <tr>\n",
       "      <th>164996</th>\n",
       "      <td>[-3.482242761056378, 1.2241885418323242, 3.502...</td>\n",
       "      <td>2</td>\n",
       "      <td>5</td>\n",
       "    </tr>\n",
       "    <tr>\n",
       "      <th>164997</th>\n",
       "      <td>[3.1950562339309894, -0.3212032472701627, 1.46...</td>\n",
       "      <td>2</td>\n",
       "      <td>5</td>\n",
       "    </tr>\n",
       "    <tr>\n",
       "      <th>164998</th>\n",
       "      <td>[5.537192604318003, 0.19340844893924292, -5.06...</td>\n",
       "      <td>2</td>\n",
       "      <td>5</td>\n",
       "    </tr>\n",
       "    <tr>\n",
       "      <th>164999</th>\n",
       "      <td>[-1.8995767506508252, -0.9192895977430342, 5.4...</td>\n",
       "      <td>2</td>\n",
       "      <td>5</td>\n",
       "    </tr>\n",
       "  </tbody>\n",
       "</table>\n",
       "<p>165000 rows × 3 columns</p>\n",
       "</div>"
      ],
      "text/plain": [
       "                                                   sample signal_type dispersia\n",
       "0       [-2.1094846008694144, 0.5595312941194855, -0.6...           0         0\n",
       "1       [0.13053788983486683, -1.658976706860917, 0.99...           0         0\n",
       "2       [-0.17755745250440713, 0.6980120334868901, 0.6...           0         0\n",
       "3       [-0.7717860549690645, -1.6593325023819552, -0....           0         0\n",
       "4       [1.3947915237888593, 0.7058268271645634, -0.02...           0         0\n",
       "...                                                   ...         ...       ...\n",
       "164995  [7.951674587325223, -1.611130157231174, -0.523...           2         5\n",
       "164996  [-3.482242761056378, 1.2241885418323242, 3.502...           2         5\n",
       "164997  [3.1950562339309894, -0.3212032472701627, 1.46...           2         5\n",
       "164998  [5.537192604318003, 0.19340844893924292, -5.06...           2         5\n",
       "164999  [-1.8995767506508252, -0.9192895977430342, 5.4...           2         5\n",
       "\n",
       "[165000 rows x 3 columns]"
      ]
     },
     "execution_count": 47,
     "metadata": {
      "tags": []
     },
     "output_type": "execute_result"
    }
   ],
   "source": [
    "test_new"
   ]
  },
  {
   "cell_type": "code",
   "execution_count": null,
   "metadata": {
    "colab": {},
    "colab_type": "code",
    "id": "RBNDh4SvXG2j"
   },
   "outputs": [],
   "source": [
    "train_new.to_excel('train_new_new2.xlsx', index=False)"
   ]
  },
  {
   "cell_type": "code",
   "execution_count": null,
   "metadata": {
    "colab": {},
    "colab_type": "code",
    "id": "ju1N5xoZXWKh"
   },
   "outputs": [],
   "source": [
    "test_new.to_excel('test_new_new2.xlsx', index=False)"
   ]
  },
  {
   "cell_type": "code",
   "execution_count": null,
   "metadata": {
    "colab": {},
    "colab_type": "code",
    "id": "sJm6YRPrXac7"
   },
   "outputs": [],
   "source": [
    "train_new = pd.read_excel('train_new.xlsx')\n",
    "test_new = pd.read_excel('test_new.xlsx')"
   ]
  },
  {
   "cell_type": "code",
   "execution_count": null,
   "metadata": {
    "colab": {
     "base_uri": "https://localhost:8080/",
     "height": 339
    },
    "colab_type": "code",
    "id": "aeGbGJLEqVSN",
    "outputId": "ae04f2de-e446-40a1-8637-8becd3837e4e"
   },
   "outputs": [
    {
     "ename": "TypeError",
     "evalue": "ignored",
     "output_type": "error",
     "traceback": [
      "\u001b[0;31m---------------------------------------------------------------------------\u001b[0m",
      "\u001b[0;31mTypeError\u001b[0m                                 Traceback (most recent call last)",
      "\u001b[0;32m<ipython-input-9-2809edcac579>\u001b[0m in \u001b[0;36m<module>\u001b[0;34m()\u001b[0m\n\u001b[0;32m----> 1\u001b[0;31m \u001b[0mtrain_new\u001b[0m\u001b[0;34m.\u001b[0m\u001b[0mto_hdf\u001b[0m\u001b[0;34m(\u001b[0m\u001b[0;34m'train_new.hdf5'\u001b[0m\u001b[0;34m,\u001b[0m \u001b[0;34m'train_new'\u001b[0m\u001b[0;34m,\u001b[0m \u001b[0mmode\u001b[0m\u001b[0;34m=\u001b[0m\u001b[0;34m'w'\u001b[0m\u001b[0;34m,\u001b[0m \u001b[0mdata_columns\u001b[0m\u001b[0;34m=\u001b[0m\u001b[0;32mTrue\u001b[0m\u001b[0;34m,\u001b[0m \u001b[0mformat\u001b[0m\u001b[0;34m=\u001b[0m\u001b[0;34m'table'\u001b[0m\u001b[0;34m)\u001b[0m\u001b[0;34m\u001b[0m\u001b[0;34m\u001b[0m\u001b[0m\n\u001b[0m\u001b[1;32m      2\u001b[0m \u001b[0mtest_new\u001b[0m\u001b[0;34m.\u001b[0m\u001b[0mto_hdf\u001b[0m\u001b[0;34m(\u001b[0m\u001b[0;34m'test_new.hdf5'\u001b[0m\u001b[0;34m,\u001b[0m \u001b[0;34m'results_table'\u001b[0m\u001b[0;34m,\u001b[0m \u001b[0mmode\u001b[0m\u001b[0;34m=\u001b[0m\u001b[0;34m'w'\u001b[0m\u001b[0;34m,\u001b[0m \u001b[0mdata_columns\u001b[0m\u001b[0;34m=\u001b[0m\u001b[0;32mTrue\u001b[0m\u001b[0;34m,\u001b[0m \u001b[0mformat\u001b[0m\u001b[0;34m=\u001b[0m\u001b[0;34m'table'\u001b[0m\u001b[0;34m)\u001b[0m\u001b[0;34m\u001b[0m\u001b[0;34m\u001b[0m\u001b[0m\n",
      "\u001b[0;32m/usr/local/lib/python3.6/dist-packages/pandas/core/generic.py\u001b[0m in \u001b[0;36mto_hdf\u001b[0;34m(self, path_or_buf, key, mode, complevel, complib, append, format, index, min_itemsize, nan_rep, dropna, data_columns, errors, encoding)\u001b[0m\n\u001b[1;32m   2503\u001b[0m             \u001b[0mdata_columns\u001b[0m\u001b[0;34m=\u001b[0m\u001b[0mdata_columns\u001b[0m\u001b[0;34m,\u001b[0m\u001b[0;34m\u001b[0m\u001b[0;34m\u001b[0m\u001b[0m\n\u001b[1;32m   2504\u001b[0m             \u001b[0merrors\u001b[0m\u001b[0;34m=\u001b[0m\u001b[0merrors\u001b[0m\u001b[0;34m,\u001b[0m\u001b[0;34m\u001b[0m\u001b[0;34m\u001b[0m\u001b[0m\n\u001b[0;32m-> 2505\u001b[0;31m             \u001b[0mencoding\u001b[0m\u001b[0;34m=\u001b[0m\u001b[0mencoding\u001b[0m\u001b[0;34m,\u001b[0m\u001b[0;34m\u001b[0m\u001b[0;34m\u001b[0m\u001b[0m\n\u001b[0m\u001b[1;32m   2506\u001b[0m         )\n\u001b[1;32m   2507\u001b[0m \u001b[0;34m\u001b[0m\u001b[0m\n",
      "\u001b[0;32m/usr/local/lib/python3.6/dist-packages/pandas/io/pytables.py\u001b[0m in \u001b[0;36mto_hdf\u001b[0;34m(path_or_buf, key, value, mode, complevel, complib, append, format, index, min_itemsize, nan_rep, dropna, data_columns, errors, encoding)\u001b[0m\n\u001b[1;32m    280\u001b[0m             \u001b[0mpath_or_buf\u001b[0m\u001b[0;34m,\u001b[0m \u001b[0mmode\u001b[0m\u001b[0;34m=\u001b[0m\u001b[0mmode\u001b[0m\u001b[0;34m,\u001b[0m \u001b[0mcomplevel\u001b[0m\u001b[0;34m=\u001b[0m\u001b[0mcomplevel\u001b[0m\u001b[0;34m,\u001b[0m \u001b[0mcomplib\u001b[0m\u001b[0;34m=\u001b[0m\u001b[0mcomplib\u001b[0m\u001b[0;34m\u001b[0m\u001b[0;34m\u001b[0m\u001b[0m\n\u001b[1;32m    281\u001b[0m         ) as store:\n\u001b[0;32m--> 282\u001b[0;31m             \u001b[0mf\u001b[0m\u001b[0;34m(\u001b[0m\u001b[0mstore\u001b[0m\u001b[0;34m)\u001b[0m\u001b[0;34m\u001b[0m\u001b[0;34m\u001b[0m\u001b[0m\n\u001b[0m\u001b[1;32m    283\u001b[0m     \u001b[0;32melse\u001b[0m\u001b[0;34m:\u001b[0m\u001b[0;34m\u001b[0m\u001b[0;34m\u001b[0m\u001b[0m\n\u001b[1;32m    284\u001b[0m         \u001b[0mf\u001b[0m\u001b[0;34m(\u001b[0m\u001b[0mpath_or_buf\u001b[0m\u001b[0;34m)\u001b[0m\u001b[0;34m\u001b[0m\u001b[0;34m\u001b[0m\u001b[0m\n",
      "\u001b[0;32m/usr/local/lib/python3.6/dist-packages/pandas/io/pytables.py\u001b[0m in \u001b[0;36m<lambda>\u001b[0;34m(store)\u001b[0m\n\u001b[1;32m    272\u001b[0m             \u001b[0mdata_columns\u001b[0m\u001b[0;34m=\u001b[0m\u001b[0mdata_columns\u001b[0m\u001b[0;34m,\u001b[0m\u001b[0;34m\u001b[0m\u001b[0;34m\u001b[0m\u001b[0m\n\u001b[1;32m    273\u001b[0m             \u001b[0merrors\u001b[0m\u001b[0;34m=\u001b[0m\u001b[0merrors\u001b[0m\u001b[0;34m,\u001b[0m\u001b[0;34m\u001b[0m\u001b[0;34m\u001b[0m\u001b[0m\n\u001b[0;32m--> 274\u001b[0;31m             \u001b[0mencoding\u001b[0m\u001b[0;34m=\u001b[0m\u001b[0mencoding\u001b[0m\u001b[0;34m,\u001b[0m\u001b[0;34m\u001b[0m\u001b[0;34m\u001b[0m\u001b[0m\n\u001b[0m\u001b[1;32m    275\u001b[0m         )\n\u001b[1;32m    276\u001b[0m \u001b[0;34m\u001b[0m\u001b[0m\n",
      "\u001b[0;32m/usr/local/lib/python3.6/dist-packages/pandas/io/pytables.py\u001b[0m in \u001b[0;36mput\u001b[0;34m(self, key, value, format, index, append, complib, complevel, min_itemsize, nan_rep, data_columns, encoding, errors)\u001b[0m\n\u001b[1;32m   1040\u001b[0m             \u001b[0mdata_columns\u001b[0m\u001b[0;34m=\u001b[0m\u001b[0mdata_columns\u001b[0m\u001b[0;34m,\u001b[0m\u001b[0;34m\u001b[0m\u001b[0;34m\u001b[0m\u001b[0m\n\u001b[1;32m   1041\u001b[0m             \u001b[0mencoding\u001b[0m\u001b[0;34m=\u001b[0m\u001b[0mencoding\u001b[0m\u001b[0;34m,\u001b[0m\u001b[0;34m\u001b[0m\u001b[0;34m\u001b[0m\u001b[0m\n\u001b[0;32m-> 1042\u001b[0;31m             \u001b[0merrors\u001b[0m\u001b[0;34m=\u001b[0m\u001b[0merrors\u001b[0m\u001b[0;34m,\u001b[0m\u001b[0;34m\u001b[0m\u001b[0;34m\u001b[0m\u001b[0m\n\u001b[0m\u001b[1;32m   1043\u001b[0m         )\n\u001b[1;32m   1044\u001b[0m \u001b[0;34m\u001b[0m\u001b[0m\n",
      "\u001b[0;32m/usr/local/lib/python3.6/dist-packages/pandas/io/pytables.py\u001b[0m in \u001b[0;36m_write_to_group\u001b[0;34m(self, key, value, format, axes, index, append, complib, complevel, fletcher32, min_itemsize, chunksize, expectedrows, dropna, nan_rep, data_columns, encoding, errors)\u001b[0m\n\u001b[1;32m   1707\u001b[0m             \u001b[0mdropna\u001b[0m\u001b[0;34m=\u001b[0m\u001b[0mdropna\u001b[0m\u001b[0;34m,\u001b[0m\u001b[0;34m\u001b[0m\u001b[0;34m\u001b[0m\u001b[0m\n\u001b[1;32m   1708\u001b[0m             \u001b[0mnan_rep\u001b[0m\u001b[0;34m=\u001b[0m\u001b[0mnan_rep\u001b[0m\u001b[0;34m,\u001b[0m\u001b[0;34m\u001b[0m\u001b[0;34m\u001b[0m\u001b[0m\n\u001b[0;32m-> 1709\u001b[0;31m             \u001b[0mdata_columns\u001b[0m\u001b[0;34m=\u001b[0m\u001b[0mdata_columns\u001b[0m\u001b[0;34m,\u001b[0m\u001b[0;34m\u001b[0m\u001b[0;34m\u001b[0m\u001b[0m\n\u001b[0m\u001b[1;32m   1710\u001b[0m         )\n\u001b[1;32m   1711\u001b[0m \u001b[0;34m\u001b[0m\u001b[0m\n",
      "\u001b[0;32m/usr/local/lib/python3.6/dist-packages/pandas/io/pytables.py\u001b[0m in \u001b[0;36mwrite\u001b[0;34m(self, obj, axes, append, complib, complevel, fletcher32, min_itemsize, chunksize, expectedrows, dropna, nan_rep, data_columns)\u001b[0m\n\u001b[1;32m   4141\u001b[0m             \u001b[0mmin_itemsize\u001b[0m\u001b[0;34m=\u001b[0m\u001b[0mmin_itemsize\u001b[0m\u001b[0;34m,\u001b[0m\u001b[0;34m\u001b[0m\u001b[0;34m\u001b[0m\u001b[0m\n\u001b[1;32m   4142\u001b[0m             \u001b[0mnan_rep\u001b[0m\u001b[0;34m=\u001b[0m\u001b[0mnan_rep\u001b[0m\u001b[0;34m,\u001b[0m\u001b[0;34m\u001b[0m\u001b[0;34m\u001b[0m\u001b[0m\n\u001b[0;32m-> 4143\u001b[0;31m             \u001b[0mdata_columns\u001b[0m\u001b[0;34m=\u001b[0m\u001b[0mdata_columns\u001b[0m\u001b[0;34m,\u001b[0m\u001b[0;34m\u001b[0m\u001b[0;34m\u001b[0m\u001b[0m\n\u001b[0m\u001b[1;32m   4144\u001b[0m         )\n\u001b[1;32m   4145\u001b[0m \u001b[0;34m\u001b[0m\u001b[0m\n",
      "\u001b[0;32m/usr/local/lib/python3.6/dist-packages/pandas/io/pytables.py\u001b[0m in \u001b[0;36m_create_axes\u001b[0;34m(self, axes, obj, validate, nan_rep, data_columns, min_itemsize)\u001b[0m\n\u001b[1;32m   3811\u001b[0m                 \u001b[0mnan_rep\u001b[0m\u001b[0;34m=\u001b[0m\u001b[0mnan_rep\u001b[0m\u001b[0;34m,\u001b[0m\u001b[0;34m\u001b[0m\u001b[0;34m\u001b[0m\u001b[0m\n\u001b[1;32m   3812\u001b[0m                 \u001b[0mencoding\u001b[0m\u001b[0;34m=\u001b[0m\u001b[0mself\u001b[0m\u001b[0;34m.\u001b[0m\u001b[0mencoding\u001b[0m\u001b[0;34m,\u001b[0m\u001b[0;34m\u001b[0m\u001b[0;34m\u001b[0m\u001b[0m\n\u001b[0;32m-> 3813\u001b[0;31m                 \u001b[0merrors\u001b[0m\u001b[0;34m=\u001b[0m\u001b[0mself\u001b[0m\u001b[0;34m.\u001b[0m\u001b[0merrors\u001b[0m\u001b[0;34m,\u001b[0m\u001b[0;34m\u001b[0m\u001b[0;34m\u001b[0m\u001b[0m\n\u001b[0m\u001b[1;32m   3814\u001b[0m             )\n\u001b[1;32m   3815\u001b[0m             \u001b[0madj_name\u001b[0m \u001b[0;34m=\u001b[0m \u001b[0m_maybe_adjust_name\u001b[0m\u001b[0;34m(\u001b[0m\u001b[0mnew_name\u001b[0m\u001b[0;34m,\u001b[0m \u001b[0mself\u001b[0m\u001b[0;34m.\u001b[0m\u001b[0mversion\u001b[0m\u001b[0;34m)\u001b[0m\u001b[0;34m\u001b[0m\u001b[0;34m\u001b[0m\u001b[0m\n",
      "\u001b[0;32m/usr/local/lib/python3.6/dist-packages/pandas/io/pytables.py\u001b[0m in \u001b[0;36m_maybe_convert_for_string_atom\u001b[0;34m(name, block, existing_col, min_itemsize, nan_rep, encoding, errors)\u001b[0m\n\u001b[1;32m   4798\u001b[0m         \u001b[0;31m# we cannot serialize this data, so report an exception on a column\u001b[0m\u001b[0;34m\u001b[0m\u001b[0;34m\u001b[0m\u001b[0;34m\u001b[0m\u001b[0m\n\u001b[1;32m   4799\u001b[0m         \u001b[0;31m# by column basis\u001b[0m\u001b[0;34m\u001b[0m\u001b[0;34m\u001b[0m\u001b[0;34m\u001b[0m\u001b[0m\n\u001b[0;32m-> 4800\u001b[0;31m         \u001b[0;32mfor\u001b[0m \u001b[0mi\u001b[0m \u001b[0;32min\u001b[0m \u001b[0mrange\u001b[0m\u001b[0;34m(\u001b[0m\u001b[0mlen\u001b[0m\u001b[0;34m(\u001b[0m\u001b[0mblock\u001b[0m\u001b[0;34m.\u001b[0m\u001b[0mshape\u001b[0m\u001b[0;34m[\u001b[0m\u001b[0;36m0\u001b[0m\u001b[0;34m]\u001b[0m\u001b[0;34m)\u001b[0m\u001b[0;34m)\u001b[0m\u001b[0;34m:\u001b[0m\u001b[0;34m\u001b[0m\u001b[0;34m\u001b[0m\u001b[0m\n\u001b[0m\u001b[1;32m   4801\u001b[0m \u001b[0;34m\u001b[0m\u001b[0m\n\u001b[1;32m   4802\u001b[0m             \u001b[0mcol\u001b[0m \u001b[0;34m=\u001b[0m \u001b[0mblock\u001b[0m\u001b[0;34m.\u001b[0m\u001b[0miget\u001b[0m\u001b[0;34m(\u001b[0m\u001b[0mi\u001b[0m\u001b[0;34m)\u001b[0m\u001b[0;34m\u001b[0m\u001b[0;34m\u001b[0m\u001b[0m\n",
      "\u001b[0;31mTypeError\u001b[0m: object of type 'int' has no len()"
     ]
    }
   ],
   "source": [
    "train_new.to_hdf('train_new.hdf5', 'train_new', mode='w', data_columns=True, format='table')\n",
    "test_new.to_hdf('test_new.hdf5', 'results_table', mode='w', data_columns=True, format='table')"
   ]
  },
  {
   "cell_type": "code",
   "execution_count": null,
   "metadata": {
    "colab": {},
    "colab_type": "code",
    "id": "VUk6B-YPqj7v"
   },
   "outputs": [],
   "source": [
    "from google.colab import files\n",
    "#files.download('train_new.hdf5')\n",
    "#files.download('test_new.hdf5')"
   ]
  },
  {
   "cell_type": "code",
   "execution_count": null,
   "metadata": {
    "colab": {
     "base_uri": "https://localhost:8080/",
     "height": 33
    },
    "colab_type": "code",
    "id": "5vYzabmQqylJ",
    "outputId": "08dc1742-a358-4a42-b816-cbefcb4e780e"
   },
   "outputs": [
    {
     "data": {
      "application/javascript": [
       "\n",
       "    async function download(id, filename, size) {\n",
       "      if (!google.colab.kernel.accessAllowed) {\n",
       "        return;\n",
       "      }\n",
       "      const div = document.createElement('div');\n",
       "      const label = document.createElement('label');\n",
       "      label.textContent = `Downloading \"${filename}\": `;\n",
       "      div.appendChild(label);\n",
       "      const progress = document.createElement('progress');\n",
       "      progress.max = size;\n",
       "      div.appendChild(progress);\n",
       "      document.body.appendChild(div);\n",
       "\n",
       "      const buffers = [];\n",
       "      let downloaded = 0;\n",
       "\n",
       "      const channel = await google.colab.kernel.comms.open(id);\n",
       "      // Send a message to notify the kernel that we're ready.\n",
       "      channel.send({})\n",
       "\n",
       "      for await (const message of channel.messages) {\n",
       "        // Send a message to notify the kernel that we're ready.\n",
       "        channel.send({})\n",
       "        if (message.buffers) {\n",
       "          for (const buffer of message.buffers) {\n",
       "            buffers.push(buffer);\n",
       "            downloaded += buffer.byteLength;\n",
       "            progress.value = downloaded;\n",
       "          }\n",
       "        }\n",
       "      }\n",
       "      const blob = new Blob(buffers, {type: 'application/binary'});\n",
       "      const a = document.createElement('a');\n",
       "      a.href = window.URL.createObjectURL(blob);\n",
       "      a.download = filename;\n",
       "      div.appendChild(a);\n",
       "      a.click();\n",
       "      div.remove();\n",
       "    }\n",
       "  "
      ],
      "text/plain": [
       "<IPython.core.display.Javascript object>"
      ]
     },
     "metadata": {
      "tags": []
     },
     "output_type": "display_data"
    },
    {
     "data": {
      "application/javascript": [
       "download(\"download_fcc21d28-be9c-494d-95ad-8de1888012fb\", \"test_new.xlsx\", 114533640)"
      ],
      "text/plain": [
       "<IPython.core.display.Javascript object>"
      ]
     },
     "metadata": {
      "tags": []
     },
     "output_type": "display_data"
    }
   ],
   "source": [
    "files.download('test_new.xlsx')"
   ]
  },
  {
   "cell_type": "code",
   "execution_count": null,
   "metadata": {
    "colab": {
     "base_uri": "https://localhost:8080/",
     "height": 33
    },
    "colab_type": "code",
    "id": "lrWkxNpQrBOv",
    "outputId": "2897620c-bce4-4b6b-9273-da0d6f46cfd4"
   },
   "outputs": [
    {
     "data": {
      "application/javascript": [
       "\n",
       "    async function download(id, filename, size) {\n",
       "      if (!google.colab.kernel.accessAllowed) {\n",
       "        return;\n",
       "      }\n",
       "      const div = document.createElement('div');\n",
       "      const label = document.createElement('label');\n",
       "      label.textContent = `Downloading \"${filename}\": `;\n",
       "      div.appendChild(label);\n",
       "      const progress = document.createElement('progress');\n",
       "      progress.max = size;\n",
       "      div.appendChild(progress);\n",
       "      document.body.appendChild(div);\n",
       "\n",
       "      const buffers = [];\n",
       "      let downloaded = 0;\n",
       "\n",
       "      const channel = await google.colab.kernel.comms.open(id);\n",
       "      // Send a message to notify the kernel that we're ready.\n",
       "      channel.send({})\n",
       "\n",
       "      for await (const message of channel.messages) {\n",
       "        // Send a message to notify the kernel that we're ready.\n",
       "        channel.send({})\n",
       "        if (message.buffers) {\n",
       "          for (const buffer of message.buffers) {\n",
       "            buffers.push(buffer);\n",
       "            downloaded += buffer.byteLength;\n",
       "            progress.value = downloaded;\n",
       "          }\n",
       "        }\n",
       "      }\n",
       "      const blob = new Blob(buffers, {type: 'application/binary'});\n",
       "      const a = document.createElement('a');\n",
       "      a.href = window.URL.createObjectURL(blob);\n",
       "      a.download = filename;\n",
       "      div.appendChild(a);\n",
       "      a.click();\n",
       "      div.remove();\n",
       "    }\n",
       "  "
      ],
      "text/plain": [
       "<IPython.core.display.Javascript object>"
      ]
     },
     "metadata": {
      "tags": []
     },
     "output_type": "display_data"
    },
    {
     "data": {
      "application/javascript": [
       "download(\"download_613ae125-a2ab-424c-b972-8804f0e63387\", \"train_new.xlsx\", 229038827)"
      ],
      "text/plain": [
       "<IPython.core.display.Javascript object>"
      ]
     },
     "metadata": {
      "tags": []
     },
     "output_type": "display_data"
    }
   ],
   "source": [
    "files.download('train_new.xlsx')"
   ]
  },
  {
   "cell_type": "code",
   "execution_count": null,
   "metadata": {
    "colab": {
     "base_uri": "https://localhost:8080/",
     "height": 33
    },
    "colab_type": "code",
    "id": "FpqOyP3srP4T",
    "outputId": "151e7a59-cf07-4e1d-f605-922ea1e37f5a"
   },
   "outputs": [
    {
     "data": {
      "application/javascript": [
       "\n",
       "    async function download(id, filename, size) {\n",
       "      if (!google.colab.kernel.accessAllowed) {\n",
       "        return;\n",
       "      }\n",
       "      const div = document.createElement('div');\n",
       "      const label = document.createElement('label');\n",
       "      label.textContent = `Downloading \"${filename}\": `;\n",
       "      div.appendChild(label);\n",
       "      const progress = document.createElement('progress');\n",
       "      progress.max = size;\n",
       "      div.appendChild(progress);\n",
       "      document.body.appendChild(div);\n",
       "\n",
       "      const buffers = [];\n",
       "      let downloaded = 0;\n",
       "\n",
       "      const channel = await google.colab.kernel.comms.open(id);\n",
       "      // Send a message to notify the kernel that we're ready.\n",
       "      channel.send({})\n",
       "\n",
       "      for await (const message of channel.messages) {\n",
       "        // Send a message to notify the kernel that we're ready.\n",
       "        channel.send({})\n",
       "        if (message.buffers) {\n",
       "          for (const buffer of message.buffers) {\n",
       "            buffers.push(buffer);\n",
       "            downloaded += buffer.byteLength;\n",
       "            progress.value = downloaded;\n",
       "          }\n",
       "        }\n",
       "      }\n",
       "      const blob = new Blob(buffers, {type: 'application/binary'});\n",
       "      const a = document.createElement('a');\n",
       "      a.href = window.URL.createObjectURL(blob);\n",
       "      a.download = filename;\n",
       "      div.appendChild(a);\n",
       "      a.click();\n",
       "      div.remove();\n",
       "    }\n",
       "  "
      ],
      "text/plain": [
       "<IPython.core.display.Javascript object>"
      ]
     },
     "metadata": {
      "tags": []
     },
     "output_type": "display_data"
    },
    {
     "data": {
      "application/javascript": [
       "download(\"download_2b6ee8d6-c13d-4b90-9ff6-510162e17040\", \"train_new.hdf5\", 1809501260)"
      ],
      "text/plain": [
       "<IPython.core.display.Javascript object>"
      ]
     },
     "metadata": {
      "tags": []
     },
     "output_type": "display_data"
    }
   ],
   "source": [
    "files.download('train_new.hdf5')"
   ]
  },
  {
   "cell_type": "code",
   "execution_count": null,
   "metadata": {
    "colab": {
     "base_uri": "https://localhost:8080/",
     "height": 33
    },
    "colab_type": "code",
    "id": "BoONYyWmsKeT",
    "outputId": "8145b680-1319-467e-a6b5-97dae56602d0"
   },
   "outputs": [
    {
     "data": {
      "application/javascript": [
       "\n",
       "    async function download(id, filename, size) {\n",
       "      if (!google.colab.kernel.accessAllowed) {\n",
       "        return;\n",
       "      }\n",
       "      const div = document.createElement('div');\n",
       "      const label = document.createElement('label');\n",
       "      label.textContent = `Downloading \"${filename}\": `;\n",
       "      div.appendChild(label);\n",
       "      const progress = document.createElement('progress');\n",
       "      progress.max = size;\n",
       "      div.appendChild(progress);\n",
       "      document.body.appendChild(div);\n",
       "\n",
       "      const buffers = [];\n",
       "      let downloaded = 0;\n",
       "\n",
       "      const channel = await google.colab.kernel.comms.open(id);\n",
       "      // Send a message to notify the kernel that we're ready.\n",
       "      channel.send({})\n",
       "\n",
       "      for await (const message of channel.messages) {\n",
       "        // Send a message to notify the kernel that we're ready.\n",
       "        channel.send({})\n",
       "        if (message.buffers) {\n",
       "          for (const buffer of message.buffers) {\n",
       "            buffers.push(buffer);\n",
       "            downloaded += buffer.byteLength;\n",
       "            progress.value = downloaded;\n",
       "          }\n",
       "        }\n",
       "      }\n",
       "      const blob = new Blob(buffers, {type: 'application/binary'});\n",
       "      const a = document.createElement('a');\n",
       "      a.href = window.URL.createObjectURL(blob);\n",
       "      a.download = filename;\n",
       "      div.appendChild(a);\n",
       "      a.click();\n",
       "      div.remove();\n",
       "    }\n",
       "  "
      ],
      "text/plain": [
       "<IPython.core.display.Javascript object>"
      ]
     },
     "metadata": {
      "tags": []
     },
     "output_type": "display_data"
    },
    {
     "data": {
      "application/javascript": [
       "download(\"download_7ca7cd96-b822-4267-b913-e7777032d4bc\", \"test_new.hdf5\", 906105056)"
      ],
      "text/plain": [
       "<IPython.core.display.Javascript object>"
      ]
     },
     "metadata": {
      "tags": []
     },
     "output_type": "display_data"
    }
   ],
   "source": [
    "files.download('test_new.hdf5')"
   ]
  },
  {
   "cell_type": "markdown",
   "metadata": {
    "colab_type": "text",
    "id": "b9Yuk5A2vbqB"
   },
   "source": [
    "## Работа с готовыми наборами значений F1\n"
   ]
  },
  {
   "cell_type": "markdown",
   "metadata": {
    "colab_type": "text",
    "id": "HWb1hU-ZgAHC"
   },
   "source": [
    "#### Случай 1: фаза = 0"
   ]
  },
  {
   "cell_type": "code",
   "execution_count": null,
   "metadata": {
    "colab": {},
    "colab_type": "code",
    "id": "QIEh8oQ2XpJ9"
   },
   "outputs": [],
   "source": [
    "# ans = [0, 1, 2, 0, 1, 2, 0, 2, 1]\n",
    "# pred = [0, 2, 2, 0, 0, 2, 0, 2, 1]\n",
    "# print(f1_score(ans, pred, average='macro'))\n",
    "# print(f1_score(ans, pred, average='micro')) \n",
    "# print(f1_score(ans, pred, average='weighted')) \n",
    "# print(f1_score(ans, pred, average='samples'))"
   ]
  },
  {
   "cell_type": "code",
   "execution_count": null,
   "metadata": {
    "colab": {
     "base_uri": "https://localhost:8080/",
     "height": 67
    },
    "colab_type": "code",
    "id": "DwodFFZ1sZHp",
    "outputId": "58763c99-74f3-4eb1-d676-58cf4e27416c"
   },
   "outputs": [
    {
     "data": {
      "text/plain": [
       "array([1.        , 1.        , 0.99946667, 0.8096    , 0.46106667,\n",
       "       0.35386667, 0.33726667, 0.334     , 0.33353333, 0.33333333,\n",
       "       0.33333333])"
      ]
     },
     "execution_count": 33,
     "metadata": {
      "tags": []
     },
     "output_type": "execute_result"
    }
   ],
   "source": [
    "F1_var1_phi0_0 = []\n",
    "with open('f1-var1.txt', 'r') as f:\n",
    "  F1_var1_phi0_0 = np.array(f.read().split('\\n'))\n",
    "  F1_var1_phi0_0 = F1_var1_phi0_0[:len(F1_var1_phi0_0) - 1].astype(np.float)\n",
    "F1_var1_phi0_0"
   ]
  },
  {
   "cell_type": "code",
   "execution_count": null,
   "metadata": {
    "colab": {
     "base_uri": "https://localhost:8080/",
     "height": 67
    },
    "colab_type": "code",
    "id": "D7AwELFv29fv",
    "outputId": "78200ac2-c703-44ed-a6a5-b878e369b28e"
   },
   "outputs": [
    {
     "data": {
      "text/plain": [
       "array([0.9986    , 0.9988    , 0.99873333, 0.9988    , 0.99906667,\n",
       "       0.99686667, 0.99186667, 0.9822    , 0.97353333, 0.95626667,\n",
       "       0.94506667])"
      ]
     },
     "execution_count": 34,
     "metadata": {
      "tags": []
     },
     "output_type": "execute_result"
    }
   ],
   "source": [
    "F1_var2_phi0_0 = []\n",
    "with open('f1-var2.txt', 'r') as f:\n",
    "  F1_var2_phi0_0 = np.array(f.read().split('\\n'))\n",
    "  F1_var2_phi0_0 = F1_var2_phi0_0[:len(F1_var2_phi0_0) - 1].astype(np.float)\n",
    "F1_var2_phi0_0"
   ]
  },
  {
   "cell_type": "code",
   "execution_count": null,
   "metadata": {
    "colab": {
     "base_uri": "https://localhost:8080/",
     "height": 34
    },
    "colab_type": "code",
    "id": "_dMeRFWotu6r",
    "outputId": "21c4dd93-fc21-48e6-cb95-9a5b605b8909"
   },
   "outputs": [
    {
     "data": {
      "text/plain": [
       "(0.3333333333333333, 0.35386666666666666, 1.0)"
      ]
     },
     "execution_count": 35,
     "metadata": {
      "tags": []
     },
     "output_type": "execute_result"
    }
   ],
   "source": [
    "q5_var1_phi0_0, q50_var1_phi0_0, q95_var1_phi0_0 = np.percentile(F1_var1_phi0_0, [5, 50, 95])\n",
    "q5_var1_phi0_0, q50_var1_phi0_0, q95_var1_phi0_0"
   ]
  },
  {
   "cell_type": "code",
   "execution_count": null,
   "metadata": {
    "colab": {
     "base_uri": "https://localhost:8080/",
     "height": 34
    },
    "colab_type": "code",
    "id": "adnxUfRCsIqD",
    "outputId": "700df282-e855-49d7-bff1-c11ae2b88006"
   },
   "outputs": [
    {
     "data": {
      "text/plain": [
       "(0.9506666666666668, 0.9968666666666667, 0.9989333333333333)"
      ]
     },
     "execution_count": 36,
     "metadata": {
      "tags": []
     },
     "output_type": "execute_result"
    }
   ],
   "source": [
    "q5_var2_phi0_0, q50_var2_phi0_0, q95_var2_phi0_0 = np.percentile(F1_var2_phi0_0, [5, 50, 95])\n",
    "q5_var2_phi0_0, q50_var2_phi0_0, q95_var2_phi0_0"
   ]
  },
  {
   "cell_type": "code",
   "execution_count": null,
   "metadata": {
    "colab": {
     "base_uri": "https://localhost:8080/",
     "height": 34
    },
    "colab_type": "code",
    "id": "vtmlRmZpvl-L",
    "outputId": "01f00bf7-433f-4641-8de0-a47527064799"
   },
   "outputs": [
    {
     "data": {
      "text/plain": [
       "[0.0, 0.5, 1.0, 1.5, 2.0, 2.5, 3.0, 3.5, 4.0, 4.5, 5.0]"
      ]
     },
     "execution_count": 37,
     "metadata": {
      "tags": []
     },
     "output_type": "execute_result"
    }
   ],
   "source": [
    "S = [i / 1000 for i in range(0, 5001, 500)]\n",
    "S"
   ]
  },
  {
   "cell_type": "code",
   "execution_count": null,
   "metadata": {
    "colab": {
     "base_uri": "https://localhost:8080/",
     "height": 458
    },
    "colab_type": "code",
    "id": "hCoJjiOQvl-R",
    "outputId": "577a35c6-d50a-4965-e664-c413fc4587d1"
   },
   "outputs": [
    {
     "data": {
      "image/png": "[encoded data removed]",
      "text/plain": [
       "<Figure size 864x504 with 1 Axes>"
      ]
     },
     "metadata": {
      "needs_background": "light",
      "tags": []
     },
     "output_type": "display_data"
    }
   ],
   "source": [
    "plt.figure(figsize=(12, 7))\n",
    "plt.plot(S, F1_var1_phi0_0, color='indigo', label='F1-micro')\n",
    "plt.axhline(q5_var1_phi0_0, ls='--', c='b', label='5%-percentile')\n",
    "plt.axhline(q50_var1_phi0_0, ls='--', c='g', label='50%-percentile')\n",
    "plt.axhline(q95_var1_phi0_0, ls='--', c='r', label='95%-percentile')\n",
    "#plt.plot(S, F1_var2_phi0_0, color='blue')\n",
    "#plt.plot(S, f1_score_none, color='red')\n",
    "plt.title('График зависимости F1-меры от уровня дисперсии s')\n",
    "plt.xlabel('Уровень дисперсии s')\n",
    "plt.ylabel('F1-мера')\n",
    "plt.legend()\n",
    "#plt.legend(['f1-micro', '5%-percentile', '50%-percentile', '95%-percentile'])\n",
    "plt.show()"
   ]
  },
  {
   "cell_type": "code",
   "execution_count": null,
   "metadata": {
    "colab": {
     "base_uri": "https://localhost:8080/",
     "height": 492
    },
    "colab_type": "code",
    "id": "1RCP6gCLb-8i",
    "outputId": "0998b33c-6883-4c40-8b6e-252ecacabf09"
   },
   "outputs": [
    {
     "name": "stderr",
     "output_type": "stream",
     "text": [
      "/usr/local/lib/python3.6/dist-packages/ipykernel_launcher.py:2: RuntimeWarning: divide by zero encountered in true_divide\n",
      "  \n"
     ]
    },
    {
     "data": {
      "image/png": "[encoded data removed]",
      "text/plain": [
       "<Figure size 864x504 with 1 Axes>"
      ]
     },
     "metadata": {
      "needs_background": "light",
      "tags": []
     },
     "output_type": "display_data"
    }
   ],
   "source": [
    "plt.figure(figsize=(12, 7))\n",
    "S_db = 10 * np.log10(1. / np.array(S))\n",
    "plt.plot(S_db, F1_var1_phi0_0, color='indigo', label='F1-micro')\n",
    "plt.axhline(q5_var1_phi0_0, ls='--', c='b', label='5%-percentile')\n",
    "plt.axhline(q50_var1_phi0_0, ls='--', c='g', label='50%-percentile')\n",
    "plt.axhline(q95_var1_phi0_0, ls='--', c='r', label='95%-percentile')\n",
    "plt.title('График зависимости F1-меры от уровня дисперсии s')\n",
    "plt.xlabel('SNR, дБ')\n",
    "plt.ylabel('F1-мера')\n",
    "#plt.legend(['f1-macro', 'f1-micro', 'f1-weighted', 'f1-none'])\n",
    "plt.legend()\n",
    "plt.show()"
   ]
  },
  {
   "cell_type": "code",
   "execution_count": null,
   "metadata": {
    "colab": {
     "base_uri": "https://localhost:8080/",
     "height": 458
    },
    "colab_type": "code",
    "id": "z9RAKB78snxK",
    "outputId": "66d84cfe-c2d4-4ef4-b9a7-47c3a0ebb973"
   },
   "outputs": [
    {
     "data": {
      "image/png": "[encoded data removed]",
      "text/plain": [
       "<Figure size 864x504 with 1 Axes>"
      ]
     },
     "metadata": {
      "needs_background": "light",
      "tags": []
     },
     "output_type": "display_data"
    }
   ],
   "source": [
    "plt.figure(figsize=(12, 7))\n",
    "plt.plot(S, F1_var2_phi0_0, color='indigo', label='F1-micro')\n",
    "plt.axhline(q5_var2_phi0_0, ls='--', c='b', label='5%-percentile')\n",
    "plt.axhline(q50_var2_phi0_0, ls='--', c='g', label='50%-percentile')\n",
    "plt.axhline(q95_var2_phi0_0, ls='--', c='r', label='95%-percentile')\n",
    "plt.title('График зависимости F1-меры от уровня дисперсии s')\n",
    "plt.xlabel('Уровень дисперсии s')\n",
    "plt.ylabel('F1-мера')\n",
    "#plt.legend(['f1-macro', 'f1-micro', 'f1-weighted', 'f1-none'])\n",
    "plt.legend()\n",
    "plt.show()"
   ]
  },
  {
   "cell_type": "code",
   "execution_count": null,
   "metadata": {
    "colab": {
     "base_uri": "https://localhost:8080/",
     "height": 458
    },
    "colab_type": "code",
    "id": "MCi6quqZs2au",
    "outputId": "6313fd58-97a6-4bb4-8e18-060fa91e5208"
   },
   "outputs": [
    {
     "data": {
      "image/png": "[encoded data removed]",
      "text/plain": [
       "<Figure size 864x504 with 1 Axes>"
      ]
     },
     "metadata": {
      "needs_background": "light",
      "tags": []
     },
     "output_type": "display_data"
    }
   ],
   "source": [
    "plt.figure(figsize=(12, 7))\n",
    "#F1_var2_phi0_0_db = 10 * np.log10(1. / F1_var2_phi0_0) \n",
    "plt.plot(S_db, F1_var2_phi0_0, color='indigo', label='F1-micro')\n",
    "plt.axhline(q5_var2_phi0_0, ls='--', c='b', label='5%-percentile')\n",
    "plt.axhline(q50_var2_phi0_0, ls='--', c='g', label='50%-percentile')\n",
    "plt.axhline(q95_var2_phi0_0, ls='--', c='r', label='95%-percentile')\n",
    "plt.title('График зависимости F1-меры от уровня дисперсии s')\n",
    "plt.xlabel('SNR, дБ')\n",
    "plt.ylabel('F1-мера')\n",
    "#plt.legend(['f1-macro', 'f1-micro', 'f1-weighted', 'f1-none'])\n",
    "plt.legend()\n",
    "plt.show()"
   ]
  },
  {
   "cell_type": "code",
   "execution_count": null,
   "metadata": {
    "colab": {},
    "colab_type": "code",
    "id": "Xg6wyFHRtFEN"
   },
   "outputs": [],
   "source": []
  },
  {
   "cell_type": "code",
   "execution_count": null,
   "metadata": {
    "colab": {},
    "colab_type": "code",
    "id": "K1jrPnm6tTtr"
   },
   "outputs": [],
   "source": []
  },
  {
   "cell_type": "code",
   "execution_count": null,
   "metadata": {
    "colab": {},
    "colab_type": "code",
    "id": "VSi8DzV2tiXI"
   },
   "outputs": [],
   "source": []
  },
  {
   "cell_type": "code",
   "execution_count": null,
   "metadata": {
    "colab": {},
    "colab_type": "code",
    "id": "KGN_YLAwtxAz"
   },
   "outputs": [],
   "source": []
  },
  {
   "cell_type": "markdown",
   "metadata": {
    "colab_type": "text",
    "id": "tOc3zC4EvnHZ"
   },
   "source": [
    "#### Случай 2: фаза случайная"
   ]
  },
  {
   "cell_type": "code",
   "execution_count": null,
   "metadata": {
    "colab": {},
    "colab_type": "code",
    "id": "kMOo-pFwt_qO"
   },
   "outputs": [],
   "source": []
  },
  {
   "cell_type": "code",
   "execution_count": null,
   "metadata": {
    "colab": {
     "base_uri": "https://localhost:8080/",
     "height": 229
    },
    "colab_type": "code",
    "id": "4GvaCBwtgF2w",
    "outputId": "28b8b4ff-fea5-468d-f89d-656bc7445f05"
   },
   "outputs": [
    {
     "ename": "FileNotFoundError",
     "evalue": "ignored",
     "output_type": "error",
     "traceback": [
      "\u001b[0;31m---------------------------------------------------------------------------\u001b[0m",
      "\u001b[0;31mFileNotFoundError\u001b[0m                         Traceback (most recent call last)",
      "\u001b[0;32m<ipython-input-32-541066355c1a>\u001b[0m in \u001b[0;36m<module>\u001b[0;34m()\u001b[0m\n\u001b[1;32m      1\u001b[0m \u001b[0mF1_var1_phi0\u001b[0m \u001b[0;34m=\u001b[0m \u001b[0;34m[\u001b[0m\u001b[0;34m]\u001b[0m\u001b[0;34m\u001b[0m\u001b[0;34m\u001b[0m\u001b[0m\n\u001b[0;32m----> 2\u001b[0;31m \u001b[0;32mwith\u001b[0m \u001b[0mopen\u001b[0m\u001b[0;34m(\u001b[0m\u001b[0;34m'f1-var1_phi0.txt'\u001b[0m\u001b[0;34m,\u001b[0m \u001b[0;34m'r'\u001b[0m\u001b[0;34m)\u001b[0m \u001b[0;32mas\u001b[0m \u001b[0mf\u001b[0m\u001b[0;34m:\u001b[0m\u001b[0;34m\u001b[0m\u001b[0;34m\u001b[0m\u001b[0m\n\u001b[0m\u001b[1;32m      3\u001b[0m   \u001b[0mF1_var1_phi0\u001b[0m \u001b[0;34m=\u001b[0m \u001b[0mnp\u001b[0m\u001b[0;34m.\u001b[0m\u001b[0marray\u001b[0m\u001b[0;34m(\u001b[0m\u001b[0mf\u001b[0m\u001b[0;34m.\u001b[0m\u001b[0mread\u001b[0m\u001b[0;34m(\u001b[0m\u001b[0;34m)\u001b[0m\u001b[0;34m.\u001b[0m\u001b[0msplit\u001b[0m\u001b[0;34m(\u001b[0m\u001b[0;34m'\\n'\u001b[0m\u001b[0;34m)\u001b[0m\u001b[0;34m)\u001b[0m\u001b[0;34m\u001b[0m\u001b[0;34m\u001b[0m\u001b[0m\n\u001b[1;32m      4\u001b[0m   \u001b[0mF1_var1_phi0\u001b[0m \u001b[0;34m=\u001b[0m \u001b[0mF1_var1_phi0\u001b[0m\u001b[0;34m[\u001b[0m\u001b[0;34m:\u001b[0m\u001b[0mlen\u001b[0m\u001b[0;34m(\u001b[0m\u001b[0mF1_var1_phi0\u001b[0m\u001b[0;34m)\u001b[0m \u001b[0;34m-\u001b[0m \u001b[0;36m1\u001b[0m\u001b[0;34m]\u001b[0m\u001b[0;34m.\u001b[0m\u001b[0mastype\u001b[0m\u001b[0;34m(\u001b[0m\u001b[0mnp\u001b[0m\u001b[0;34m.\u001b[0m\u001b[0mfloat\u001b[0m\u001b[0;34m)\u001b[0m\u001b[0;34m\u001b[0m\u001b[0;34m\u001b[0m\u001b[0m\n\u001b[1;32m      5\u001b[0m \u001b[0mF1_var1_phi0\u001b[0m\u001b[0;34m\u001b[0m\u001b[0;34m\u001b[0m\u001b[0m\n",
      "\u001b[0;31mFileNotFoundError\u001b[0m: [Errno 2] No such file or directory: 'f1-var1_phi0.txt'"
     ]
    }
   ],
   "source": [
    "F1_var1_phi0 = []\n",
    "with open('f1-var1_phi0.txt', 'r') as f:\n",
    "  F1_var1_phi0 = np.array(f.read().split('\\n'))\n",
    "  F1_var1_phi0 = F1_var1_phi0[:len(F1_var1_phi0) - 1].astype(np.float)\n",
    "F1_var1_phi0"
   ]
  },
  {
   "cell_type": "code",
   "execution_count": null,
   "metadata": {
    "colab": {},
    "colab_type": "code",
    "id": "DsaxE-MbgF22"
   },
   "outputs": [],
   "source": [
    "F1_var2_phi0 = []\n",
    "with open('f1-var2_phi0.txt', 'r') as f:\n",
    "  F1_var2_phi0 = np.array(f.read().split('\\n'))\n",
    "  F1_var2_phi0 = F1_var2_phi0[:len(F1_var2_phi0) - 1].astype(np.float)\n",
    "F1_var2_phi0"
   ]
  },
  {
   "cell_type": "code",
   "execution_count": null,
   "metadata": {
    "colab": {},
    "colab_type": "code",
    "id": "BQFD5Qc4vgjA"
   },
   "outputs": [],
   "source": []
  },
  {
   "cell_type": "code",
   "execution_count": null,
   "metadata": {
    "colab": {},
    "colab_type": "code",
    "id": "nMN_R80Evs8x"
   },
   "outputs": [],
   "source": [
    "q5_var1_phi0, q50_var1_phi0, q95_var1_phi0 = np.percentile(F1_var1_phi0, [5, 50, 95])\n",
    "q5_var1_phi0, q50_var1_phi0, q95_var1_phi0"
   ]
  },
  {
   "cell_type": "code",
   "execution_count": null,
   "metadata": {
    "colab": {},
    "colab_type": "code",
    "id": "mWdlAVaWvs83"
   },
   "outputs": [],
   "source": [
    "q5_var2_phi0, q50_var2_phi0, q95_var2_phi0 = np.percentile(F1_var2_phi0, [5, 50, 95])\n",
    "q5_var2_phi0, q50_var2_phi0, q95_var2_phi0"
   ]
  },
  {
   "cell_type": "code",
   "execution_count": null,
   "metadata": {
    "colab": {},
    "colab_type": "code",
    "id": "mqNMFoLzgF25"
   },
   "outputs": [],
   "source": [
    "S = [i / 1000 for i in range(0, 5001, 500)]\n",
    "S"
   ]
  },
  {
   "cell_type": "code",
   "execution_count": null,
   "metadata": {
    "colab": {},
    "colab_type": "code",
    "id": "vL4zSk2Jvit7"
   },
   "outputs": [],
   "source": [
    "S_db = 10 * np.log10(1. / np.array(S))\n",
    "S_db "
   ]
  },
  {
   "cell_type": "code",
   "execution_count": null,
   "metadata": {
    "colab": {},
    "colab_type": "code",
    "id": "TTRxoqDOgF28"
   },
   "outputs": [],
   "source": [
    "plt.figure(figsize=(12, 7))\n",
    "plt.plot(S, F1_var1_phi0, color='indigo', label='F1-micro')\n",
    "plt.axhline(q5_var1_phi0, ls='--', c='b', label='5%-percentile')\n",
    "plt.axhline(q50_var1_phi0, ls='--', c='g', label='50%-percentile')\n",
    "plt.axhline(q95_var1_phi0, ls='--', c='r', label='95%-percentile')\n",
    "plt.title('График зависимости F1-меры от уровня дисперсии s')\n",
    "plt.xlabel('Уровень дисперсии s')\n",
    "plt.ylabel('F1-мера')\n",
    "plt.legend(['f1-micro'])\n",
    "plt.show()"
   ]
  },
  {
   "cell_type": "code",
   "execution_count": null,
   "metadata": {
    "colab": {},
    "colab_type": "code",
    "id": "eWpNReQLgF2_"
   },
   "outputs": [],
   "source": [
    "plt.figure(figsize=(12, 7))\n",
    "#F1_var1_phi0_0_db = 10 * np.log10(1. / F1_var1_phi0)\n",
    "plt.plot(S_db, F1_var1_phi0, color='indigo', label='F1-micro')\n",
    "plt.axhline(q5_var1_phi0, ls='--', c='b', label='5%-percentile')\n",
    "plt.axhline(q50_var1_phi0, ls='--', c='g', label='50%-percentile')\n",
    "plt.axhline(q95_var1_phi0, ls='--', c='r', label='95%-percentile')\n",
    "plt.title('График зависимости F1-меры от уровня дисперсии s')\n",
    "plt.xlabel('SNR, дБ')\n",
    "plt.ylabel('F1-мера')\n",
    "plt.legend(['f1-micro'])\n",
    "plt.show()"
   ]
  },
  {
   "cell_type": "code",
   "execution_count": null,
   "metadata": {
    "colab": {},
    "colab_type": "code",
    "id": "HSejCW50gF3C"
   },
   "outputs": [],
   "source": [
    "plt.figure(figsize=(12, 7))\n",
    "plt.plot(S, F1_var2_phi0, color='indigo', label='F1-micro')\n",
    "plt.axhline(q5_var2_phi0, ls='--', c='b', label='5%-percentile')\n",
    "plt.axhline(q50_var2_phi0, ls='--', c='g', label='50%-percentile')\n",
    "plt.axhline(q95_var2_phi0, ls='--', c='r', label='95%-percentile')\n",
    "plt.title('График зависимости F1-меры от уровня дисперсии s')\n",
    "plt.xlabel('Уровень дисперсии s')\n",
    "plt.ylabel('F1-мера')\n",
    "plt.legend(['f1-micro'])\n",
    "plt.show()"
   ]
  },
  {
   "cell_type": "code",
   "execution_count": null,
   "metadata": {
    "colab": {},
    "colab_type": "code",
    "id": "W7m7c3eMgF3E"
   },
   "outputs": [],
   "source": [
    "plt.figure(figsize=(12, 7))\n",
    "#F1_var2_phi0_0_db = 10 * np.log10(1. / F1_var2_phi0) \n",
    "plt.plot(S_db, F1_var2_phi0, color='indigo', label='F1-micro')\n",
    "plt.axhline(q5_var2_phi0, ls='--', c='b', label='5%-percentile')\n",
    "plt.axhline(q50_var2_phi0, ls='--', c='g', label='50%-percentile')\n",
    "plt.axhline(q95_var2_phi0, ls='--', c='r', label='95%-percentile')\n",
    "plt.title('График зависимости F1-меры от уровня дисперсии s')\n",
    "plt.xlabel('SNR, дБ')\n",
    "plt.ylabel('F1-мера')\n",
    "plt.legend(['f1-micro'])\n",
    "plt.show()"
   ]
  },
  {
   "cell_type": "code",
   "execution_count": null,
   "metadata": {
    "colab": {},
    "colab_type": "code",
    "id": "lB2O26WiuOTz"
   },
   "outputs": [],
   "source": []
  },
  {
   "cell_type": "code",
   "execution_count": null,
   "metadata": {
    "colab": {},
    "colab_type": "code",
    "id": "782wW1aJuc9S"
   },
   "outputs": [],
   "source": []
  },
  {
   "cell_type": "code",
   "execution_count": null,
   "metadata": {
    "colab": {},
    "colab_type": "code",
    "id": "Uf84q7z-urms"
   },
   "outputs": [],
   "source": []
  },
  {
   "cell_type": "code",
   "execution_count": null,
   "metadata": {
    "colab": {},
    "colab_type": "code",
    "id": "85WQ0hlGu6QC"
   },
   "outputs": [],
   "source": []
  },
  {
   "cell_type": "code",
   "execution_count": null,
   "metadata": {
    "colab": {},
    "colab_type": "code",
    "id": "fRRZQ6s1reh0"
   },
   "outputs": [],
   "source": []
  },
  {
   "cell_type": "code",
   "execution_count": null,
   "metadata": {
    "colab": {},
    "colab_type": "code",
    "id": "FYefqfR0rtLh"
   },
   "outputs": [],
   "source": [
    "s = \"aaaazfxfxf:-)))fxfx:-())))\"\n",
    "correct_ans = \"aaaazfxfxffxfx))))\"\n"
   ]
  },
  {
   "cell_type": "code",
   "execution_count": null,
   "metadata": {
    "colab": {},
    "colab_type": "code",
    "id": "8CpxoqEyr70y"
   },
   "outputs": [],
   "source": [
    "# delete smiles :, -, ), (\n",
    "def f(s): \n",
    "  ans = ''\n",
    "  flag = True\n",
    "  while flag:\n",
    "    if s.find(':-)') > -1:\n",
    "      ans += s[: s.find(':-)')]\n",
    "      s = s[s.find(':-)') + 3:]\n",
    "      i_symbol = 0\n",
    "      while s[i_symbol] == ')':\n",
    "        i_symbol += 1\n",
    "      s = s[i_symbol:]\n",
    "    elif  s.find(':-(') > -1:\n",
    "      ans += s[: s.find(':-(')]\n",
    "      s = s[s.find(':-(') + 3:]\n",
    "      i_symbol = 0\n",
    "      while s[i_symbol] == '(':\n",
    "        i_symbol += 1\n",
    "      s = s[i_symbol:]\n",
    "    else:\n",
    "      flag = False\n",
    "  ans += s\n",
    "\n",
    "  return ans"
   ]
  },
  {
   "cell_type": "code",
   "execution_count": null,
   "metadata": {
    "colab": {
     "base_uri": "https://localhost:8080/",
     "height": 35
    },
    "colab_type": "code",
    "id": "hCVxa9VXvu24",
    "outputId": "aa3bbfc0-6356-41f3-d897-e3983b96a94f"
   },
   "outputs": [
    {
     "data": {
      "application/vnd.google.colaboratory.intrinsic+json": {
       "type": "string"
      },
      "text/plain": [
       "'aaaazfxfxffxfx))))'"
      ]
     },
     "execution_count": 3,
     "metadata": {
      "tags": []
     },
     "output_type": "execute_result"
    }
   ],
   "source": [
    "ans = f(s)\n",
    "ans"
   ]
  },
  {
   "cell_type": "code",
   "execution_count": null,
   "metadata": {
    "colab": {
     "base_uri": "https://localhost:8080/",
     "height": 34
    },
    "colab_type": "code",
    "id": "zFktUMtHvyhi",
    "outputId": "85334524-3762-4e28-a6d5-7ae1e96dd255"
   },
   "outputs": [
    {
     "data": {
      "text/plain": [
       "True"
      ]
     },
     "execution_count": 4,
     "metadata": {
      "tags": []
     },
     "output_type": "execute_result"
    }
   ],
   "source": [
    "correct_ans == ans"
   ]
  },
  {
   "cell_type": "code",
   "execution_count": null,
   "metadata": {
    "colab": {
     "base_uri": "https://localhost:8080/",
     "height": 34
    },
    "colab_type": "code",
    "id": "IUIs-u5sFMGW",
    "outputId": "d4560d81-e1c7-4c7b-cc87-2f7ede01c70b"
   },
   "outputs": [
    {
     "name": "stdout",
     "output_type": "stream",
     "text": [
      "kdk\n"
     ]
    }
   ],
   "source": [
    "print('kdk')"
   ]
  },
  {
   "cell_type": "code",
   "execution_count": null,
   "metadata": {
    "colab": {
     "base_uri": "https://localhost:8080/",
     "height": 354
    },
    "colab_type": "code",
    "id": "IbkAMaEZFMMR",
    "outputId": "ba1d11a2-a85f-4aa5-a454-a93309803ee8"
   },
   "outputs": [
    {
     "ename": "BadZipFile",
     "evalue": "ignored",
     "output_type": "error",
     "traceback": [
      "\u001b[0;31m---------------------------------------------------------------------------\u001b[0m",
      "\u001b[0;31mBadZipFile\u001b[0m                                Traceback (most recent call last)",
      "\u001b[0;32m<ipython-input-10-e45adf1dc89f>\u001b[0m in \u001b[0;36m<module>\u001b[0;34m()\u001b[0m\n\u001b[1;32m      1\u001b[0m \u001b[0;32mimport\u001b[0m \u001b[0mpandas\u001b[0m \u001b[0;32mas\u001b[0m \u001b[0mpd\u001b[0m\u001b[0;34m\u001b[0m\u001b[0;34m\u001b[0m\u001b[0m\n\u001b[1;32m      2\u001b[0m \u001b[0;34m\u001b[0m\u001b[0m\n\u001b[0;32m----> 3\u001b[0;31m \u001b[0mdf\u001b[0m \u001b[0;34m=\u001b[0m \u001b[0mpd\u001b[0m\u001b[0;34m.\u001b[0m\u001b[0mread_excel\u001b[0m\u001b[0;34m(\u001b[0m\u001b[0;34m'test_to_5.xlsx'\u001b[0m\u001b[0;34m)\u001b[0m\u001b[0;34m\u001b[0m\u001b[0;34m\u001b[0m\u001b[0m\n\u001b[0m\u001b[1;32m      4\u001b[0m \u001b[0mdf\u001b[0m\u001b[0;34m\u001b[0m\u001b[0;34m\u001b[0m\u001b[0m\n",
      "\u001b[0;32m/usr/local/lib/python3.6/dist-packages/pandas/io/excel/_base.py\u001b[0m in \u001b[0;36mread_excel\u001b[0;34m(io, sheet_name, header, names, index_col, usecols, squeeze, dtype, engine, converters, true_values, false_values, skiprows, nrows, na_values, keep_default_na, verbose, parse_dates, date_parser, thousands, comment, skipfooter, convert_float, mangle_dupe_cols, **kwds)\u001b[0m\n\u001b[1;32m    302\u001b[0m \u001b[0;34m\u001b[0m\u001b[0m\n\u001b[1;32m    303\u001b[0m     \u001b[0;32mif\u001b[0m \u001b[0;32mnot\u001b[0m \u001b[0misinstance\u001b[0m\u001b[0;34m(\u001b[0m\u001b[0mio\u001b[0m\u001b[0;34m,\u001b[0m \u001b[0mExcelFile\u001b[0m\u001b[0;34m)\u001b[0m\u001b[0;34m:\u001b[0m\u001b[0;34m\u001b[0m\u001b[0;34m\u001b[0m\u001b[0m\n\u001b[0;32m--> 304\u001b[0;31m         \u001b[0mio\u001b[0m \u001b[0;34m=\u001b[0m \u001b[0mExcelFile\u001b[0m\u001b[0;34m(\u001b[0m\u001b[0mio\u001b[0m\u001b[0;34m,\u001b[0m \u001b[0mengine\u001b[0m\u001b[0;34m=\u001b[0m\u001b[0mengine\u001b[0m\u001b[0;34m)\u001b[0m\u001b[0;34m\u001b[0m\u001b[0;34m\u001b[0m\u001b[0m\n\u001b[0m\u001b[1;32m    305\u001b[0m     \u001b[0;32melif\u001b[0m \u001b[0mengine\u001b[0m \u001b[0;32mand\u001b[0m \u001b[0mengine\u001b[0m \u001b[0;34m!=\u001b[0m \u001b[0mio\u001b[0m\u001b[0;34m.\u001b[0m\u001b[0mengine\u001b[0m\u001b[0;34m:\u001b[0m\u001b[0;34m\u001b[0m\u001b[0;34m\u001b[0m\u001b[0m\n\u001b[1;32m    306\u001b[0m         raise ValueError(\n",
      "\u001b[0;32m/usr/local/lib/python3.6/dist-packages/pandas/io/excel/_base.py\u001b[0m in \u001b[0;36m__init__\u001b[0;34m(self, io, engine)\u001b[0m\n\u001b[1;32m    822\u001b[0m         \u001b[0mself\u001b[0m\u001b[0;34m.\u001b[0m\u001b[0m_io\u001b[0m \u001b[0;34m=\u001b[0m \u001b[0mstringify_path\u001b[0m\u001b[0;34m(\u001b[0m\u001b[0mio\u001b[0m\u001b[0;34m)\u001b[0m\u001b[0;34m\u001b[0m\u001b[0;34m\u001b[0m\u001b[0m\n\u001b[1;32m    823\u001b[0m \u001b[0;34m\u001b[0m\u001b[0m\n\u001b[0;32m--> 824\u001b[0;31m         \u001b[0mself\u001b[0m\u001b[0;34m.\u001b[0m\u001b[0m_reader\u001b[0m \u001b[0;34m=\u001b[0m \u001b[0mself\u001b[0m\u001b[0;34m.\u001b[0m\u001b[0m_engines\u001b[0m\u001b[0;34m[\u001b[0m\u001b[0mengine\u001b[0m\u001b[0;34m]\u001b[0m\u001b[0;34m(\u001b[0m\u001b[0mself\u001b[0m\u001b[0;34m.\u001b[0m\u001b[0m_io\u001b[0m\u001b[0;34m)\u001b[0m\u001b[0;34m\u001b[0m\u001b[0;34m\u001b[0m\u001b[0m\n\u001b[0m\u001b[1;32m    825\u001b[0m \u001b[0;34m\u001b[0m\u001b[0m\n\u001b[1;32m    826\u001b[0m     \u001b[0;32mdef\u001b[0m \u001b[0m__fspath__\u001b[0m\u001b[0;34m(\u001b[0m\u001b[0mself\u001b[0m\u001b[0;34m)\u001b[0m\u001b[0;34m:\u001b[0m\u001b[0;34m\u001b[0m\u001b[0;34m\u001b[0m\u001b[0m\n",
      "\u001b[0;32m/usr/local/lib/python3.6/dist-packages/pandas/io/excel/_xlrd.py\u001b[0m in \u001b[0;36m__init__\u001b[0;34m(self, filepath_or_buffer)\u001b[0m\n\u001b[1;32m     19\u001b[0m         \u001b[0merr_msg\u001b[0m \u001b[0;34m=\u001b[0m \u001b[0;34m\"Install xlrd >= 1.0.0 for Excel support\"\u001b[0m\u001b[0;34m\u001b[0m\u001b[0;34m\u001b[0m\u001b[0m\n\u001b[1;32m     20\u001b[0m         \u001b[0mimport_optional_dependency\u001b[0m\u001b[0;34m(\u001b[0m\u001b[0;34m\"xlrd\"\u001b[0m\u001b[0;34m,\u001b[0m \u001b[0mextra\u001b[0m\u001b[0;34m=\u001b[0m\u001b[0merr_msg\u001b[0m\u001b[0;34m)\u001b[0m\u001b[0;34m\u001b[0m\u001b[0;34m\u001b[0m\u001b[0m\n\u001b[0;32m---> 21\u001b[0;31m         \u001b[0msuper\u001b[0m\u001b[0;34m(\u001b[0m\u001b[0;34m)\u001b[0m\u001b[0;34m.\u001b[0m\u001b[0m__init__\u001b[0m\u001b[0;34m(\u001b[0m\u001b[0mfilepath_or_buffer\u001b[0m\u001b[0;34m)\u001b[0m\u001b[0;34m\u001b[0m\u001b[0;34m\u001b[0m\u001b[0m\n\u001b[0m\u001b[1;32m     22\u001b[0m \u001b[0;34m\u001b[0m\u001b[0m\n\u001b[1;32m     23\u001b[0m     \u001b[0;34m@\u001b[0m\u001b[0mproperty\u001b[0m\u001b[0;34m\u001b[0m\u001b[0;34m\u001b[0m\u001b[0m\n",
      "\u001b[0;32m/usr/local/lib/python3.6/dist-packages/pandas/io/excel/_base.py\u001b[0m in \u001b[0;36m__init__\u001b[0;34m(self, filepath_or_buffer)\u001b[0m\n\u001b[1;32m    351\u001b[0m             \u001b[0mself\u001b[0m\u001b[0;34m.\u001b[0m\u001b[0mbook\u001b[0m \u001b[0;34m=\u001b[0m \u001b[0mself\u001b[0m\u001b[0;34m.\u001b[0m\u001b[0mload_workbook\u001b[0m\u001b[0;34m(\u001b[0m\u001b[0mfilepath_or_buffer\u001b[0m\u001b[0;34m)\u001b[0m\u001b[0;34m\u001b[0m\u001b[0;34m\u001b[0m\u001b[0m\n\u001b[1;32m    352\u001b[0m         \u001b[0;32melif\u001b[0m \u001b[0misinstance\u001b[0m\u001b[0;34m(\u001b[0m\u001b[0mfilepath_or_buffer\u001b[0m\u001b[0;34m,\u001b[0m \u001b[0mstr\u001b[0m\u001b[0;34m)\u001b[0m\u001b[0;34m:\u001b[0m\u001b[0;34m\u001b[0m\u001b[0;34m\u001b[0m\u001b[0m\n\u001b[0;32m--> 353\u001b[0;31m             \u001b[0mself\u001b[0m\u001b[0;34m.\u001b[0m\u001b[0mbook\u001b[0m \u001b[0;34m=\u001b[0m \u001b[0mself\u001b[0m\u001b[0;34m.\u001b[0m\u001b[0mload_workbook\u001b[0m\u001b[0;34m(\u001b[0m\u001b[0mfilepath_or_buffer\u001b[0m\u001b[0;34m)\u001b[0m\u001b[0;34m\u001b[0m\u001b[0;34m\u001b[0m\u001b[0m\n\u001b[0m\u001b[1;32m    354\u001b[0m         \u001b[0;32melif\u001b[0m \u001b[0misinstance\u001b[0m\u001b[0;34m(\u001b[0m\u001b[0mfilepath_or_buffer\u001b[0m\u001b[0;34m,\u001b[0m \u001b[0mbytes\u001b[0m\u001b[0;34m)\u001b[0m\u001b[0;34m:\u001b[0m\u001b[0;34m\u001b[0m\u001b[0;34m\u001b[0m\u001b[0m\n\u001b[1;32m    355\u001b[0m             \u001b[0mself\u001b[0m\u001b[0;34m.\u001b[0m\u001b[0mbook\u001b[0m \u001b[0;34m=\u001b[0m \u001b[0mself\u001b[0m\u001b[0;34m.\u001b[0m\u001b[0mload_workbook\u001b[0m\u001b[0;34m(\u001b[0m\u001b[0mBytesIO\u001b[0m\u001b[0;34m(\u001b[0m\u001b[0mfilepath_or_buffer\u001b[0m\u001b[0;34m)\u001b[0m\u001b[0;34m)\u001b[0m\u001b[0;34m\u001b[0m\u001b[0;34m\u001b[0m\u001b[0m\n",
      "\u001b[0;32m/usr/local/lib/python3.6/dist-packages/pandas/io/excel/_xlrd.py\u001b[0m in \u001b[0;36mload_workbook\u001b[0;34m(self, filepath_or_buffer)\u001b[0m\n\u001b[1;32m     34\u001b[0m             \u001b[0;32mreturn\u001b[0m \u001b[0mopen_workbook\u001b[0m\u001b[0;34m(\u001b[0m\u001b[0mfile_contents\u001b[0m\u001b[0;34m=\u001b[0m\u001b[0mdata\u001b[0m\u001b[0;34m)\u001b[0m\u001b[0;34m\u001b[0m\u001b[0;34m\u001b[0m\u001b[0m\n\u001b[1;32m     35\u001b[0m         \u001b[0;32melse\u001b[0m\u001b[0;34m:\u001b[0m\u001b[0;34m\u001b[0m\u001b[0;34m\u001b[0m\u001b[0m\n\u001b[0;32m---> 36\u001b[0;31m             \u001b[0;32mreturn\u001b[0m \u001b[0mopen_workbook\u001b[0m\u001b[0;34m(\u001b[0m\u001b[0mfilepath_or_buffer\u001b[0m\u001b[0;34m)\u001b[0m\u001b[0;34m\u001b[0m\u001b[0;34m\u001b[0m\u001b[0m\n\u001b[0m\u001b[1;32m     37\u001b[0m \u001b[0;34m\u001b[0m\u001b[0m\n\u001b[1;32m     38\u001b[0m     \u001b[0;34m@\u001b[0m\u001b[0mproperty\u001b[0m\u001b[0;34m\u001b[0m\u001b[0;34m\u001b[0m\u001b[0m\n",
      "\u001b[0;32m/usr/local/lib/python3.6/dist-packages/xlrd/__init__.py\u001b[0m in \u001b[0;36mopen_workbook\u001b[0;34m(filename, logfile, verbosity, use_mmap, file_contents, encoding_override, formatting_info, on_demand, ragged_rows)\u001b[0m\n\u001b[1;32m    141\u001b[0m                 \u001b[0mformatting_info\u001b[0m\u001b[0;34m=\u001b[0m\u001b[0mformatting_info\u001b[0m\u001b[0;34m,\u001b[0m\u001b[0;34m\u001b[0m\u001b[0;34m\u001b[0m\u001b[0m\n\u001b[1;32m    142\u001b[0m                 \u001b[0mon_demand\u001b[0m\u001b[0;34m=\u001b[0m\u001b[0mon_demand\u001b[0m\u001b[0;34m,\u001b[0m\u001b[0;34m\u001b[0m\u001b[0;34m\u001b[0m\u001b[0m\n\u001b[0;32m--> 143\u001b[0;31m                 \u001b[0mragged_rows\u001b[0m\u001b[0;34m=\u001b[0m\u001b[0mragged_rows\u001b[0m\u001b[0;34m,\u001b[0m\u001b[0;34m\u001b[0m\u001b[0;34m\u001b[0m\u001b[0m\n\u001b[0m\u001b[1;32m    144\u001b[0m                 )\n\u001b[1;32m    145\u001b[0m             \u001b[0;32mreturn\u001b[0m \u001b[0mbk\u001b[0m\u001b[0;34m\u001b[0m\u001b[0;34m\u001b[0m\u001b[0m\n",
      "\u001b[0;32m/usr/local/lib/python3.6/dist-packages/xlrd/xlsx.py\u001b[0m in \u001b[0;36mopen_workbook_2007_xml\u001b[0;34m(zf, component_names, logfile, verbosity, use_mmap, formatting_info, on_demand, ragged_rows)\u001b[0m\n\u001b[1;32m    810\u001b[0m     \u001b[0mprops_name\u001b[0m \u001b[0;34m=\u001b[0m \u001b[0;34m'docprops/core.xml'\u001b[0m\u001b[0;34m\u001b[0m\u001b[0;34m\u001b[0m\u001b[0m\n\u001b[1;32m    811\u001b[0m     \u001b[0;32mif\u001b[0m \u001b[0mprops_name\u001b[0m \u001b[0;32min\u001b[0m \u001b[0mcomponent_names\u001b[0m\u001b[0;34m:\u001b[0m\u001b[0;34m\u001b[0m\u001b[0;34m\u001b[0m\u001b[0m\n\u001b[0;32m--> 812\u001b[0;31m         \u001b[0mzflo\u001b[0m \u001b[0;34m=\u001b[0m \u001b[0mzf\u001b[0m\u001b[0;34m.\u001b[0m\u001b[0mopen\u001b[0m\u001b[0;34m(\u001b[0m\u001b[0mcomponent_names\u001b[0m\u001b[0;34m[\u001b[0m\u001b[0mprops_name\u001b[0m\u001b[0;34m]\u001b[0m\u001b[0;34m)\u001b[0m\u001b[0;34m\u001b[0m\u001b[0;34m\u001b[0m\u001b[0m\n\u001b[0m\u001b[1;32m    813\u001b[0m         \u001b[0mx12book\u001b[0m\u001b[0;34m.\u001b[0m\u001b[0mprocess_coreprops\u001b[0m\u001b[0;34m(\u001b[0m\u001b[0mzflo\u001b[0m\u001b[0;34m)\u001b[0m\u001b[0;34m\u001b[0m\u001b[0;34m\u001b[0m\u001b[0m\n\u001b[1;32m    814\u001b[0m \u001b[0;34m\u001b[0m\u001b[0m\n",
      "\u001b[0;32m/usr/lib/python3.6/zipfile.py\u001b[0m in \u001b[0;36mopen\u001b[0;34m(self, name, mode, pwd, force_zip64)\u001b[0m\n\u001b[1;32m   1394\u001b[0m             \u001b[0mfheader\u001b[0m \u001b[0;34m=\u001b[0m \u001b[0mstruct\u001b[0m\u001b[0;34m.\u001b[0m\u001b[0munpack\u001b[0m\u001b[0;34m(\u001b[0m\u001b[0mstructFileHeader\u001b[0m\u001b[0;34m,\u001b[0m \u001b[0mfheader\u001b[0m\u001b[0;34m)\u001b[0m\u001b[0;34m\u001b[0m\u001b[0;34m\u001b[0m\u001b[0m\n\u001b[1;32m   1395\u001b[0m             \u001b[0;32mif\u001b[0m \u001b[0mfheader\u001b[0m\u001b[0;34m[\u001b[0m\u001b[0m_FH_SIGNATURE\u001b[0m\u001b[0;34m]\u001b[0m \u001b[0;34m!=\u001b[0m \u001b[0mstringFileHeader\u001b[0m\u001b[0;34m:\u001b[0m\u001b[0;34m\u001b[0m\u001b[0;34m\u001b[0m\u001b[0m\n\u001b[0;32m-> 1396\u001b[0;31m                 \u001b[0;32mraise\u001b[0m \u001b[0mBadZipFile\u001b[0m\u001b[0;34m(\u001b[0m\u001b[0;34m\"Bad magic number for file header\"\u001b[0m\u001b[0;34m)\u001b[0m\u001b[0;34m\u001b[0m\u001b[0;34m\u001b[0m\u001b[0m\n\u001b[0m\u001b[1;32m   1397\u001b[0m \u001b[0;34m\u001b[0m\u001b[0m\n\u001b[1;32m   1398\u001b[0m             \u001b[0mfname\u001b[0m \u001b[0;34m=\u001b[0m \u001b[0mzef_file\u001b[0m\u001b[0;34m.\u001b[0m\u001b[0mread\u001b[0m\u001b[0;34m(\u001b[0m\u001b[0mfheader\u001b[0m\u001b[0;34m[\u001b[0m\u001b[0m_FH_FILENAME_LENGTH\u001b[0m\u001b[0;34m]\u001b[0m\u001b[0;34m)\u001b[0m\u001b[0;34m\u001b[0m\u001b[0;34m\u001b[0m\u001b[0m\n",
      "\u001b[0;31mBadZipFile\u001b[0m: Bad magic number for file header"
     ]
    }
   ],
   "source": [
    "import pandas as pd\n",
    "\n",
    "df = pd.read_excel('test_to_5.xlsx')\n",
    "df"
   ]
  },
  {
   "cell_type": "code",
   "execution_count": null,
   "metadata": {
    "colab": {
     "base_uri": "https://localhost:8080/",
     "height": 320
    },
    "colab_type": "code",
    "id": "fg2hrmUmv2Vv",
    "outputId": "d050d788-a01e-40a8-9c64-ce85cfc72172"
   },
   "outputs": [
    {
     "ename": "BadZipFile",
     "evalue": "ignored",
     "output_type": "error",
     "traceback": [
      "\u001b[0;31m---------------------------------------------------------------------------\u001b[0m",
      "\u001b[0;31mBadZipFile\u001b[0m                                Traceback (most recent call last)",
      "\u001b[0;32m<ipython-input-8-fd3163d37073>\u001b[0m in \u001b[0;36m<module>\u001b[0;34m()\u001b[0m\n\u001b[0;32m----> 1\u001b[0;31m \u001b[0mdf\u001b[0m \u001b[0;34m=\u001b[0m \u001b[0mpd\u001b[0m\u001b[0;34m.\u001b[0m\u001b[0mread_excel\u001b[0m\u001b[0;34m(\u001b[0m\u001b[0;34m'test_to_5.xlsx'\u001b[0m\u001b[0;34m)\u001b[0m\u001b[0;34m\u001b[0m\u001b[0;34m\u001b[0m\u001b[0m\n\u001b[0m\u001b[1;32m      2\u001b[0m \u001b[0mdf\u001b[0m\u001b[0;34m.\u001b[0m\u001b[0mto_hdf\u001b[0m\u001b[0;34m(\u001b[0m\u001b[0;34m'test_without_phi0.hdf5'\u001b[0m\u001b[0;34m,\u001b[0m \u001b[0;34m'test'\u001b[0m\u001b[0;34m,\u001b[0m \u001b[0mmode\u001b[0m\u001b[0;34m=\u001b[0m\u001b[0;34m'w'\u001b[0m\u001b[0;34m,\u001b[0m \u001b[0mdata_columns\u001b[0m\u001b[0;34m=\u001b[0m\u001b[0;32mTrue\u001b[0m\u001b[0;34m,\u001b[0m \u001b[0mformat\u001b[0m\u001b[0;34m=\u001b[0m\u001b[0;34m'table'\u001b[0m\u001b[0;34m)\u001b[0m\u001b[0;34m\u001b[0m\u001b[0;34m\u001b[0m\u001b[0m\n",
      "\u001b[0;32m/usr/local/lib/python3.6/dist-packages/pandas/io/excel/_base.py\u001b[0m in \u001b[0;36mread_excel\u001b[0;34m(io, sheet_name, header, names, index_col, usecols, squeeze, dtype, engine, converters, true_values, false_values, skiprows, nrows, na_values, keep_default_na, verbose, parse_dates, date_parser, thousands, comment, skipfooter, convert_float, mangle_dupe_cols, **kwds)\u001b[0m\n\u001b[1;32m    302\u001b[0m \u001b[0;34m\u001b[0m\u001b[0m\n\u001b[1;32m    303\u001b[0m     \u001b[0;32mif\u001b[0m \u001b[0;32mnot\u001b[0m \u001b[0misinstance\u001b[0m\u001b[0;34m(\u001b[0m\u001b[0mio\u001b[0m\u001b[0;34m,\u001b[0m \u001b[0mExcelFile\u001b[0m\u001b[0;34m)\u001b[0m\u001b[0;34m:\u001b[0m\u001b[0;34m\u001b[0m\u001b[0;34m\u001b[0m\u001b[0m\n\u001b[0;32m--> 304\u001b[0;31m         \u001b[0mio\u001b[0m \u001b[0;34m=\u001b[0m \u001b[0mExcelFile\u001b[0m\u001b[0;34m(\u001b[0m\u001b[0mio\u001b[0m\u001b[0;34m,\u001b[0m \u001b[0mengine\u001b[0m\u001b[0;34m=\u001b[0m\u001b[0mengine\u001b[0m\u001b[0;34m)\u001b[0m\u001b[0;34m\u001b[0m\u001b[0;34m\u001b[0m\u001b[0m\n\u001b[0m\u001b[1;32m    305\u001b[0m     \u001b[0;32melif\u001b[0m \u001b[0mengine\u001b[0m \u001b[0;32mand\u001b[0m \u001b[0mengine\u001b[0m \u001b[0;34m!=\u001b[0m \u001b[0mio\u001b[0m\u001b[0;34m.\u001b[0m\u001b[0mengine\u001b[0m\u001b[0;34m:\u001b[0m\u001b[0;34m\u001b[0m\u001b[0;34m\u001b[0m\u001b[0m\n\u001b[1;32m    306\u001b[0m         raise ValueError(\n",
      "\u001b[0;32m/usr/local/lib/python3.6/dist-packages/pandas/io/excel/_base.py\u001b[0m in \u001b[0;36m__init__\u001b[0;34m(self, io, engine)\u001b[0m\n\u001b[1;32m    822\u001b[0m         \u001b[0mself\u001b[0m\u001b[0;34m.\u001b[0m\u001b[0m_io\u001b[0m \u001b[0;34m=\u001b[0m \u001b[0mstringify_path\u001b[0m\u001b[0;34m(\u001b[0m\u001b[0mio\u001b[0m\u001b[0;34m)\u001b[0m\u001b[0;34m\u001b[0m\u001b[0;34m\u001b[0m\u001b[0m\n\u001b[1;32m    823\u001b[0m \u001b[0;34m\u001b[0m\u001b[0m\n\u001b[0;32m--> 824\u001b[0;31m         \u001b[0mself\u001b[0m\u001b[0;34m.\u001b[0m\u001b[0m_reader\u001b[0m \u001b[0;34m=\u001b[0m \u001b[0mself\u001b[0m\u001b[0;34m.\u001b[0m\u001b[0m_engines\u001b[0m\u001b[0;34m[\u001b[0m\u001b[0mengine\u001b[0m\u001b[0;34m]\u001b[0m\u001b[0;34m(\u001b[0m\u001b[0mself\u001b[0m\u001b[0;34m.\u001b[0m\u001b[0m_io\u001b[0m\u001b[0;34m)\u001b[0m\u001b[0;34m\u001b[0m\u001b[0;34m\u001b[0m\u001b[0m\n\u001b[0m\u001b[1;32m    825\u001b[0m \u001b[0;34m\u001b[0m\u001b[0m\n\u001b[1;32m    826\u001b[0m     \u001b[0;32mdef\u001b[0m \u001b[0m__fspath__\u001b[0m\u001b[0;34m(\u001b[0m\u001b[0mself\u001b[0m\u001b[0;34m)\u001b[0m\u001b[0;34m:\u001b[0m\u001b[0;34m\u001b[0m\u001b[0;34m\u001b[0m\u001b[0m\n",
      "\u001b[0;32m/usr/local/lib/python3.6/dist-packages/pandas/io/excel/_xlrd.py\u001b[0m in \u001b[0;36m__init__\u001b[0;34m(self, filepath_or_buffer)\u001b[0m\n\u001b[1;32m     19\u001b[0m         \u001b[0merr_msg\u001b[0m \u001b[0;34m=\u001b[0m \u001b[0;34m\"Install xlrd >= 1.0.0 for Excel support\"\u001b[0m\u001b[0;34m\u001b[0m\u001b[0;34m\u001b[0m\u001b[0m\n\u001b[1;32m     20\u001b[0m         \u001b[0mimport_optional_dependency\u001b[0m\u001b[0;34m(\u001b[0m\u001b[0;34m\"xlrd\"\u001b[0m\u001b[0;34m,\u001b[0m \u001b[0mextra\u001b[0m\u001b[0;34m=\u001b[0m\u001b[0merr_msg\u001b[0m\u001b[0;34m)\u001b[0m\u001b[0;34m\u001b[0m\u001b[0;34m\u001b[0m\u001b[0m\n\u001b[0;32m---> 21\u001b[0;31m         \u001b[0msuper\u001b[0m\u001b[0;34m(\u001b[0m\u001b[0;34m)\u001b[0m\u001b[0;34m.\u001b[0m\u001b[0m__init__\u001b[0m\u001b[0;34m(\u001b[0m\u001b[0mfilepath_or_buffer\u001b[0m\u001b[0;34m)\u001b[0m\u001b[0;34m\u001b[0m\u001b[0;34m\u001b[0m\u001b[0m\n\u001b[0m\u001b[1;32m     22\u001b[0m \u001b[0;34m\u001b[0m\u001b[0m\n\u001b[1;32m     23\u001b[0m     \u001b[0;34m@\u001b[0m\u001b[0mproperty\u001b[0m\u001b[0;34m\u001b[0m\u001b[0;34m\u001b[0m\u001b[0m\n",
      "\u001b[0;32m/usr/local/lib/python3.6/dist-packages/pandas/io/excel/_base.py\u001b[0m in \u001b[0;36m__init__\u001b[0;34m(self, filepath_or_buffer)\u001b[0m\n\u001b[1;32m    351\u001b[0m             \u001b[0mself\u001b[0m\u001b[0;34m.\u001b[0m\u001b[0mbook\u001b[0m \u001b[0;34m=\u001b[0m \u001b[0mself\u001b[0m\u001b[0;34m.\u001b[0m\u001b[0mload_workbook\u001b[0m\u001b[0;34m(\u001b[0m\u001b[0mfilepath_or_buffer\u001b[0m\u001b[0;34m)\u001b[0m\u001b[0;34m\u001b[0m\u001b[0;34m\u001b[0m\u001b[0m\n\u001b[1;32m    352\u001b[0m         \u001b[0;32melif\u001b[0m \u001b[0misinstance\u001b[0m\u001b[0;34m(\u001b[0m\u001b[0mfilepath_or_buffer\u001b[0m\u001b[0;34m,\u001b[0m \u001b[0mstr\u001b[0m\u001b[0;34m)\u001b[0m\u001b[0;34m:\u001b[0m\u001b[0;34m\u001b[0m\u001b[0;34m\u001b[0m\u001b[0m\n\u001b[0;32m--> 353\u001b[0;31m             \u001b[0mself\u001b[0m\u001b[0;34m.\u001b[0m\u001b[0mbook\u001b[0m \u001b[0;34m=\u001b[0m \u001b[0mself\u001b[0m\u001b[0;34m.\u001b[0m\u001b[0mload_workbook\u001b[0m\u001b[0;34m(\u001b[0m\u001b[0mfilepath_or_buffer\u001b[0m\u001b[0;34m)\u001b[0m\u001b[0;34m\u001b[0m\u001b[0;34m\u001b[0m\u001b[0m\n\u001b[0m\u001b[1;32m    354\u001b[0m         \u001b[0;32melif\u001b[0m \u001b[0misinstance\u001b[0m\u001b[0;34m(\u001b[0m\u001b[0mfilepath_or_buffer\u001b[0m\u001b[0;34m,\u001b[0m \u001b[0mbytes\u001b[0m\u001b[0;34m)\u001b[0m\u001b[0;34m:\u001b[0m\u001b[0;34m\u001b[0m\u001b[0;34m\u001b[0m\u001b[0m\n\u001b[1;32m    355\u001b[0m             \u001b[0mself\u001b[0m\u001b[0;34m.\u001b[0m\u001b[0mbook\u001b[0m \u001b[0;34m=\u001b[0m \u001b[0mself\u001b[0m\u001b[0;34m.\u001b[0m\u001b[0mload_workbook\u001b[0m\u001b[0;34m(\u001b[0m\u001b[0mBytesIO\u001b[0m\u001b[0;34m(\u001b[0m\u001b[0mfilepath_or_buffer\u001b[0m\u001b[0;34m)\u001b[0m\u001b[0;34m)\u001b[0m\u001b[0;34m\u001b[0m\u001b[0;34m\u001b[0m\u001b[0m\n",
      "\u001b[0;32m/usr/local/lib/python3.6/dist-packages/pandas/io/excel/_xlrd.py\u001b[0m in \u001b[0;36mload_workbook\u001b[0;34m(self, filepath_or_buffer)\u001b[0m\n\u001b[1;32m     34\u001b[0m             \u001b[0;32mreturn\u001b[0m \u001b[0mopen_workbook\u001b[0m\u001b[0;34m(\u001b[0m\u001b[0mfile_contents\u001b[0m\u001b[0;34m=\u001b[0m\u001b[0mdata\u001b[0m\u001b[0;34m)\u001b[0m\u001b[0;34m\u001b[0m\u001b[0;34m\u001b[0m\u001b[0m\n\u001b[1;32m     35\u001b[0m         \u001b[0;32melse\u001b[0m\u001b[0;34m:\u001b[0m\u001b[0;34m\u001b[0m\u001b[0;34m\u001b[0m\u001b[0m\n\u001b[0;32m---> 36\u001b[0;31m             \u001b[0;32mreturn\u001b[0m \u001b[0mopen_workbook\u001b[0m\u001b[0;34m(\u001b[0m\u001b[0mfilepath_or_buffer\u001b[0m\u001b[0;34m)\u001b[0m\u001b[0;34m\u001b[0m\u001b[0;34m\u001b[0m\u001b[0m\n\u001b[0m\u001b[1;32m     37\u001b[0m \u001b[0;34m\u001b[0m\u001b[0m\n\u001b[1;32m     38\u001b[0m     \u001b[0;34m@\u001b[0m\u001b[0mproperty\u001b[0m\u001b[0;34m\u001b[0m\u001b[0;34m\u001b[0m\u001b[0m\n",
      "\u001b[0;32m/usr/local/lib/python3.6/dist-packages/xlrd/__init__.py\u001b[0m in \u001b[0;36mopen_workbook\u001b[0;34m(filename, logfile, verbosity, use_mmap, file_contents, encoding_override, formatting_info, on_demand, ragged_rows)\u001b[0m\n\u001b[1;32m    141\u001b[0m                 \u001b[0mformatting_info\u001b[0m\u001b[0;34m=\u001b[0m\u001b[0mformatting_info\u001b[0m\u001b[0;34m,\u001b[0m\u001b[0;34m\u001b[0m\u001b[0;34m\u001b[0m\u001b[0m\n\u001b[1;32m    142\u001b[0m                 \u001b[0mon_demand\u001b[0m\u001b[0;34m=\u001b[0m\u001b[0mon_demand\u001b[0m\u001b[0;34m,\u001b[0m\u001b[0;34m\u001b[0m\u001b[0;34m\u001b[0m\u001b[0m\n\u001b[0;32m--> 143\u001b[0;31m                 \u001b[0mragged_rows\u001b[0m\u001b[0;34m=\u001b[0m\u001b[0mragged_rows\u001b[0m\u001b[0;34m,\u001b[0m\u001b[0;34m\u001b[0m\u001b[0;34m\u001b[0m\u001b[0m\n\u001b[0m\u001b[1;32m    144\u001b[0m                 )\n\u001b[1;32m    145\u001b[0m             \u001b[0;32mreturn\u001b[0m \u001b[0mbk\u001b[0m\u001b[0;34m\u001b[0m\u001b[0;34m\u001b[0m\u001b[0m\n",
      "\u001b[0;32m/usr/local/lib/python3.6/dist-packages/xlrd/xlsx.py\u001b[0m in \u001b[0;36mopen_workbook_2007_xml\u001b[0;34m(zf, component_names, logfile, verbosity, use_mmap, formatting_info, on_demand, ragged_rows)\u001b[0m\n\u001b[1;32m    810\u001b[0m     \u001b[0mprops_name\u001b[0m \u001b[0;34m=\u001b[0m \u001b[0;34m'docprops/core.xml'\u001b[0m\u001b[0;34m\u001b[0m\u001b[0;34m\u001b[0m\u001b[0m\n\u001b[1;32m    811\u001b[0m     \u001b[0;32mif\u001b[0m \u001b[0mprops_name\u001b[0m \u001b[0;32min\u001b[0m \u001b[0mcomponent_names\u001b[0m\u001b[0;34m:\u001b[0m\u001b[0;34m\u001b[0m\u001b[0;34m\u001b[0m\u001b[0m\n\u001b[0;32m--> 812\u001b[0;31m         \u001b[0mzflo\u001b[0m \u001b[0;34m=\u001b[0m \u001b[0mzf\u001b[0m\u001b[0;34m.\u001b[0m\u001b[0mopen\u001b[0m\u001b[0;34m(\u001b[0m\u001b[0mcomponent_names\u001b[0m\u001b[0;34m[\u001b[0m\u001b[0mprops_name\u001b[0m\u001b[0;34m]\u001b[0m\u001b[0;34m)\u001b[0m\u001b[0;34m\u001b[0m\u001b[0;34m\u001b[0m\u001b[0m\n\u001b[0m\u001b[1;32m    813\u001b[0m         \u001b[0mx12book\u001b[0m\u001b[0;34m.\u001b[0m\u001b[0mprocess_coreprops\u001b[0m\u001b[0;34m(\u001b[0m\u001b[0mzflo\u001b[0m\u001b[0;34m)\u001b[0m\u001b[0;34m\u001b[0m\u001b[0;34m\u001b[0m\u001b[0m\n\u001b[1;32m    814\u001b[0m \u001b[0;34m\u001b[0m\u001b[0m\n",
      "\u001b[0;32m/usr/lib/python3.6/zipfile.py\u001b[0m in \u001b[0;36mopen\u001b[0;34m(self, name, mode, pwd, force_zip64)\u001b[0m\n\u001b[1;32m   1394\u001b[0m             \u001b[0mfheader\u001b[0m \u001b[0;34m=\u001b[0m \u001b[0mstruct\u001b[0m\u001b[0;34m.\u001b[0m\u001b[0munpack\u001b[0m\u001b[0;34m(\u001b[0m\u001b[0mstructFileHeader\u001b[0m\u001b[0;34m,\u001b[0m \u001b[0mfheader\u001b[0m\u001b[0;34m)\u001b[0m\u001b[0;34m\u001b[0m\u001b[0;34m\u001b[0m\u001b[0m\n\u001b[1;32m   1395\u001b[0m             \u001b[0;32mif\u001b[0m \u001b[0mfheader\u001b[0m\u001b[0;34m[\u001b[0m\u001b[0m_FH_SIGNATURE\u001b[0m\u001b[0;34m]\u001b[0m \u001b[0;34m!=\u001b[0m \u001b[0mstringFileHeader\u001b[0m\u001b[0;34m:\u001b[0m\u001b[0;34m\u001b[0m\u001b[0;34m\u001b[0m\u001b[0m\n\u001b[0;32m-> 1396\u001b[0;31m                 \u001b[0;32mraise\u001b[0m \u001b[0mBadZipFile\u001b[0m\u001b[0;34m(\u001b[0m\u001b[0;34m\"Bad magic number for file header\"\u001b[0m\u001b[0;34m)\u001b[0m\u001b[0;34m\u001b[0m\u001b[0;34m\u001b[0m\u001b[0m\n\u001b[0m\u001b[1;32m   1397\u001b[0m \u001b[0;34m\u001b[0m\u001b[0m\n\u001b[1;32m   1398\u001b[0m             \u001b[0mfname\u001b[0m \u001b[0;34m=\u001b[0m \u001b[0mzef_file\u001b[0m\u001b[0;34m.\u001b[0m\u001b[0mread\u001b[0m\u001b[0;34m(\u001b[0m\u001b[0mfheader\u001b[0m\u001b[0;34m[\u001b[0m\u001b[0m_FH_FILENAME_LENGTH\u001b[0m\u001b[0;34m]\u001b[0m\u001b[0;34m)\u001b[0m\u001b[0;34m\u001b[0m\u001b[0;34m\u001b[0m\u001b[0m\n",
      "\u001b[0;31mBadZipFile\u001b[0m: Bad magic number for file header"
     ]
    }
   ],
   "source": [
    "df = pd.read_excel('test_to_5.xlsx')\n",
    "df.to_hdf('test_without_phi0.hdf5', 'test', mode='w', data_columns=True, format='table')"
   ]
  },
  {
   "cell_type": "code",
   "execution_count": null,
   "metadata": {
    "colab": {},
    "colab_type": "code",
    "id": "c-YvpGfTJoMX"
   },
   "outputs": [],
   "source": []
  }
 ],
 "metadata": {
  "colab": {
   "collapsed_sections": [],
   "name": "practice (1).ipynb",
   "provenance": [],
   "toc_visible": true
  },
  "kernelspec": {
   "display_name": "Python 3",
   "language": "python",
   "name": "python3"
  },
  "language_info": {
   "codemirror_mode": {
    "name": "ipython",
    "version": 3
   },
   "file_extension": ".py",
   "mimetype": "text/x-python",
   "name": "python",
   "nbconvert_exporter": "python",
   "pygments_lexer": "ipython3",
   "version": "3.7.7"
  }
 },
 "nbformat": 4,
 "nbformat_minor": 4
}
